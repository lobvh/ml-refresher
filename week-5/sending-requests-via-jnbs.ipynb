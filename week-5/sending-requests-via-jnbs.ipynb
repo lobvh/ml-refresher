{
 "cells": [
  {
   "cell_type": "markdown",
   "id": "fd18a081",
   "metadata": {},
   "source": [
    "We've managed to develop our simple `predict-customer.py` Flask app, and now we want to send the request to it and decode the request to something meaningful which could be sent to a Marketing team that sends the promotional emails. It is not easy from our browser to send the POST request (when you enter manually in your browser `localhost:9696/predict` and press Enter it is doing a GET request), so that is why are we using this to test and 'see' before putting it into final Python script.\n",
    "\n",
    "Flask is a proxy of WSGI server. When you 'run Flask' you are running built-in Werkzeug's development WSGI server, and passing your Flask app's callable. In the context of WSGI, a \"callable\" refers to a Python object (usually a function or a callable class) that the WSGI server can invoke to handle an incoming HTTP request. This callable is the entry point for the WSGI server into your Flask application.\n",
    "\n",
    "\n",
    "We will put another layer on top of Flask app. We will create a `gunicorn` web server locally. Then we will specify to Gunicorn the module and the variable inside that module that represents the WSGI callable. eg. `gunicorn run predict:app`. Essentialy, we are creating locally a WSGI server (Gunicorn) that can handle much more than our 'development server' in terms of security, speed, multiprocessing etc. "
   ]
  },
  {
   "cell_type": "code",
   "execution_count": 1,
   "id": "4438d657",
   "metadata": {},
   "outputs": [],
   "source": [
    "import requests"
   ]
  },
  {
   "cell_type": "code",
   "execution_count": 2,
   "id": "39855e5b",
   "metadata": {},
   "outputs": [],
   "source": [
    "'''URL stands for Uniform Resource Locator. \n",
    "A URL is nothing more than the address of a given unique resource on the Web.\n",
    "In theory, each valid URL points to a unique resource. \n",
    "Such resources can be an HTML page, a CSS document, an image, etc.'''\n",
    "\n",
    "url = 'http://localhost:9696/predict'\n",
    "\n",
    "#We would like to know a particular id of a customer that we want to send an email\n",
    "customer_id = 'xyz-123'\n",
    "customer = {\n",
    "    \"gender\": \"female\",\n",
    "    \"seniorcitizen\": 0,\n",
    "    \"partner\": \"yes\",\n",
    "    \"dependents\": \"no\",\n",
    "    \"phoneservice\": \"no\",\n",
    "    \"multiplelines\": \"no_phone_service\",\n",
    "    \"internetservice\": \"dsl\",\n",
    "    \"onlinesecurity\": \"no\",\n",
    "    \"onlinebackup\": \"yes\",\n",
    "    \"deviceprotection\": \"no\",\n",
    "    \"techsupport\": \"no\",\n",
    "    \"streamingtv\": \"no\",\n",
    "    \"streamingmovies\": \"no\",\n",
    "    \"contract\": \"month-to-month\",\n",
    "    \"paperlessbilling\": \"yes\",\n",
    "    \"paymentmethod\": \"electronic_check\",\n",
    "    \"tenure\": 24,\n",
    "    \"monthlycharges\": 29.85,\n",
    "    \"totalcharges\": (24 * 29.85)\n",
    "}"
   ]
  },
  {
   "cell_type": "code",
   "execution_count": 10,
   "id": "a3d2ca91",
   "metadata": {},
   "outputs": [
    {
     "name": "stdout",
     "output_type": "stream",
     "text": [
      "{'churn': False, 'churn_probability': 0.3257561103425969}\n"
     ]
    }
   ],
   "source": [
    "#This part would send a post request to a url as a JSON version of customer and it will return the response\n",
    "#into response variable. We wan't that response 'decoded' as JSON and hence json().\n",
    "#Indeed we jsonified it in our predict-customer.py.\n",
    "\n",
    "response = requests.post(url, json=customer).json()\n",
    "print(response)"
   ]
  },
  {
   "cell_type": "code",
   "execution_count": 9,
   "id": "9a6748a3",
   "metadata": {},
   "outputs": [
    {
     "name": "stdout",
     "output_type": "stream",
     "text": [
      "Not sending a promotional email to 'xyz-123'.\n"
     ]
    }
   ],
   "source": [
    "#Given the logic of which customers we'll send a promotional email\n",
    "\n",
    "if response['churn'] == True:\n",
    "    print(f\"Sending a promotional email to '{customer_id}'.\")\n",
    "else:\n",
    "    print(f\"Not sending a promotional email to '{customer_id}'.\")"
   ]
  }
 ],
 "metadata": {
  "kernelspec": {
   "display_name": "jupyter-venv",
   "language": "python",
   "name": "jupyter-venv"
  },
  "language_info": {
   "codemirror_mode": {
    "name": "ipython",
    "version": 3
   },
   "file_extension": ".py",
   "mimetype": "text/x-python",
   "name": "python",
   "nbconvert_exporter": "python",
   "pygments_lexer": "ipython3",
   "version": "3.9.7"
  }
 },
 "nbformat": 4,
 "nbformat_minor": 5
}
