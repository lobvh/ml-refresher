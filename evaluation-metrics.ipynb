{
 "cells": [
  {
   "cell_type": "markdown",
   "id": "433e3eaa",
   "metadata": {},
   "source": [
    "In the Week 4 the instructor is mainly speaking about metrics for evaluating how good a model is, and their drawbacks. By the names of the videos I can see that it is going to be mainly about classification metrics, since I'm already familiar with them. \n",
    "\n",
    "We will start off by importing necessary libraries and put the code necesarry just for training the model on which we obtained accuracy of 80%. Refer to details in ```validation-framework.ipynb```. "
   ]
  },
  {
   "cell_type": "code",
   "execution_count": 1,
   "id": "21b4930b",
   "metadata": {},
   "outputs": [],
   "source": [
    "#Importing necessary libraries\n",
    "import pandas as pd\n",
    "import numpy as np\n",
    "import matplotlib.pyplot as plt\n",
    "\n",
    "\n",
    "from sklearn.model_selection import train_test_split\n",
    "from sklearn.feature_extraction import DictVectorizer\n",
    "from sklearn.linear_model import LogisticRegression\n",
    "from sklearn.metrics import accuracy_score\n",
    "\n",
    "from collections import Counter"
   ]
  },
  {
   "cell_type": "code",
   "execution_count": 2,
   "id": "e52d212e",
   "metadata": {},
   "outputs": [
    {
     "data": {
      "text/html": [
       "<div>\n",
       "<style scoped>\n",
       "    .dataframe tbody tr th:only-of-type {\n",
       "        vertical-align: middle;\n",
       "    }\n",
       "\n",
       "    .dataframe tbody tr th {\n",
       "        vertical-align: top;\n",
       "    }\n",
       "\n",
       "    .dataframe thead th {\n",
       "        text-align: right;\n",
       "    }\n",
       "</style>\n",
       "<table border=\"1\" class=\"dataframe\">\n",
       "  <thead>\n",
       "    <tr style=\"text-align: right;\">\n",
       "      <th></th>\n",
       "      <th>customerid</th>\n",
       "      <th>gender</th>\n",
       "      <th>seniorcitizen</th>\n",
       "      <th>partner</th>\n",
       "      <th>dependents</th>\n",
       "      <th>tenure</th>\n",
       "      <th>phoneservice</th>\n",
       "      <th>multiplelines</th>\n",
       "      <th>internetservice</th>\n",
       "      <th>onlinesecurity</th>\n",
       "      <th>...</th>\n",
       "      <th>deviceprotection</th>\n",
       "      <th>techsupport</th>\n",
       "      <th>streamingtv</th>\n",
       "      <th>streamingmovies</th>\n",
       "      <th>contract</th>\n",
       "      <th>paperlessbilling</th>\n",
       "      <th>paymentmethod</th>\n",
       "      <th>monthlycharges</th>\n",
       "      <th>totalcharges</th>\n",
       "      <th>churn</th>\n",
       "    </tr>\n",
       "  </thead>\n",
       "  <tbody>\n",
       "    <tr>\n",
       "      <th>0</th>\n",
       "      <td>7590-vhveg</td>\n",
       "      <td>female</td>\n",
       "      <td>0</td>\n",
       "      <td>yes</td>\n",
       "      <td>no</td>\n",
       "      <td>1</td>\n",
       "      <td>no</td>\n",
       "      <td>no_phone_service</td>\n",
       "      <td>dsl</td>\n",
       "      <td>no</td>\n",
       "      <td>...</td>\n",
       "      <td>no</td>\n",
       "      <td>no</td>\n",
       "      <td>no</td>\n",
       "      <td>no</td>\n",
       "      <td>month-to-month</td>\n",
       "      <td>yes</td>\n",
       "      <td>electronic_check</td>\n",
       "      <td>29.85</td>\n",
       "      <td>29.85</td>\n",
       "      <td>0</td>\n",
       "    </tr>\n",
       "    <tr>\n",
       "      <th>1</th>\n",
       "      <td>5575-gnvde</td>\n",
       "      <td>male</td>\n",
       "      <td>0</td>\n",
       "      <td>no</td>\n",
       "      <td>no</td>\n",
       "      <td>34</td>\n",
       "      <td>yes</td>\n",
       "      <td>no</td>\n",
       "      <td>dsl</td>\n",
       "      <td>yes</td>\n",
       "      <td>...</td>\n",
       "      <td>yes</td>\n",
       "      <td>no</td>\n",
       "      <td>no</td>\n",
       "      <td>no</td>\n",
       "      <td>one_year</td>\n",
       "      <td>no</td>\n",
       "      <td>mailed_check</td>\n",
       "      <td>56.95</td>\n",
       "      <td>1889.50</td>\n",
       "      <td>0</td>\n",
       "    </tr>\n",
       "    <tr>\n",
       "      <th>2</th>\n",
       "      <td>3668-qpybk</td>\n",
       "      <td>male</td>\n",
       "      <td>0</td>\n",
       "      <td>no</td>\n",
       "      <td>no</td>\n",
       "      <td>2</td>\n",
       "      <td>yes</td>\n",
       "      <td>no</td>\n",
       "      <td>dsl</td>\n",
       "      <td>yes</td>\n",
       "      <td>...</td>\n",
       "      <td>no</td>\n",
       "      <td>no</td>\n",
       "      <td>no</td>\n",
       "      <td>no</td>\n",
       "      <td>month-to-month</td>\n",
       "      <td>yes</td>\n",
       "      <td>mailed_check</td>\n",
       "      <td>53.85</td>\n",
       "      <td>108.15</td>\n",
       "      <td>1</td>\n",
       "    </tr>\n",
       "    <tr>\n",
       "      <th>3</th>\n",
       "      <td>7795-cfocw</td>\n",
       "      <td>male</td>\n",
       "      <td>0</td>\n",
       "      <td>no</td>\n",
       "      <td>no</td>\n",
       "      <td>45</td>\n",
       "      <td>no</td>\n",
       "      <td>no_phone_service</td>\n",
       "      <td>dsl</td>\n",
       "      <td>yes</td>\n",
       "      <td>...</td>\n",
       "      <td>yes</td>\n",
       "      <td>yes</td>\n",
       "      <td>no</td>\n",
       "      <td>no</td>\n",
       "      <td>one_year</td>\n",
       "      <td>no</td>\n",
       "      <td>bank_transfer_(automatic)</td>\n",
       "      <td>42.30</td>\n",
       "      <td>1840.75</td>\n",
       "      <td>0</td>\n",
       "    </tr>\n",
       "    <tr>\n",
       "      <th>4</th>\n",
       "      <td>9237-hqitu</td>\n",
       "      <td>female</td>\n",
       "      <td>0</td>\n",
       "      <td>no</td>\n",
       "      <td>no</td>\n",
       "      <td>2</td>\n",
       "      <td>yes</td>\n",
       "      <td>no</td>\n",
       "      <td>fiber_optic</td>\n",
       "      <td>no</td>\n",
       "      <td>...</td>\n",
       "      <td>no</td>\n",
       "      <td>no</td>\n",
       "      <td>no</td>\n",
       "      <td>no</td>\n",
       "      <td>month-to-month</td>\n",
       "      <td>yes</td>\n",
       "      <td>electronic_check</td>\n",
       "      <td>70.70</td>\n",
       "      <td>151.65</td>\n",
       "      <td>1</td>\n",
       "    </tr>\n",
       "  </tbody>\n",
       "</table>\n",
       "<p>5 rows × 21 columns</p>\n",
       "</div>"
      ],
      "text/plain": [
       "   customerid  gender  seniorcitizen partner dependents  tenure phoneservice   \n",
       "0  7590-vhveg  female              0     yes         no       1           no  \\\n",
       "1  5575-gnvde    male              0      no         no      34          yes   \n",
       "2  3668-qpybk    male              0      no         no       2          yes   \n",
       "3  7795-cfocw    male              0      no         no      45           no   \n",
       "4  9237-hqitu  female              0      no         no       2          yes   \n",
       "\n",
       "      multiplelines internetservice onlinesecurity  ... deviceprotection   \n",
       "0  no_phone_service             dsl             no  ...               no  \\\n",
       "1                no             dsl            yes  ...              yes   \n",
       "2                no             dsl            yes  ...               no   \n",
       "3  no_phone_service             dsl            yes  ...              yes   \n",
       "4                no     fiber_optic             no  ...               no   \n",
       "\n",
       "  techsupport streamingtv streamingmovies        contract paperlessbilling   \n",
       "0          no          no              no  month-to-month              yes  \\\n",
       "1          no          no              no        one_year               no   \n",
       "2          no          no              no  month-to-month              yes   \n",
       "3         yes          no              no        one_year               no   \n",
       "4          no          no              no  month-to-month              yes   \n",
       "\n",
       "               paymentmethod monthlycharges  totalcharges  churn  \n",
       "0           electronic_check          29.85         29.85      0  \n",
       "1               mailed_check          56.95       1889.50      0  \n",
       "2               mailed_check          53.85        108.15      1  \n",
       "3  bank_transfer_(automatic)          42.30       1840.75      0  \n",
       "4           electronic_check          70.70        151.65      1  \n",
       "\n",
       "[5 rows x 21 columns]"
      ]
     },
     "execution_count": 2,
     "metadata": {},
     "output_type": "execute_result"
    }
   ],
   "source": [
    "#Data munging is already done, and the data is extracted in 'data-preparation.csv' \n",
    "#so I will just import the already prepared data.\n",
    "\n",
    "RANDOM_STATE = 42\n",
    "df = pd.read_csv('./data/data-preparation.csv')\n",
    "\n",
    "df.head()"
   ]
  },
  {
   "cell_type": "code",
   "execution_count": 3,
   "id": "5c00810b",
   "metadata": {},
   "outputs": [],
   "source": [
    "#Splitting the data\n",
    "df_full_train, df_test = train_test_split(df, test_size=0.2, random_state=RANDOM_STATE)\n",
    "df_train, df_val = train_test_split(df_full_train, test_size=0.25, random_state=RANDOM_STATE)\n",
    "\n",
    "df_train = df_train.reset_index(drop=True)\n",
    "df_val = df_val.reset_index(drop=True)\n",
    "df_test = df_test.reset_index(drop=True)\n",
    "\n",
    "y_train = df_train.churn.values\n",
    "y_val = df_val.churn.values\n",
    "y_test = df_test.churn.values\n",
    "\n",
    "del df_train['churn']\n",
    "del df_val['churn']\n",
    "del df_test['churn']"
   ]
  },
  {
   "cell_type": "code",
   "execution_count": 4,
   "id": "28d2694a",
   "metadata": {},
   "outputs": [],
   "source": [
    "#Assesing categorical vs numerical variables\n",
    "numerical = ['tenure', 'monthlycharges', 'totalcharges']\n",
    "\n",
    "categorical = [\n",
    "    'gender',\n",
    "    'seniorcitizen',\n",
    "    'partner',\n",
    "    'dependents',\n",
    "    'phoneservice',\n",
    "    'multiplelines',\n",
    "    'internetservice',\n",
    "    'onlinesecurity',\n",
    "    'onlinebackup',\n",
    "    'deviceprotection',\n",
    "    'techsupport',\n",
    "    'streamingtv',\n",
    "    'streamingmovies',\n",
    "    'contract',\n",
    "    'paperlessbilling',\n",
    "    'paymentmethod',\n",
    "]"
   ]
  },
  {
   "cell_type": "markdown",
   "id": "f58bcb87",
   "metadata": {},
   "source": [
    "I think here it is worth mentioning that in the previous notebook we've trained on ```df_train_full``` at the very end, but that is the step AFTER tuning our model on validation data and since validation data is used for assesing model performance (as I call it *playground*) we have to take a step back in the Data Science process and work from there. \n",
    "\n",
    "That is why we are training on ```df_train```. "
   ]
  },
  {
   "cell_type": "code",
   "execution_count": 5,
   "id": "aa90002e",
   "metadata": {},
   "outputs": [
    {
     "data": {
      "text/html": [
       "<style>#sk-container-id-1 {color: black;}#sk-container-id-1 pre{padding: 0;}#sk-container-id-1 div.sk-toggleable {background-color: white;}#sk-container-id-1 label.sk-toggleable__label {cursor: pointer;display: block;width: 100%;margin-bottom: 0;padding: 0.3em;box-sizing: border-box;text-align: center;}#sk-container-id-1 label.sk-toggleable__label-arrow:before {content: \"▸\";float: left;margin-right: 0.25em;color: #696969;}#sk-container-id-1 label.sk-toggleable__label-arrow:hover:before {color: black;}#sk-container-id-1 div.sk-estimator:hover label.sk-toggleable__label-arrow:before {color: black;}#sk-container-id-1 div.sk-toggleable__content {max-height: 0;max-width: 0;overflow: hidden;text-align: left;background-color: #f0f8ff;}#sk-container-id-1 div.sk-toggleable__content pre {margin: 0.2em;color: black;border-radius: 0.25em;background-color: #f0f8ff;}#sk-container-id-1 input.sk-toggleable__control:checked~div.sk-toggleable__content {max-height: 200px;max-width: 100%;overflow: auto;}#sk-container-id-1 input.sk-toggleable__control:checked~label.sk-toggleable__label-arrow:before {content: \"▾\";}#sk-container-id-1 div.sk-estimator input.sk-toggleable__control:checked~label.sk-toggleable__label {background-color: #d4ebff;}#sk-container-id-1 div.sk-label input.sk-toggleable__control:checked~label.sk-toggleable__label {background-color: #d4ebff;}#sk-container-id-1 input.sk-hidden--visually {border: 0;clip: rect(1px 1px 1px 1px);clip: rect(1px, 1px, 1px, 1px);height: 1px;margin: -1px;overflow: hidden;padding: 0;position: absolute;width: 1px;}#sk-container-id-1 div.sk-estimator {font-family: monospace;background-color: #f0f8ff;border: 1px dotted black;border-radius: 0.25em;box-sizing: border-box;margin-bottom: 0.5em;}#sk-container-id-1 div.sk-estimator:hover {background-color: #d4ebff;}#sk-container-id-1 div.sk-parallel-item::after {content: \"\";width: 100%;border-bottom: 1px solid gray;flex-grow: 1;}#sk-container-id-1 div.sk-label:hover label.sk-toggleable__label {background-color: #d4ebff;}#sk-container-id-1 div.sk-serial::before {content: \"\";position: absolute;border-left: 1px solid gray;box-sizing: border-box;top: 0;bottom: 0;left: 50%;z-index: 0;}#sk-container-id-1 div.sk-serial {display: flex;flex-direction: column;align-items: center;background-color: white;padding-right: 0.2em;padding-left: 0.2em;position: relative;}#sk-container-id-1 div.sk-item {position: relative;z-index: 1;}#sk-container-id-1 div.sk-parallel {display: flex;align-items: stretch;justify-content: center;background-color: white;position: relative;}#sk-container-id-1 div.sk-item::before, #sk-container-id-1 div.sk-parallel-item::before {content: \"\";position: absolute;border-left: 1px solid gray;box-sizing: border-box;top: 0;bottom: 0;left: 50%;z-index: -1;}#sk-container-id-1 div.sk-parallel-item {display: flex;flex-direction: column;z-index: 1;position: relative;background-color: white;}#sk-container-id-1 div.sk-parallel-item:first-child::after {align-self: flex-end;width: 50%;}#sk-container-id-1 div.sk-parallel-item:last-child::after {align-self: flex-start;width: 50%;}#sk-container-id-1 div.sk-parallel-item:only-child::after {width: 0;}#sk-container-id-1 div.sk-dashed-wrapped {border: 1px dashed gray;margin: 0 0.4em 0.5em 0.4em;box-sizing: border-box;padding-bottom: 0.4em;background-color: white;}#sk-container-id-1 div.sk-label label {font-family: monospace;font-weight: bold;display: inline-block;line-height: 1.2em;}#sk-container-id-1 div.sk-label-container {text-align: center;}#sk-container-id-1 div.sk-container {/* jupyter's `normalize.less` sets `[hidden] { display: none; }` but bootstrap.min.css set `[hidden] { display: none !important; }` so we also need the `!important` here to be able to override the default hidden behavior on the sphinx rendered scikit-learn.org. See: https://github.com/scikit-learn/scikit-learn/issues/21755 */display: inline-block !important;position: relative;}#sk-container-id-1 div.sk-text-repr-fallback {display: none;}</style><div id=\"sk-container-id-1\" class=\"sk-top-container\"><div class=\"sk-text-repr-fallback\"><pre>LogisticRegression(random_state=42, solver=&#x27;liblinear&#x27;)</pre><b>In a Jupyter environment, please rerun this cell to show the HTML representation or trust the notebook. <br />On GitHub, the HTML representation is unable to render, please try loading this page with nbviewer.org.</b></div><div class=\"sk-container\" hidden><div class=\"sk-item\"><div class=\"sk-estimator sk-toggleable\"><input class=\"sk-toggleable__control sk-hidden--visually\" id=\"sk-estimator-id-1\" type=\"checkbox\" checked><label for=\"sk-estimator-id-1\" class=\"sk-toggleable__label sk-toggleable__label-arrow\">LogisticRegression</label><div class=\"sk-toggleable__content\"><pre>LogisticRegression(random_state=42, solver=&#x27;liblinear&#x27;)</pre></div></div></div></div></div>"
      ],
      "text/plain": [
       "LogisticRegression(random_state=42, solver='liblinear')"
      ]
     },
     "execution_count": 5,
     "metadata": {},
     "output_type": "execute_result"
    }
   ],
   "source": [
    "#Preparing the data for model by doing OHE...\n",
    "dv = DictVectorizer(sparse=False)\n",
    "\n",
    "#...and training the Logistic Regression model\n",
    "train_dict = df_train[categorical + numerical].to_dict(orient='records')\n",
    "X_train = dv.fit_transform(train_dict)\n",
    "\n",
    "model = LogisticRegression(solver='liblinear', random_state=RANDOM_STATE)\n",
    "model.fit(X_train, y_train)"
   ]
  },
  {
   "cell_type": "markdown",
   "id": "60ff0236",
   "metadata": {},
   "source": [
    "Remember, last time that we spoke a bit on *cut-off probability*. Once the model learned weights and bias term we gave it validation data as input and obtained probabilities that the model infered on that data.\n",
    "\n",
    "We said explicitly that cut-off probability is 0.5 (which is a default one for Logistic Regression) and we said that everything above that probability will be considered as **customer will churn** (we will put 1 there), while conversely everything lower than that would mean **the customer wont churn** (we will put 0 there).\n",
    "And, we obtained those *hard predictions* and put them in a NumPy array ```churn_decision```. \n",
    "\n",
    "Here is the code for that:"
   ]
  },
  {
   "cell_type": "code",
   "execution_count": 6,
   "id": "41ac2a50",
   "metadata": {},
   "outputs": [],
   "source": [
    "val_dict = df_val[categorical + numerical].to_dict(orient='records')\n",
    "X_val = dv.transform(val_dict)\n",
    "\n",
    "y_pred = model.predict_proba(X_val)[:, 1]\n",
    "churn_decision = (y_pred >= 0.5)"
   ]
  },
  {
   "cell_type": "code",
   "execution_count": 7,
   "id": "9f121e59",
   "metadata": {},
   "outputs": [
    {
     "data": {
      "text/plain": [
       "numpy.ndarray"
      ]
     },
     "execution_count": 7,
     "metadata": {},
     "output_type": "execute_result"
    }
   ],
   "source": [
    "type(churn_decision)"
   ]
  },
  {
   "cell_type": "markdown",
   "id": "ba67e316",
   "metadata": {},
   "source": [
    "So, what are the potential drawbacks on this? Well, we are lucky enough to know there are ground truths for churning in the validation data (```y_val```), and we can compare them with the 'hard predictions' we assesed using 0.5 as a cut-off probability (```churn_decision```). Pay close attention to **compare them**. \n",
    "\n",
    "Don't fall into trap thinking 'it is only for churned customers'. No, by using 0.5 as a cut-off probability we are also assesing predictions for the customers that didn't churn. We don't want model to just predict good on those who will churn, or only on those who wont. We want a well-rounded model. We put the money in knowing that model as *a decision maker* will serve us well for both. I want to send a promotional email for those who are willing to churn, not loose money on those who wont. They are satisfied! \n",
    "\n",
    "Here is a DataFrame I've created previously to get a better picture of what I'm trying to say:"
   ]
  },
  {
   "cell_type": "code",
   "execution_count": 8,
   "id": "a6770023",
   "metadata": {},
   "outputs": [
    {
     "data": {
      "text/html": [
       "<div>\n",
       "<style scoped>\n",
       "    .dataframe tbody tr th:only-of-type {\n",
       "        vertical-align: middle;\n",
       "    }\n",
       "\n",
       "    .dataframe tbody tr th {\n",
       "        vertical-align: top;\n",
       "    }\n",
       "\n",
       "    .dataframe thead th {\n",
       "        text-align: right;\n",
       "    }\n",
       "</style>\n",
       "<table border=\"1\" class=\"dataframe\">\n",
       "  <thead>\n",
       "    <tr style=\"text-align: right;\">\n",
       "      <th></th>\n",
       "      <th>probability</th>\n",
       "      <th>actual</th>\n",
       "      <th>prediction</th>\n",
       "      <th>correct</th>\n",
       "    </tr>\n",
       "  </thead>\n",
       "  <tbody>\n",
       "    <tr>\n",
       "      <th>1399</th>\n",
       "      <td>0.070878</td>\n",
       "      <td>0</td>\n",
       "      <td>0</td>\n",
       "      <td>True</td>\n",
       "    </tr>\n",
       "    <tr>\n",
       "      <th>1400</th>\n",
       "      <td>0.681527</td>\n",
       "      <td>1</td>\n",
       "      <td>1</td>\n",
       "      <td>True</td>\n",
       "    </tr>\n",
       "    <tr>\n",
       "      <th>1401</th>\n",
       "      <td>0.629268</td>\n",
       "      <td>0</td>\n",
       "      <td>1</td>\n",
       "      <td>False</td>\n",
       "    </tr>\n",
       "    <tr>\n",
       "      <th>1402</th>\n",
       "      <td>0.035397</td>\n",
       "      <td>0</td>\n",
       "      <td>0</td>\n",
       "      <td>True</td>\n",
       "    </tr>\n",
       "    <tr>\n",
       "      <th>1403</th>\n",
       "      <td>0.060248</td>\n",
       "      <td>0</td>\n",
       "      <td>0</td>\n",
       "      <td>True</td>\n",
       "    </tr>\n",
       "    <tr>\n",
       "      <th>1404</th>\n",
       "      <td>0.067729</td>\n",
       "      <td>1</td>\n",
       "      <td>0</td>\n",
       "      <td>False</td>\n",
       "    </tr>\n",
       "    <tr>\n",
       "      <th>1405</th>\n",
       "      <td>0.315531</td>\n",
       "      <td>0</td>\n",
       "      <td>0</td>\n",
       "      <td>True</td>\n",
       "    </tr>\n",
       "    <tr>\n",
       "      <th>1406</th>\n",
       "      <td>0.713464</td>\n",
       "      <td>1</td>\n",
       "      <td>1</td>\n",
       "      <td>True</td>\n",
       "    </tr>\n",
       "    <tr>\n",
       "      <th>1407</th>\n",
       "      <td>0.050559</td>\n",
       "      <td>0</td>\n",
       "      <td>0</td>\n",
       "      <td>True</td>\n",
       "    </tr>\n",
       "    <tr>\n",
       "      <th>1408</th>\n",
       "      <td>0.036023</td>\n",
       "      <td>0</td>\n",
       "      <td>0</td>\n",
       "      <td>True</td>\n",
       "    </tr>\n",
       "  </tbody>\n",
       "</table>\n",
       "</div>"
      ],
      "text/plain": [
       "      probability  actual  prediction  correct\n",
       "1399     0.070878       0           0     True\n",
       "1400     0.681527       1           1     True\n",
       "1401     0.629268       0           1    False\n",
       "1402     0.035397       0           0     True\n",
       "1403     0.060248       0           0     True\n",
       "1404     0.067729       1           0    False\n",
       "1405     0.315531       0           0     True\n",
       "1406     0.713464       1           1     True\n",
       "1407     0.050559       0           0     True\n",
       "1408     0.036023       0           0     True"
      ]
     },
     "execution_count": 8,
     "metadata": {},
     "output_type": "execute_result"
    }
   ],
   "source": [
    "#Creating a dataframe containing all the info we need\n",
    "df_pred = pd.DataFrame()\n",
    "df_pred['probability'] = y_pred\n",
    "df_pred['actual'] = y_val\n",
    "df_pred['prediction'] = churn_decision.astype(int)\n",
    "df_pred['correct'] = df_pred.prediction == df_pred.actual\n",
    "\n",
    "df_pred.tail(10)"
   ]
  },
  {
   "cell_type": "markdown",
   "id": "faad96b8",
   "metadata": {},
   "source": [
    "So, given a cut-off probability of 0.5, here is how accurate our model is on assesing both customers who will and those who won't churn:"
   ]
  },
  {
   "cell_type": "code",
   "execution_count": 9,
   "id": "83b92936",
   "metadata": {},
   "outputs": [
    {
     "data": {
      "text/plain": [
       "0.8034066713981547"
      ]
     },
     "execution_count": 9,
     "metadata": {},
     "output_type": "execute_result"
    }
   ],
   "source": [
    "df_pred.correct.mean()"
   ]
  },
  {
   "cell_type": "markdown",
   "id": "e7c194c3",
   "metadata": {},
   "source": [
    "We see that there are mistakes, and the model is mistaking only 20% of a time. Here is a filtered DataFrame for mistakes only."
   ]
  },
  {
   "cell_type": "code",
   "execution_count": 10,
   "id": "522548d2",
   "metadata": {},
   "outputs": [
    {
     "data": {
      "text/html": [
       "<div>\n",
       "<style scoped>\n",
       "    .dataframe tbody tr th:only-of-type {\n",
       "        vertical-align: middle;\n",
       "    }\n",
       "\n",
       "    .dataframe tbody tr th {\n",
       "        vertical-align: top;\n",
       "    }\n",
       "\n",
       "    .dataframe thead th {\n",
       "        text-align: right;\n",
       "    }\n",
       "</style>\n",
       "<table border=\"1\" class=\"dataframe\">\n",
       "  <thead>\n",
       "    <tr style=\"text-align: right;\">\n",
       "      <th></th>\n",
       "      <th>probability</th>\n",
       "      <th>actual</th>\n",
       "      <th>prediction</th>\n",
       "      <th>correct</th>\n",
       "    </tr>\n",
       "  </thead>\n",
       "  <tbody>\n",
       "    <tr>\n",
       "      <th>2</th>\n",
       "      <td>0.435661</td>\n",
       "      <td>1</td>\n",
       "      <td>0</td>\n",
       "      <td>False</td>\n",
       "    </tr>\n",
       "    <tr>\n",
       "      <th>10</th>\n",
       "      <td>0.629899</td>\n",
       "      <td>0</td>\n",
       "      <td>1</td>\n",
       "      <td>False</td>\n",
       "    </tr>\n",
       "    <tr>\n",
       "      <th>13</th>\n",
       "      <td>0.569593</td>\n",
       "      <td>0</td>\n",
       "      <td>1</td>\n",
       "      <td>False</td>\n",
       "    </tr>\n",
       "    <tr>\n",
       "      <th>15</th>\n",
       "      <td>0.704182</td>\n",
       "      <td>0</td>\n",
       "      <td>1</td>\n",
       "      <td>False</td>\n",
       "    </tr>\n",
       "    <tr>\n",
       "      <th>16</th>\n",
       "      <td>0.665806</td>\n",
       "      <td>0</td>\n",
       "      <td>1</td>\n",
       "      <td>False</td>\n",
       "    </tr>\n",
       "    <tr>\n",
       "      <th>20</th>\n",
       "      <td>0.165914</td>\n",
       "      <td>1</td>\n",
       "      <td>0</td>\n",
       "      <td>False</td>\n",
       "    </tr>\n",
       "    <tr>\n",
       "      <th>26</th>\n",
       "      <td>0.508863</td>\n",
       "      <td>0</td>\n",
       "      <td>1</td>\n",
       "      <td>False</td>\n",
       "    </tr>\n",
       "    <tr>\n",
       "      <th>29</th>\n",
       "      <td>0.183885</td>\n",
       "      <td>1</td>\n",
       "      <td>0</td>\n",
       "      <td>False</td>\n",
       "    </tr>\n",
       "    <tr>\n",
       "      <th>32</th>\n",
       "      <td>0.170327</td>\n",
       "      <td>1</td>\n",
       "      <td>0</td>\n",
       "      <td>False</td>\n",
       "    </tr>\n",
       "    <tr>\n",
       "      <th>34</th>\n",
       "      <td>0.046092</td>\n",
       "      <td>1</td>\n",
       "      <td>0</td>\n",
       "      <td>False</td>\n",
       "    </tr>\n",
       "  </tbody>\n",
       "</table>\n",
       "</div>"
      ],
      "text/plain": [
       "    probability  actual  prediction  correct\n",
       "2      0.435661       1           0    False\n",
       "10     0.629899       0           1    False\n",
       "13     0.569593       0           1    False\n",
       "15     0.704182       0           1    False\n",
       "16     0.665806       0           1    False\n",
       "20     0.165914       1           0    False\n",
       "26     0.508863       0           1    False\n",
       "29     0.183885       1           0    False\n",
       "32     0.170327       1           0    False\n",
       "34     0.046092       1           0    False"
      ]
     },
     "execution_count": 10,
     "metadata": {},
     "output_type": "execute_result"
    }
   ],
   "source": [
    "df_pred[df_pred['correct'] == False].head(10)"
   ]
  },
  {
   "cell_type": "markdown",
   "id": "f29231a9",
   "metadata": {},
   "source": [
    "Imagine for a moment what would happen on these 10 rows of data if we said that the cut-off probability is >=0.2. How many of them would be **now** correctly classified by our model? Now play with that idea and think what would happen if we changed ```churn_decision = (y_pred >= 0.5)``` to ```churn_decision = (y_pred >= 0.1)``` on **the whole validation dataset** not just this sample of 10 rows? What would be the accuracy? Think of the edge cases 'what if we said cut-off to be >=0, >0, >=1'? Now, play with the different values of cut-off frequency and asses the accuracy. \n",
    "\n",
    "This will also teach you how to explore/tweak the code already written, how to start small and work your way up to a generalization. I think it is also a very useful skill to have under your belt!\n",
    "\n",
    "Finally, you will realize *'There has to be a better way instead of playing with them. I know maths. I know how to visualize graphs.'*"
   ]
  },
  {
   "cell_type": "code",
   "execution_count": 11,
   "id": "cb5967fd",
   "metadata": {
    "scrolled": true
   },
   "outputs": [],
   "source": [
    "thresholds = [round(element, 3) for element in np.linspace(0, 1, 21)]\n",
    "\n",
    "scores = []\n",
    "for t in thresholds:\n",
    "    score = accuracy_score(y_val, y_pred >= t)\n",
    "    scores.append(round(score,4))\n",
    "\n",
    "thr_accuracy_dict = dict(zip(thresholds, scores))\n",
    "\n",
    "thr_with_max_accuracy = max(thr_accuracy_dict, key=thr_accuracy_dict.get)"
   ]
  },
  {
   "cell_type": "code",
   "execution_count": 12,
   "id": "4b4f9853",
   "metadata": {},
   "outputs": [],
   "source": [
    "def plotting_threshold_vs_accuracy(cut_off = thr_with_max_accuracy):    \n",
    "    '''\n",
    "        By default it will graph threshold vs accuracy and the point of inflection will be seen as two lines\n",
    "        (horizontal and vertical) intercepting. That is the point where the threshold gives best accuracy score.\n",
    "\n",
    "    '''\n",
    "    # Plotting the graph\n",
    "    plt.plot(thresholds, scores, label='Accuracy')\n",
    "    plt.xlabel('Threshold')\n",
    "    plt.ylabel('Accuracy')\n",
    "    plt.title('Accuracy vs. Threshold')\n",
    "\n",
    "    # Add a vertical line at a specific threshold (for example, threshold=0.5)\n",
    "    plt.axvline(x=cut_off, color='red', linestyle='--', label=f'Threshold = {cut_off}')\n",
    "    plt.legend()\n",
    "\n",
    "    # Add a horizontal line at the accuracy value corresponding to the chosen threshold\n",
    "    chosen_accuracy = accuracy_score(y_val, y_pred >= cut_off)\n",
    "    plt.axhline(y=chosen_accuracy, color='green', linestyle='--', label=f'Accuracy = {chosen_accuracy:.4f}')\n",
    "    plt.legend()\n",
    "\n",
    "    # Show the plot\n",
    "    return plt.show()"
   ]
  },
  {
   "cell_type": "code",
   "execution_count": 13,
   "id": "0d40f05d",
   "metadata": {},
   "outputs": [
    {
     "data": {
      "image/png": "[encoded data removed]",
      "text/plain": [
       "<Figure size 640x480 with 1 Axes>"
      ]
     },
     "metadata": {},
     "output_type": "display_data"
    }
   ],
   "source": [
    "plotting_threshold_vs_accuracy()"
   ]
  },
  {
   "cell_type": "markdown",
   "id": "0c629430",
   "metadata": {},
   "source": [
    "We could eyeball that the accuracy score is the best around ```cut-off == 0.5``` and in the words of instructor *'```LogisticRegression()``` is optimizing for that cut-off already'*, but it is never bad to check it either via graph to get a representation of *all* the possibilities or like we've done it via code.\n",
    "\n",
    "---\n",
    "\n",
    "Now comes the concept of *Dummy Model*. Why would it be called *dummy*? Here is my interpretation of it. \n",
    "\n",
    "Apart from point on an x-axis (threshold) that gives us best accuracy score, there exist two more points that have much of an interest for us. Those are points where ```threshold = 1``` and ```threshold = 0```.\n",
    "\n",
    "Think what would mean if we said 'for all the probability predictions where ```probability = cut_off >= 1``` say that customer churned'. I rarely saw that model is so damn sure about a prediction, and even if it is the case sigmoid is asympthotically aproaching 1. Could be due to very unlikely event, or synthetically putting row which for given weights and bias gives the result close to 1. \n",
    "\n",
    "But even without that, given that ```cut-off=1``` then model predicts that all people never churned, because all other probabilities are <=1. Do you think the accuracy would be 0? Let's take a look!"
   ]
  },
  {
   "cell_type": "code",
   "execution_count": 14,
   "id": "0d671a34",
   "metadata": {},
   "outputs": [
    {
     "data": {
      "text/html": [
       "<div>\n",
       "<style scoped>\n",
       "    .dataframe tbody tr th:only-of-type {\n",
       "        vertical-align: middle;\n",
       "    }\n",
       "\n",
       "    .dataframe tbody tr th {\n",
       "        vertical-align: top;\n",
       "    }\n",
       "\n",
       "    .dataframe thead th {\n",
       "        text-align: right;\n",
       "    }\n",
       "</style>\n",
       "<table border=\"1\" class=\"dataframe\">\n",
       "  <thead>\n",
       "    <tr style=\"text-align: right;\">\n",
       "      <th></th>\n",
       "      <th>probability</th>\n",
       "      <th>actual</th>\n",
       "      <th>prediction</th>\n",
       "      <th>correct</th>\n",
       "    </tr>\n",
       "  </thead>\n",
       "  <tbody>\n",
       "    <tr>\n",
       "      <th>0</th>\n",
       "      <td>0.167199</td>\n",
       "      <td>0</td>\n",
       "      <td>0</td>\n",
       "      <td>True</td>\n",
       "    </tr>\n",
       "    <tr>\n",
       "      <th>1</th>\n",
       "      <td>0.253132</td>\n",
       "      <td>0</td>\n",
       "      <td>0</td>\n",
       "      <td>True</td>\n",
       "    </tr>\n",
       "    <tr>\n",
       "      <th>2</th>\n",
       "      <td>0.435661</td>\n",
       "      <td>1</td>\n",
       "      <td>0</td>\n",
       "      <td>False</td>\n",
       "    </tr>\n",
       "    <tr>\n",
       "      <th>3</th>\n",
       "      <td>0.562363</td>\n",
       "      <td>1</td>\n",
       "      <td>0</td>\n",
       "      <td>False</td>\n",
       "    </tr>\n",
       "    <tr>\n",
       "      <th>4</th>\n",
       "      <td>0.049742</td>\n",
       "      <td>0</td>\n",
       "      <td>0</td>\n",
       "      <td>True</td>\n",
       "    </tr>\n",
       "    <tr>\n",
       "      <th>5</th>\n",
       "      <td>0.125869</td>\n",
       "      <td>0</td>\n",
       "      <td>0</td>\n",
       "      <td>True</td>\n",
       "    </tr>\n",
       "    <tr>\n",
       "      <th>6</th>\n",
       "      <td>0.377995</td>\n",
       "      <td>0</td>\n",
       "      <td>0</td>\n",
       "      <td>True</td>\n",
       "    </tr>\n",
       "    <tr>\n",
       "      <th>7</th>\n",
       "      <td>0.013390</td>\n",
       "      <td>0</td>\n",
       "      <td>0</td>\n",
       "      <td>True</td>\n",
       "    </tr>\n",
       "    <tr>\n",
       "      <th>8</th>\n",
       "      <td>0.063902</td>\n",
       "      <td>0</td>\n",
       "      <td>0</td>\n",
       "      <td>True</td>\n",
       "    </tr>\n",
       "    <tr>\n",
       "      <th>9</th>\n",
       "      <td>0.147764</td>\n",
       "      <td>0</td>\n",
       "      <td>0</td>\n",
       "      <td>True</td>\n",
       "    </tr>\n",
       "  </tbody>\n",
       "</table>\n",
       "</div>"
      ],
      "text/plain": [
       "   probability  actual  prediction  correct\n",
       "0     0.167199       0           0     True\n",
       "1     0.253132       0           0     True\n",
       "2     0.435661       1           0    False\n",
       "3     0.562363       1           0    False\n",
       "4     0.049742       0           0     True\n",
       "5     0.125869       0           0     True\n",
       "6     0.377995       0           0     True\n",
       "7     0.013390       0           0     True\n",
       "8     0.063902       0           0     True\n",
       "9     0.147764       0           0     True"
      ]
     },
     "execution_count": 14,
     "metadata": {},
     "output_type": "execute_result"
    }
   ],
   "source": [
    "churn_decision = (y_pred >= 1)\n",
    "df_pred = pd.DataFrame()\n",
    "df_pred['probability'] = y_pred\n",
    "df_pred['actual'] = y_val\n",
    "df_pred['prediction'] = churn_decision.astype(int)\n",
    "df_pred['correct'] = df_pred.prediction == df_pred.actual\n",
    "\n",
    "df_pred.head(10)"
   ]
  },
  {
   "cell_type": "markdown",
   "id": "41349a06",
   "metadata": {},
   "source": [
    "No, it would give the accuracy of 73%, because 73% of our validation data has **actual value** of ```churn == 0``` (Remember, we are calculating mean on the ```correct``` column!). \n",
    "73% of our validation dataset contains people that didn't churned, and 100%-73%=27% is the percentage of people who actually churned. "
   ]
  },
  {
   "cell_type": "code",
   "execution_count": 15,
   "id": "8ec49f9f",
   "metadata": {},
   "outputs": [
    {
     "data": {
      "text/plain": [
       "0.7310149041873669"
      ]
     },
     "execution_count": 15,
     "metadata": {},
     "output_type": "execute_result"
    }
   ],
   "source": [
    "df_pred.correct.mean()"
   ]
  },
  {
   "cell_type": "markdown",
   "id": "6cd1b862",
   "metadata": {},
   "source": [
    "Why would we ever use a model which for every input predicts that nobody will churn? That model would never find out those who WILL potentially churn and we need to keep them and send them a promotional email! Why would we even bother training a model for such matter in a first place? We could make a decision 'nobody will churn, just relax and chill'. But, what is the point in that? \n",
    "\n",
    "That is why it is called *a Dummy Model*. We could done everything without ever using ML. \n",
    "\n",
    "But another question arises, why would we train the best model which gives us 80% accuracy, but a 'dummy model' gives us accuracy of 73% which is 7% in difference? That is why the accuracy metric is not so good with assesing imbalanced datasets. If we had balanced dataset (50% churn, 50% no churn) then the difference between model who gives accuracy of 80% and *dummy model* who gives 50% would be significant!\n",
    "\n",
    "Dummy model of 'predicting that no customer will churn' is even better than Random Classifier which you can imagine as one which for each row in a dataset will toss a fair coin and decide if the customer would churn (heads) of not (tails). After you finish with all the coin tosses you will see that Random Classifier still gives around ~50% churned and ~50% didn't churned. \n",
    "\n",
    "Let's do some basic stats experiment to test that assumption!"
   ]
  },
  {
   "cell_type": "code",
   "execution_count": 16,
   "id": "601e21c3",
   "metadata": {},
   "outputs": [],
   "source": [
    "import random\n",
    "\n",
    "\n",
    "def coin_toss(weight_heads, weight_tails):\n",
    "    \n",
    "    '''\n",
    "        Define a coin_toss function which will serve us as a proxy for tossing the real one.\n",
    "    '''\n",
    "    \n",
    "    # Define the choices and their weights\n",
    "    choices = ['Heads', 'Tails']\n",
    "    weights = [weight_heads, weight_tails]\n",
    "    \n",
    "    # Perform the coin toss\n",
    "    result = random.choices(choices, weights)[0]\n",
    "    \n",
    "    return result"
   ]
  },
  {
   "cell_type": "code",
   "execution_count": 17,
   "id": "3808e99d",
   "metadata": {},
   "outputs": [
    {
     "name": "stdout",
     "output_type": "stream",
     "text": [
      "The result of the coin toss is: Tails\n"
     ]
    }
   ],
   "source": [
    "#Let's test our function by setting the weights for 'Heads' and 'Tails' to be a fair toss\n",
    "weight_heads = 50\n",
    "weight_tails = 50\n",
    "\n",
    "#Perform a simple coin toss\n",
    "toss_result = coin_toss(weight_heads, weight_tails)\n",
    "\n",
    "#Print the result\n",
    "print(f\"The result of the coin toss is: {toss_result}.\")"
   ]
  },
  {
   "cell_type": "markdown",
   "id": "968bf20f",
   "metadata": {},
   "source": [
    "Now, we will strip the ```df_pred``` which contains all the predictions for validation dataset and it's actual values. We only need ```probability``` and ```actual``` as columns."
   ]
  },
  {
   "cell_type": "code",
   "execution_count": 18,
   "id": "a94b1874",
   "metadata": {},
   "outputs": [
    {
     "data": {
      "text/html": [
       "<div>\n",
       "<style scoped>\n",
       "    .dataframe tbody tr th:only-of-type {\n",
       "        vertical-align: middle;\n",
       "    }\n",
       "\n",
       "    .dataframe tbody tr th {\n",
       "        vertical-align: top;\n",
       "    }\n",
       "\n",
       "    .dataframe thead th {\n",
       "        text-align: right;\n",
       "    }\n",
       "</style>\n",
       "<table border=\"1\" class=\"dataframe\">\n",
       "  <thead>\n",
       "    <tr style=\"text-align: right;\">\n",
       "      <th></th>\n",
       "      <th>probability</th>\n",
       "      <th>actual</th>\n",
       "    </tr>\n",
       "  </thead>\n",
       "  <tbody>\n",
       "    <tr>\n",
       "      <th>0</th>\n",
       "      <td>0.167199</td>\n",
       "      <td>0</td>\n",
       "    </tr>\n",
       "    <tr>\n",
       "      <th>1</th>\n",
       "      <td>0.253132</td>\n",
       "      <td>0</td>\n",
       "    </tr>\n",
       "    <tr>\n",
       "      <th>2</th>\n",
       "      <td>0.435661</td>\n",
       "      <td>1</td>\n",
       "    </tr>\n",
       "    <tr>\n",
       "      <th>3</th>\n",
       "      <td>0.562363</td>\n",
       "      <td>1</td>\n",
       "    </tr>\n",
       "    <tr>\n",
       "      <th>4</th>\n",
       "      <td>0.049742</td>\n",
       "      <td>0</td>\n",
       "    </tr>\n",
       "  </tbody>\n",
       "</table>\n",
       "</div>"
      ],
      "text/plain": [
       "   probability  actual\n",
       "0     0.167199       0\n",
       "1     0.253132       0\n",
       "2     0.435661       1\n",
       "3     0.562363       1\n",
       "4     0.049742       0"
      ]
     },
     "execution_count": 18,
     "metadata": {},
     "output_type": "execute_result"
    }
   ],
   "source": [
    "df_coin_toss = df_pred[['probability', 'actual']].copy()\n",
    "df_coin_toss.head()"
   ]
  },
  {
   "cell_type": "markdown",
   "id": "0651d33a",
   "metadata": {},
   "source": [
    "Next, we are going to use ```coin_toss``` function which will for each row artificially toss a coin and populate the column ```coin_toss_result``` with either 'Heads' or 'Tails'. \n",
    "Then we are going to create a new column ```is_heads``` which will give us 1 if the result is 'Heads' or 0 if the result is 'Tails'. It will serve us in such a way that we can compare the results with the column ```actual``` like we did similarly whilst defining the cut-off probability.\n",
    "\n",
    "Finally, we are going to compare ```actual``` with ```is_heads```."
   ]
  },
  {
   "cell_type": "code",
   "execution_count": 19,
   "id": "8456d31e",
   "metadata": {},
   "outputs": [],
   "source": [
    "df_coin_toss['coin_toss_result'] = df_coin_toss.apply(lambda row: coin_toss(weight_heads=50, weight_tails=50), axis=1)\n",
    "df_coin_toss['is_heads'] = df_coin_toss['coin_toss_result'].apply(lambda result: 1 if result == 'Heads' else 0)\n",
    "df_coin_toss['correct'] = df_coin_toss.actual == df_coin_toss.is_heads"
   ]
  },
  {
   "cell_type": "code",
   "execution_count": 20,
   "id": "804ba1fd",
   "metadata": {},
   "outputs": [
    {
     "data": {
      "text/html": [
       "<div>\n",
       "<style scoped>\n",
       "    .dataframe tbody tr th:only-of-type {\n",
       "        vertical-align: middle;\n",
       "    }\n",
       "\n",
       "    .dataframe tbody tr th {\n",
       "        vertical-align: top;\n",
       "    }\n",
       "\n",
       "    .dataframe thead th {\n",
       "        text-align: right;\n",
       "    }\n",
       "</style>\n",
       "<table border=\"1\" class=\"dataframe\">\n",
       "  <thead>\n",
       "    <tr style=\"text-align: right;\">\n",
       "      <th></th>\n",
       "      <th>probability</th>\n",
       "      <th>actual</th>\n",
       "      <th>coin_toss_result</th>\n",
       "      <th>is_heads</th>\n",
       "      <th>correct</th>\n",
       "    </tr>\n",
       "  </thead>\n",
       "  <tbody>\n",
       "    <tr>\n",
       "      <th>0</th>\n",
       "      <td>0.167199</td>\n",
       "      <td>0</td>\n",
       "      <td>Heads</td>\n",
       "      <td>1</td>\n",
       "      <td>False</td>\n",
       "    </tr>\n",
       "    <tr>\n",
       "      <th>1</th>\n",
       "      <td>0.253132</td>\n",
       "      <td>0</td>\n",
       "      <td>Heads</td>\n",
       "      <td>1</td>\n",
       "      <td>False</td>\n",
       "    </tr>\n",
       "    <tr>\n",
       "      <th>2</th>\n",
       "      <td>0.435661</td>\n",
       "      <td>1</td>\n",
       "      <td>Heads</td>\n",
       "      <td>1</td>\n",
       "      <td>True</td>\n",
       "    </tr>\n",
       "    <tr>\n",
       "      <th>3</th>\n",
       "      <td>0.562363</td>\n",
       "      <td>1</td>\n",
       "      <td>Tails</td>\n",
       "      <td>0</td>\n",
       "      <td>False</td>\n",
       "    </tr>\n",
       "    <tr>\n",
       "      <th>4</th>\n",
       "      <td>0.049742</td>\n",
       "      <td>0</td>\n",
       "      <td>Tails</td>\n",
       "      <td>0</td>\n",
       "      <td>True</td>\n",
       "    </tr>\n",
       "  </tbody>\n",
       "</table>\n",
       "</div>"
      ],
      "text/plain": [
       "   probability  actual coin_toss_result  is_heads  correct\n",
       "0     0.167199       0            Heads         1    False\n",
       "1     0.253132       0            Heads         1    False\n",
       "2     0.435661       1            Heads         1     True\n",
       "3     0.562363       1            Tails         0    False\n",
       "4     0.049742       0            Tails         0     True"
      ]
     },
     "execution_count": 20,
     "metadata": {},
     "output_type": "execute_result"
    }
   ],
   "source": [
    "df_coin_toss.head()"
   ]
  },
  {
   "cell_type": "markdown",
   "id": "92087a5c",
   "metadata": {},
   "source": [
    "Now, a random process is a random process so don't expect to have exact 50% of 'Heads' and 'Tails'.\n",
    "\n",
    "Here is the 'accuracy' of our Random Classifier:"
   ]
  },
  {
   "cell_type": "code",
   "execution_count": 23,
   "id": "fd75d0d8",
   "metadata": {},
   "outputs": [
    {
     "data": {
      "text/plain": [
       "0.5166784953867991"
      ]
     },
     "execution_count": 23,
     "metadata": {},
     "output_type": "execute_result"
    }
   ],
   "source": [
    "df_coin_toss.correct.mean()"
   ]
  },
  {
   "cell_type": "markdown",
   "id": "c6e68c35",
   "metadata": {},
   "source": [
    "Finally, let's *prove* that on average you should obtain nearly 50% for such result."
   ]
  },
  {
   "cell_type": "code",
   "execution_count": 33,
   "id": "0680b1ca",
   "metadata": {},
   "outputs": [
    {
     "name": "stdout",
     "output_type": "stream",
     "text": [
      "Here is the average: 0.4999.\n"
     ]
    }
   ],
   "source": [
    "results = []\n",
    "no_of_runs = 100\n",
    "\n",
    "for i in range(no_of_runs):\n",
    "    \n",
    "    ##### This is our experiment\n",
    "    df_coin_toss['coin_toss_result'] = df_coin_toss.apply(lambda row: coin_toss(weight_heads=50, weight_tails=50), axis=1)\n",
    "    df_coin_toss['is_heads'] = df_coin_toss['coin_toss_result'].apply(lambda result: 1 if result == 'Heads' else 0)\n",
    "    df_coin_toss['correct'] = df_coin_toss.actual == df_coin_toss.is_heads\n",
    "    #####\n",
    "    \n",
    "    results.append(df_coin_toss.correct.mean())\n",
    "    \n",
    "print(f'Here is the average: {round(np.mean(results),4)}.')"
   ]
  },
  {
   "cell_type": "markdown",
   "id": "27e0eba4",
   "metadata": {},
   "source": [
    "Increase the number of times this experiment runs by modifying ```no_of_runs``` and it will asymtotically get to 50%.\n",
    "\n",
    "---\n",
    "\n",
    "What about a model that has ```cut-off>=0```? Well, think of it. We have an unbalanced dataset with 27% of customers that churned. If we predicted that everyone churned, then we would be right only 27% of time. That is also the lowest possible accuracy we can have. Yes, we found all the True Positives but think of giving 73% of people email promotion of 25% discount. It is not going to impress your CEO at all. The model is even worse than previously discussed Random Classifier, and it could also be a decision which doesn't need ML at all. "
   ]
  }
 ],
 "metadata": {
  "kernelspec": {
   "display_name": "jupyter-venv",
   "language": "python",
   "name": "jupyter-venv"
  },
  "language_info": {
   "codemirror_mode": {
    "name": "ipython",
    "version": 3
   },
   "file_extension": ".py",
   "mimetype": "text/x-python",
   "name": "python",
   "nbconvert_exporter": "python",
   "pygments_lexer": "ipython3",
   "version": "3.9.7"
  }
 },
 "nbformat": 4,
 "nbformat_minor": 5
}
