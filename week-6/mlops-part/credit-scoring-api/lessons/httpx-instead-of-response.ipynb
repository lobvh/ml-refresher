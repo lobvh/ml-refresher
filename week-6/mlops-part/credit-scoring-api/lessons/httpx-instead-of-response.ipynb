{
 "cells": [
  {
   "cell_type": "markdown",
   "id": "b5e325c6-b7d2-4ed0-904a-4ded85ead806",
   "metadata": {},
   "source": [
    "`httpx` supports concurrency out-of-the-box, so instead of making the code non-blockable like example for `requests` library where we would use `asyncio.to_thread()` which would create another thread inside the Python interpreter here it works implicitly. And the simplicity of using `httpx` lies in the fact that the code syntax is the same as using `requests` library. "
   ]
  },
  {
   "cell_type": "code",
   "execution_count": 24,
   "id": "e5ab55b7-261c-4cde-b723-a5020109c4db",
   "metadata": {},
   "outputs": [],
   "source": [
    "import httpx, time\n",
    "\n",
    "from enum import Enum\n",
    "\n",
    "from typing import Any"
   ]
  },
  {
   "cell_type": "code",
   "execution_count": 14,
   "id": "ee2206dc-e217-4b29-afb3-e730a63e998d",
   "metadata": {},
   "outputs": [],
   "source": [
    "class Urls(Enum):\n",
    "    BASE_URL = \"https://httpbin.org\""
   ]
  },
  {
   "cell_type": "code",
   "execution_count": 8,
   "id": "af59dc7f-82dd-40f1-bb8a-f3353ede695d",
   "metadata": {},
   "outputs": [
    {
     "data": {
      "text/plain": [
       "200"
      ]
     },
     "execution_count": 8,
     "metadata": {},
     "output_type": "execute_result"
    }
   ],
   "source": [
    "response = httpx.get(\"http://www.example.com\")\n",
    "response.status_code"
   ]
  },
  {
   "cell_type": "code",
   "execution_count": 18,
   "id": "2917012c-dad4-42c5-ac94-4a4b8f139cc5",
   "metadata": {},
   "outputs": [
    {
     "data": {
      "text/plain": [
       "{'args': {},\n",
       " 'headers': {'Accept': '*/*',\n",
       "  'Accept-Encoding': 'gzip, deflate',\n",
       "  'Host': 'httpbin.org',\n",
       "  'User-Agent': 'python-httpx/0.26.0',\n",
       "  'X-Amzn-Trace-Id': 'Root=1-6585de30-4bc1eee25aba25fd34225a3c'},\n",
       " 'origin': '31.223.143.165',\n",
       " 'url': 'https://httpbin.org/get'}"
      ]
     },
     "execution_count": 18,
     "metadata": {},
     "output_type": "execute_result"
    }
   ],
   "source": [
    "response = httpx.get(Urls.BASE_URL.value + \"/get\")\n",
    "response.json()"
   ]
  },
  {
   "cell_type": "markdown",
   "id": "cde28750-65a2-4048-8f08-0b206e7cb4e8",
   "metadata": {},
   "source": [
    "`Any` is used here to not make the type hints explicit since for the JSON type they cover wide range of possible responses, not usual \"dictionary look-a-like\" JSON we saw. In the `asyncio-basics.ipynb` I've written them explicitly: \n",
    "\n",
    "```python\n",
    "JSON = int | str | float | bool | None | dict[str, \"JSON\"] | list[\"JSON\"]\n",
    "```\n",
    "\n",
    "When the endpoint returns value of 42 that is an integer and it is not a valid JSON type! You will get an error if you use `json()` function. Probably what the `JSON` variable is intended to do is to cover wide range of possibilities you can get including those different types of JSON formats. Also, using `Any` is way more robust if you can't think of all the 'edge cases'. \n",
    "\n",
    "For example if you checked that `https://httpbin.org/get` will always return a JSON format then using `Any` is your way of understanding it before you've started programming. Maybe we should be more explicit in this case also, but I've never worked too much with the responses, so it will probably take some time to get used to different edge cases in the wild. "
   ]
  },
  {
   "cell_type": "code",
   "execution_count": 34,
   "id": "3834c718-1551-4ca7-a09c-a18699ece208",
   "metadata": {},
   "outputs": [],
   "source": [
    "BASE_URL = Urls.BASE_URL.value\n",
    "\n",
    "def fetch_get() -> Any:\n",
    "    response = httpx.get(f\"{BASE_URL}/get\")\n",
    "    return response.json()\n",
    "\n",
    "def fetch_post() -> Any:\n",
    "    data_to_post = {\"key\": \"value\"}\n",
    "    response = httpx.post(f\"{BASE_URL}/post\", json=data_to_post)\n",
    "    return response.json()"
   ]
  },
  {
   "cell_type": "code",
   "execution_count": 36,
   "id": "2039d05b-3824-4c61-aa81-32fabd7701e4",
   "metadata": {
    "scrolled": true
   },
   "outputs": [
    {
     "name": "stdout",
     "output_type": "stream",
     "text": [
      "GET: {'args': {}, 'headers': {'Accept': '*/*', 'Accept-Encoding': 'gzip, deflate', 'Host': 'httpbin.org', 'User-Agent': 'python-httpx/0.26.0', 'X-Amzn-Trace-Id': 'Root=1-6585f3f9-725b261706432447709756a9'}, 'origin': '31.223.143.179', 'url': 'https://httpbin.org/get'}\n",
      "POST: {'args': {}, 'data': '{\"key\": \"value\"}', 'files': {}, 'form': {}, 'headers': {'Accept': '*/*', 'Accept-Encoding': 'gzip, deflate', 'Content-Length': '16', 'Content-Type': 'application/json', 'Host': 'httpbin.org', 'User-Agent': 'python-httpx/0.26.0', 'X-Amzn-Trace-Id': 'Root=1-6585f3fa-1d892b691492597c1b5b96d5'}, 'json': {'key': 'value'}, 'origin': '31.223.143.179', 'url': 'https://httpbin.org/post'}\n",
      "PUT: {'args': {}, 'data': '{\"key\": \"updated_value\"}', 'files': {}, 'form': {}, 'headers': {'Accept': '*/*', 'Accept-Encoding': 'gzip, deflate', 'Content-Length': '24', 'Content-Type': 'application/json', 'Host': 'httpbin.org', 'User-Agent': 'python-httpx/0.26.0', 'X-Amzn-Trace-Id': 'Root=1-6585f3fb-1368b3cd30aa21825f731809'}, 'json': {'key': 'updated_value'}, 'origin': '31.223.143.179', 'url': 'https://httpbin.org/put'}\n",
      "DELETE: {'args': {}, 'data': '', 'files': {}, 'form': {}, 'headers': {'Accept': '*/*', 'Accept-Encoding': 'gzip, deflate', 'Host': 'httpbin.org', 'User-Agent': 'python-httpx/0.26.0', 'X-Amzn-Trace-Id': 'Root=1-6585f3fb-010cb2f61873351f70fafce7'}, 'json': None, 'origin': '31.223.143.179', 'url': 'https://httpbin.org/delete'}\n",
      "\n",
      "\n",
      "Time taken: 2.60 seconds.\n"
     ]
    }
   ],
   "source": [
    "def fetch_put() -> Any:\n",
    "    data_to_put = {\"key\": \"updated_value\"}\n",
    "    response = httpx.put(f\"{BASE_URL}/put\", json=data_to_put)\n",
    "    return response.json()\n",
    "\n",
    "\n",
    "def fetch_delete() -> Any:\n",
    "    response = httpx.delete(f\"{BASE_URL}/delete\")\n",
    "    return response.json()\n",
    "\n",
    "\n",
    "def main() -> None:\n",
    "    # record the starting time\n",
    "    start = time.perf_counter()\n",
    "\n",
    "    # GET\n",
    "    print(\"GET:\", fetch_get())\n",
    "\n",
    "    # POST\n",
    "    print(\"POST:\", fetch_post())\n",
    "\n",
    "    # PUT\n",
    "    print(\"PUT:\", fetch_put())\n",
    "\n",
    "    # DELETE\n",
    "    print(\"DELETE:\", fetch_delete())\n",
    "\n",
    "    # record the ending time\n",
    "    end = time.perf_counter()\n",
    "\n",
    "    print(\"\\n\")\n",
    "    print(f\"Time taken: {end - start:.2f} seconds.\")\n",
    "\n",
    "\n",
    "if __name__ == \"__main__\":\n",
    "    main()"
   ]
  },
  {
   "cell_type": "code",
   "execution_count": 39,
   "id": "35c9f371-a1b2-4187-bfaf-96934955ca46",
   "metadata": {},
   "outputs": [
    {
     "name": "stdout",
     "output_type": "stream",
     "text": [
      "GET: {'args': {}, 'headers': {'Accept': '*/*', 'Accept-Encoding': 'gzip, deflate', 'Host': 'httpbin.org', 'User-Agent': 'python-httpx/0.26.0', 'X-Amzn-Trace-Id': 'Root=1-6585f59c-4498b52a1188dc8c44876489'}, 'origin': '31.223.143.179', 'url': 'https://httpbin.org/get'}\n",
      "POST: {'args': {}, 'data': '{\"key\": \"value\"}', 'files': {}, 'form': {}, 'headers': {'Accept': '*/*', 'Accept-Encoding': 'gzip, deflate', 'Content-Length': '16', 'Content-Type': 'application/json', 'Host': 'httpbin.org', 'User-Agent': 'python-httpx/0.26.0', 'X-Amzn-Trace-Id': 'Root=1-6585f59c-714ec11c7c37040a169f33ba'}, 'json': {'key': 'value'}, 'origin': '31.223.143.179', 'url': 'https://httpbin.org/post'}\n",
      "PUT: {'args': {}, 'data': '{\"key\": \"updated_value\"}', 'files': {}, 'form': {}, 'headers': {'Accept': '*/*', 'Accept-Encoding': 'gzip, deflate', 'Content-Length': '24', 'Content-Type': 'application/json', 'Host': 'httpbin.org', 'User-Agent': 'python-httpx/0.26.0', 'X-Amzn-Trace-Id': 'Root=1-6585f59c-25c1f7101534520401f9b8f5'}, 'json': {'key': 'updated_value'}, 'origin': '31.223.143.179', 'url': 'https://httpbin.org/put'}\n",
      "DELETE: {'args': {}, 'data': '', 'files': {}, 'form': {}, 'headers': {'Accept': '*/*', 'Accept-Encoding': 'gzip, deflate', 'Host': 'httpbin.org', 'User-Agent': 'python-httpx/0.26.0', 'X-Amzn-Trace-Id': 'Root=1-6585f59c-191225f96d60e4a37a342f97'}, 'json': None, 'origin': '31.223.143.179', 'url': 'https://httpbin.org/delete'}\n",
      "\n",
      "\n",
      "Time taken: 1.06 seconds.\n"
     ]
    }
   ],
   "source": [
    "#Let's use the httpx.Client() to make connection pool and test for progress:\n",
    "\n",
    "def fetch_get(client: httpx.Client) -> Any:\n",
    "    response = client.get(f\"{BASE_URL}/get\")\n",
    "    return response.json()\n",
    "\n",
    "def fetch_post(client: httpx.Client) -> Any:\n",
    "    data_to_post = {\"key\": \"value\"}\n",
    "    response = client.post(f\"{BASE_URL}/post\", json=data_to_post)\n",
    "    return response.json()\n",
    "\n",
    "def fetch_put(client: httpx.Client) -> Any:\n",
    "    data_to_put = {\"key\": \"updated_value\"}\n",
    "    response = client.put(f\"{BASE_URL}/put\", json=data_to_put)\n",
    "    return response.json()\n",
    "\n",
    "\n",
    "def fetch_delete(client: httpx.Client) -> Any:\n",
    "    response = client.delete(f\"{BASE_URL}/delete\")\n",
    "    return response.json()\n",
    "\n",
    "def main() -> None:\n",
    "\n",
    "    with httpx.Client() as client:\n",
    "        # record the starting time\n",
    "        start = time.perf_counter()\n",
    "    \n",
    "        # GET\n",
    "        print(\"GET:\", fetch_get(client))\n",
    "    \n",
    "        # POST\n",
    "        print(\"POST:\", fetch_post(client))\n",
    "    \n",
    "        # PUT\n",
    "        print(\"PUT:\", fetch_put(client))\n",
    "    \n",
    "        # DELETE\n",
    "        print(\"DELETE:\", fetch_delete(client))\n",
    "    \n",
    "        # record the ending time\n",
    "        end = time.perf_counter()\n",
    "    \n",
    "        print(\"\\n\")\n",
    "        print(f\"Time taken: {end - start:.2f} seconds.\")\n",
    "\n",
    "\n",
    "if __name__ == \"__main__\":\n",
    "    main()"
   ]
  },
  {
   "cell_type": "code",
   "execution_count": 43,
   "id": "f0b5a563-a494-417b-99c8-8626c58a7acb",
   "metadata": {
    "scrolled": true
   },
   "outputs": [
    {
     "name": "stdout",
     "output_type": "stream",
     "text": [
      "{'args': {}, 'headers': {'Accept': '*/*', 'Accept-Encoding': 'gzip, deflate', 'Host': 'httpbin.org', 'User-Agent': 'python-httpx/0.26.0', 'X-Amzn-Trace-Id': 'Root=1-6585f6c4-44a26f1c4ef3b3ae2205ae71'}, 'origin': '31.223.143.179', 'url': 'https://httpbin.org/get'}\n",
      "{'args': {}, 'data': '{\"key\": \"value\"}', 'files': {}, 'form': {}, 'headers': {'Accept': '*/*', 'Accept-Encoding': 'gzip, deflate', 'Content-Length': '16', 'Content-Type': 'application/json', 'Host': 'httpbin.org', 'User-Agent': 'python-httpx/0.26.0', 'X-Amzn-Trace-Id': 'Root=1-6585f6c4-50b84164593385563c9ad7ae'}, 'json': {'key': 'value'}, 'origin': '31.223.143.179', 'url': 'https://httpbin.org/post'}\n",
      "{'args': {}, 'data': '{\"key\": \"updated_value\"}', 'files': {}, 'form': {}, 'headers': {'Accept': '*/*', 'Accept-Encoding': 'gzip, deflate', 'Content-Length': '24', 'Content-Type': 'application/json', 'Host': 'httpbin.org', 'User-Agent': 'python-httpx/0.26.0', 'X-Amzn-Trace-Id': 'Root=1-6585f6c4-64c52869636e5ed4704a950b'}, 'json': {'key': 'updated_value'}, 'origin': '31.223.143.179', 'url': 'https://httpbin.org/put'}\n",
      "{'args': {}, 'data': '', 'files': {}, 'form': {}, 'headers': {'Accept': '*/*', 'Accept-Encoding': 'gzip, deflate', 'Host': 'httpbin.org', 'User-Agent': 'python-httpx/0.26.0', 'X-Amzn-Trace-Id': 'Root=1-6585f6c4-7ac318c14896c8ab3f8bb724'}, 'json': None, 'origin': '31.223.143.179', 'url': 'https://httpbin.org/delete'}\n",
      "\n",
      "\n",
      "Time taken: 0.62 seconds.\n"
     ]
    }
   ],
   "source": [
    "#Finally, let's not just make a connection pool, but make it concurrent with async and await\n",
    "import asyncio\n",
    "\n",
    "async def fetch_get(client: httpx.AsyncClient) -> Any:\n",
    "    response = await client.get(f\"{BASE_URL}/get\")\n",
    "    return response.json()\n",
    "\n",
    "async def fetch_post(client: httpx.AsyncClient) -> Any:\n",
    "    data_to_post = {\"key\": \"value\"}\n",
    "    response = await client.post(f\"{BASE_URL}/post\", json=data_to_post)\n",
    "    return response.json()\n",
    "\n",
    "async def fetch_put(client: httpx.AsyncClient) -> Any:\n",
    "    data_to_put = {\"key\": \"updated_value\"}\n",
    "    response = await client.put(f\"{BASE_URL}/put\", json=data_to_put)\n",
    "    return response.json()\n",
    "\n",
    "\n",
    "async def fetch_delete(client: httpx.AsyncClient) -> Any:\n",
    "    response = await client.delete(f\"{BASE_URL}/delete\")\n",
    "    return response.json()\n",
    "\n",
    "async def main() -> None:\n",
    "\n",
    "    async with httpx.AsyncClient() as client:\n",
    "            # record the starting time\n",
    "            start = time.perf_counter()\n",
    "    \n",
    "            tasks = [fetch_get(client),\n",
    "                      fetch_post(client),\n",
    "                      fetch_put(client),\n",
    "                      fetch_delete(client)]\n",
    "                       \n",
    "        \n",
    "            results = await asyncio.gather(*tasks)\n",
    "\n",
    "            for result in results:\n",
    "                print(result)\n",
    "\n",
    "        \n",
    "            # record the ending time\n",
    "            end = time.perf_counter()\n",
    "        \n",
    "            print(\"\\n\")\n",
    "            print(f\"Time taken: {end - start:.2f} seconds.\")\n",
    "\n",
    "\n",
    "if __name__ == \"__main__\":\n",
    "   await main()"
   ]
  },
  {
   "cell_type": "markdown",
   "id": "7a84d05f-5963-4f2a-a0c8-1031d9e51431",
   "metadata": {},
   "source": [
    "The only thing we needed to fix is to put `async` in front of function definitions and `await` in front of code that needs to be \"awaited\", without using any asyncio subroutines (e.g. `to_thread()`) to make it non-blocking code. Everything is already implemented via `httpx`, and all we have to do is put `async` and `awaits` and only thing from `asyncio` that we need is `asyncio.gather()`, and make the change in context manager `httpx.Client` -> `httpx.AsyncClient`. \n",
    "\n",
    "---\n",
    "I think `aiohttp` might sound a bit non-intuitive because there is \"context manager inside context manager\". It is not a problem of understanding how it works, but it looks wierd. Tbh I didn't do comparison in performance between `aiohttp` (Asynchronous I/O HTTP) and `httpx`, but for now I will stick with the `httpx` for quite some time since it makes code more readable. "
   ]
  }
 ],
 "metadata": {
  "kernelspec": {
   "display_name": "Python 3 (ipykernel)",
   "language": "python",
   "name": "python3"
  },
  "language_info": {
   "codemirror_mode": {
    "name": "ipython",
    "version": 3
   },
   "file_extension": ".py",
   "mimetype": "text/x-python",
   "name": "python",
   "nbconvert_exporter": "python",
   "pygments_lexer": "ipython3",
   "version": "3.9.18"
  }
 },
 "nbformat": 4,
 "nbformat_minor": 5
}
