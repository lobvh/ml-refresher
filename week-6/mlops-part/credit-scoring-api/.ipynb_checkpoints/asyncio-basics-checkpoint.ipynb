{
 "cells": [
  {
   "cell_type": "code",
   "execution_count": 1,
   "id": "33227350",
   "metadata": {},
   "outputs": [],
   "source": [
    "import asyncio\n",
    "import time"
   ]
  },
  {
   "cell_type": "code",
   "execution_count": 22,
   "id": "d14fc62a-ef53-4c3f-b2bc-27ba9cf02243",
   "metadata": {},
   "outputs": [
    {
     "name": "stdout",
     "output_type": "stream",
     "text": [
      "3.12.0 | packaged by Anaconda, Inc. | (main, Oct  2 2023, 12:29:27) [Clang 14.0.6 ]\n"
     ]
    }
   ],
   "source": [
    "import sys\n",
    "print(sys.version)"
   ]
  },
  {
   "cell_type": "code",
   "execution_count": 2,
   "id": "e1a160b5",
   "metadata": {},
   "outputs": [
    {
     "data": {
      "text/plain": [
       "14356.764039827"
      ]
     },
     "execution_count": 2,
     "metadata": {},
     "output_type": "execute_result"
    }
   ],
   "source": [
    "#It actually is like a stopwatch for 'how much time you've spent coding'\n",
    "#Look at cell In [11]\n",
    "time.perf_counter()"
   ]
  },
  {
   "cell_type": "code",
   "execution_count": 3,
   "id": "3a151e34",
   "metadata": {},
   "outputs": [],
   "source": [
    "def make_bagel() -> None:\n",
    "    print(\"-------\")\n",
    "    print('Starting making bagel...')\n",
    "    time.sleep(2) #It takes 2s to make it!\n",
    "    print('Finished making bagel!')\n",
    "    print(\"-------\")\n",
    "    print(\"The bagel is ready!\")\n",
    "    print(\"---------------------\")"
   ]
  },
  {
   "cell_type": "code",
   "execution_count": 4,
   "id": "19872c66",
   "metadata": {},
   "outputs": [
    {
     "name": "stdout",
     "output_type": "stream",
     "text": [
      "-------\n",
      "Starting making bagel...\n",
      "Finished making bagel!\n",
      "-------\n",
      "The bagel is ready!\n",
      "---------------------\n"
     ]
    }
   ],
   "source": [
    "make_bagel()"
   ]
  },
  {
   "cell_type": "code",
   "execution_count": 5,
   "id": "cfad3bdd",
   "metadata": {},
   "outputs": [],
   "source": [
    "#Does -> str obligates you to return string?\n",
    "\n",
    "def add(a,b) -> str:\n",
    "    return int(a+b)"
   ]
  },
  {
   "cell_type": "code",
   "execution_count": 6,
   "id": "efd13d6f",
   "metadata": {},
   "outputs": [
    {
     "data": {
      "text/plain": [
       "5"
      ]
     },
     "execution_count": 6,
     "metadata": {},
     "output_type": "execute_result"
    }
   ],
   "source": [
    "add(2,3)"
   ]
  },
  {
   "cell_type": "markdown",
   "id": "5097ea66",
   "metadata": {},
   "source": [
    "The annotation is more of a hint for developers and tools to understand the expected type."
   ]
  },
  {
   "cell_type": "code",
   "execution_count": 7,
   "id": "c270404b",
   "metadata": {},
   "outputs": [],
   "source": [
    "def make_coffee() -> None:\n",
    "    print(\"-------\")\n",
    "    print('Starting to make a coffee...')\n",
    "    time.sleep(3) #It takes 3s to make it!\n",
    "    print('Finished making coffee!')\n",
    "    print(\"-------\")\n",
    "    print(\"The coffee is ready!\")\n",
    "    print(\"---------------------\")"
   ]
  },
  {
   "cell_type": "code",
   "execution_count": 8,
   "id": "c79516bc",
   "metadata": {
    "scrolled": true
   },
   "outputs": [
    {
     "name": "stdout",
     "output_type": "stream",
     "text": [
      "-------\n",
      "Starting to make a coffee...\n",
      "Finished making coffee!\n",
      "-------\n",
      "The coffee is ready!\n",
      "---------------------\n"
     ]
    }
   ],
   "source": [
    "make_coffee()"
   ]
  },
  {
   "cell_type": "markdown",
   "id": "6d848c58",
   "metadata": {},
   "source": [
    "In many programming languages, including Python, the main thread is responsible for executing the main flow of the program from top to bottom."
   ]
  },
  {
   "cell_type": "code",
   "execution_count": 9,
   "id": "3adf44e6",
   "metadata": {},
   "outputs": [],
   "source": [
    "def main():\n",
    "    start_time = time.time()\n",
    "    \n",
    "    result_bagel = make_bagel()\n",
    "    result_coffee = make_coffee()\n",
    "    \n",
    "    end_time = time.time()\n",
    "    \n",
    "    elapsed_time = end_time - start_time\n",
    "    \n",
    "    return elapsed_time"
   ]
  },
  {
   "cell_type": "code",
   "execution_count": 10,
   "id": "8702b9c2",
   "metadata": {},
   "outputs": [
    {
     "name": "stdout",
     "output_type": "stream",
     "text": [
      "-------\n",
      "Starting making bagel...\n",
      "Finished making bagel!\n",
      "-------\n",
      "The bagel is ready!\n",
      "---------------------\n",
      "-------\n",
      "Starting to make a coffee...\n",
      "Finished making coffee!\n",
      "-------\n",
      "The coffee is ready!\n",
      "---------------------\n"
     ]
    },
    {
     "data": {
      "text/plain": [
       "5.005155801773071"
      ]
     },
     "execution_count": 10,
     "metadata": {},
     "output_type": "execute_result"
    }
   ],
   "source": [
    "main()"
   ]
  },
  {
   "cell_type": "code",
   "execution_count": 11,
   "id": "294375ef",
   "metadata": {},
   "outputs": [
    {
     "data": {
      "text/plain": [
       "(14366.843812271, 1703192017.1300092)"
      ]
     },
     "execution_count": 11,
     "metadata": {},
     "output_type": "execute_result"
    }
   ],
   "source": [
    "#perf_counter() gives you time as a stopwatch how much time you've spent coding lol\n",
    "time.perf_counter(), time.time()"
   ]
  },
  {
   "cell_type": "code",
   "execution_count": 12,
   "id": "5caf6e76",
   "metadata": {},
   "outputs": [],
   "source": [
    "def main() -> float:\n",
    "    start_time = time.perf_counter()\n",
    "    \n",
    "    result_bagel = make_bagel()\n",
    "    result_coffee = make_coffee()\n",
    "    \n",
    "    end_time = time.perf_counter()\n",
    "    \n",
    "    elapsed_time = end_time - start_time\n",
    "    \n",
    "    return elapsed_time"
   ]
  },
  {
   "cell_type": "code",
   "execution_count": 13,
   "id": "8458496c",
   "metadata": {},
   "outputs": [
    {
     "name": "stdout",
     "output_type": "stream",
     "text": [
      "-------\n",
      "Starting making bagel...\n",
      "Finished making bagel!\n",
      "-------\n",
      "The bagel is ready!\n",
      "---------------------\n",
      "-------\n",
      "Starting to make a coffee...\n",
      "Finished making coffee!\n",
      "-------\n",
      "The coffee is ready!\n",
      "---------------------\n"
     ]
    },
    {
     "data": {
      "text/plain": [
       "5.003793572999712"
      ]
     },
     "execution_count": 13,
     "metadata": {},
     "output_type": "execute_result"
    }
   ],
   "source": [
    "#Not much of a difference but... experts use it!\n",
    "main()"
   ]
  },
  {
   "cell_type": "markdown",
   "id": "ae76dbfd",
   "metadata": {},
   "source": [
    "Should I first make a bagel and then coffee, or vice versa? Or it might be a good idea to make them roughly at the same time!\n",
    "\n",
    "subroutines -> functions we usually programm which make sub(set) of a larger program (main thread!)\n",
    "\n",
    "coroutines -> asynchronous function that run in \"cooperation\"/\"together\" with the larger program (main thread!)"
   ]
  },
  {
   "cell_type": "code",
   "execution_count": 14,
   "id": "045c2532",
   "metadata": {},
   "outputs": [
    {
     "name": "stdout",
     "output_type": "stream",
     "text": [
      "-------\n",
      "Starting to make a coffee...\n",
      "-------\n",
      "Starting making bagel...\n",
      "Finished making bagel!\n",
      "-------\n",
      "The bagel is ready!\n",
      "---------------------\n",
      "Finished making coffee!\n",
      "-------\n",
      "The coffee is ready!\n",
      "---------------------\n"
     ]
    },
    {
     "data": {
      "text/plain": [
       "3.0036600439998438"
      ]
     },
     "execution_count": 14,
     "metadata": {},
     "output_type": "execute_result"
    }
   ],
   "source": [
    "async def make_bagel() -> None:\n",
    "        print(\"-------\")\n",
    "        print('Starting making bagel...')\n",
    "        await asyncio.sleep(2) #It takes 2s to make it!\n",
    "        print('Finished making bagel!')\n",
    "        print(\"-------\")\n",
    "        print(\"The bagel is ready!\")\n",
    "        print(\"---------------------\")\n",
    "\n",
    "async def make_coffee() -> None:\n",
    "        print(\"-------\")\n",
    "        print('Starting to make a coffee...')\n",
    "        await asyncio.sleep(3) #It takes 3s to make it!\n",
    "        print('Finished making coffee!')\n",
    "        print(\"-------\")\n",
    "        print(\"The coffee is ready!\")\n",
    "        print(\"---------------------\")\n",
    "\n",
    "async def main() -> float:\n",
    "        start_time = time.perf_counter()\n",
    "\n",
    "        result_of_making_them_together = await asyncio.gather(make_coffee(), make_bagel())\n",
    "\n",
    "        end_time = time.perf_counter()\n",
    "\n",
    "        elapsed_time = end_time - start_time\n",
    "\n",
    "        return elapsed_time\n",
    "\n",
    "await main()"
   ]
  },
  {
   "cell_type": "markdown",
   "id": "73ad71cb",
   "metadata": {},
   "source": [
    "I know it is not very inteligent to understand in this way the timeline, but think of a timeline that starts at `t==0`. If you do these two in parallel (on a single thread; which means concurently) it would take you 3s to finish both tasks. Yes, there are all the delays in between and you can mimic those using ex. `random` but this is toy example with ideal case scenario!"
   ]
  },
  {
   "cell_type": "markdown",
   "id": "75c868da",
   "metadata": {},
   "source": [
    "## Enums"
   ]
  },
  {
   "cell_type": "code",
   "execution_count": 15,
   "id": "5b1f5240",
   "metadata": {},
   "outputs": [],
   "source": [
    "from enum import Enum, auto\n",
    "\n",
    "class Season(Enum):\n",
    "    SPRING = 44\n",
    "    SUMMER = auto()\n",
    "    AUTUMN = auto()\n",
    "    WINTER = auto()"
   ]
  },
  {
   "cell_type": "code",
   "execution_count": 16,
   "id": "3927eb06",
   "metadata": {},
   "outputs": [
    {
     "data": {
      "text/plain": [
       "45"
      ]
     },
     "execution_count": 16,
     "metadata": {},
     "output_type": "execute_result"
    }
   ],
   "source": [
    "Season.SUMMER.value"
   ]
  },
  {
   "cell_type": "code",
   "execution_count": 17,
   "id": "7dabf8c7",
   "metadata": {},
   "outputs": [],
   "source": [
    "class CoffeeSize(Enum):\n",
    "    SMALL = auto()\n",
    "    MEDIUM = auto()\n",
    "    LARGE = auto()\n",
    "    \n",
    "def print_cup_size(size: CoffeeSize) -> None:\n",
    "    if size == CoffeeSize.SMALL:\n",
    "        print(\"Small\")"
   ]
  },
  {
   "cell_type": "code",
   "execution_count": 18,
   "id": "969e8d55",
   "metadata": {},
   "outputs": [
    {
     "name": "stdout",
     "output_type": "stream",
     "text": [
      "Small\n"
     ]
    }
   ],
   "source": [
    "print_cup_size(CoffeeSize.SMALL)"
   ]
  },
  {
   "cell_type": "code",
   "execution_count": 19,
   "id": "723877ee",
   "metadata": {},
   "outputs": [
    {
     "name": "stdout",
     "output_type": "stream",
     "text": [
      "The size of the cup is 'small'.\n"
     ]
    }
   ],
   "source": [
    "class CoffeeSize(Enum):\n",
    "    SMALL = auto()\n",
    "    MEDIUM = auto()\n",
    "    LARGE = auto()\n",
    "\n",
    "def print_cup_size(size: CoffeeSize) -> None:\n",
    "\n",
    "        if size == CoffeeSize.SMALL:\n",
    "            print(\"The size of the cup is 'small'.\")\n",
    "        elif size == CoffeeSize.MEDIUM:\n",
    "            print(\"The size of the cup is 'medium'.\")\n",
    "        elif size == CoffeeSize.LARGE:\n",
    "            print(\"The size of the cup is 'large'.\")\n",
    "\n",
    "print_cup_size(CoffeeSize.SMALL)"
   ]
  },
  {
   "cell_type": "code",
   "execution_count": 20,
   "id": "9e05cb93",
   "metadata": {},
   "outputs": [
    {
     "data": {
      "text/plain": [
       "(32, 33)"
      ]
     },
     "execution_count": 20,
     "metadata": {},
     "output_type": "execute_result"
    }
   ],
   "source": [
    "class CoffeeSize(Enum):\n",
    "    SMALL = 32\n",
    "    MEDIUM = auto()\n",
    "    LARGE = auto()\n",
    "\n",
    "def print_cup_size(size: CoffeeSize) -> None:\n",
    "\n",
    "        if size == CoffeeSize.SMALL:\n",
    "            return CoffeeSize.SMALL.value\n",
    "        elif size == CoffeeSize.MEDIUM:\n",
    "            return CoffeeSize.MEDIUM.value\n",
    "        elif size == CoffeeSize.LARGE:\n",
    "            return CoffeeSize.LARGE.value\n",
    "\n",
    "print_cup_size(CoffeeSize.SMALL), print_cup_size(CoffeeSize.MEDIUM)"
   ]
  },
  {
   "cell_type": "markdown",
   "id": "b7663fec",
   "metadata": {},
   "source": [
    "## Using to_thread() to make a separate thread for a blocking code that is not asynchronous\n",
    "\n",
    "In the context of Python's asyncio and `asyncio.to_thread()`, it's about concurrency at the Python interpreter level, not necessarily at the hardware thread level.\n",
    "\n",
    "In Python, the Global Interpreter Lock (GIL) prevents multiple native threads from executing Python bytecodes at once. Therefore, even if you have a machine with multiple CPU threads, the GIL limits the concurrent execution of Python code. However, the use of separate threads can still be beneficial in certain scenarios, such as when dealing with blocking I/O operations."
   ]
  },
  {
   "cell_type": "code",
   "execution_count": 21,
   "id": "eac14fcc",
   "metadata": {},
   "outputs": [],
   "source": [
    "%run req-http.py"
   ]
  }
 ],
 "metadata": {
  "kernelspec": {
   "display_name": "jupyter-venv",
   "language": "python",
   "name": "jupyter-venv"
  },
  "language_info": {
   "codemirror_mode": {
    "name": "ipython",
    "version": 3
   },
   "file_extension": ".py",
   "mimetype": "text/x-python",
   "name": "python",
   "nbconvert_exporter": "python",
   "pygments_lexer": "ipython3",
   "version": "3.12.0"
  }
 },
 "nbformat": 4,
 "nbformat_minor": 5
}
