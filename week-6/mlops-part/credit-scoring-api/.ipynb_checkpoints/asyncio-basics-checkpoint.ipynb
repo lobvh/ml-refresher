{
 "cells": [
  {
   "cell_type": "code",
   "execution_count": 1,
   "id": "33227350",
   "metadata": {},
   "outputs": [],
   "source": [
    "import asyncio\n",
    "import time"
   ]
  },
  {
   "cell_type": "code",
   "execution_count": 2,
   "id": "e1a160b5",
   "metadata": {},
   "outputs": [
    {
     "data": {
      "text/plain": [
       "4111.825663708"
      ]
     },
     "execution_count": 2,
     "metadata": {},
     "output_type": "execute_result"
    }
   ],
   "source": [
    "#It actually is like a stopwatch for 'how much time you've spent coding'\n",
    "#Look at cell In [11]\n",
    "time.perf_counter()"
   ]
  },
  {
   "cell_type": "code",
   "execution_count": 3,
   "id": "3a151e34",
   "metadata": {},
   "outputs": [],
   "source": [
    "def make_bagel() -> None:\n",
    "    print(\"-------\")\n",
    "    print('Starting making bagel...')\n",
    "    time.sleep(2) #It takes 2s to make it!\n",
    "    print('Finished making bagel!')\n",
    "    print(\"-------\")\n",
    "    print(\"The bagel is ready!\")\n",
    "    print(\"---------------------\")"
   ]
  },
  {
   "cell_type": "code",
   "execution_count": 4,
   "id": "19872c66",
   "metadata": {},
   "outputs": [
    {
     "name": "stdout",
     "output_type": "stream",
     "text": [
      "-------\n",
      "Starting making bagel...\n",
      "Finished making bagel!\n",
      "-------\n",
      "The bagel is ready!\n",
      "---------------------\n"
     ]
    }
   ],
   "source": [
    "make_bagel()"
   ]
  },
  {
   "cell_type": "code",
   "execution_count": 5,
   "id": "cfad3bdd",
   "metadata": {},
   "outputs": [],
   "source": [
    "#Does -> str obligates you to return string?\n",
    "\n",
    "def add(a,b) -> str:\n",
    "    return int(a+b)"
   ]
  },
  {
   "cell_type": "code",
   "execution_count": 6,
   "id": "efd13d6f",
   "metadata": {},
   "outputs": [
    {
     "data": {
      "text/plain": [
       "5"
      ]
     },
     "execution_count": 6,
     "metadata": {},
     "output_type": "execute_result"
    }
   ],
   "source": [
    "add(2,3)"
   ]
  },
  {
   "cell_type": "markdown",
   "id": "5097ea66",
   "metadata": {},
   "source": [
    "The annotation is more of a hint for developers and tools to understand the expected type."
   ]
  },
  {
   "cell_type": "code",
   "execution_count": 7,
   "id": "c270404b",
   "metadata": {},
   "outputs": [],
   "source": [
    "def make_coffee() -> None:\n",
    "    print(\"-------\")\n",
    "    print('Starting to make a coffee...')\n",
    "    time.sleep(3) #It takes 3s to make it!\n",
    "    print('Finished making coffee!')\n",
    "    print(\"-------\")\n",
    "    print(\"The coffee is ready!\")\n",
    "    print(\"---------------------\")"
   ]
  },
  {
   "cell_type": "code",
   "execution_count": 8,
   "id": "c79516bc",
   "metadata": {
    "scrolled": true
   },
   "outputs": [
    {
     "name": "stdout",
     "output_type": "stream",
     "text": [
      "-------\n",
      "Starting to make a coffee...\n",
      "Finished making coffee!\n",
      "-------\n",
      "The coffee is ready!\n",
      "---------------------\n"
     ]
    }
   ],
   "source": [
    "make_coffee()"
   ]
  },
  {
   "cell_type": "markdown",
   "id": "6d848c58",
   "metadata": {},
   "source": [
    "In many programming languages, including Python, the main thread is responsible for executing the main flow of the program from top to bottom."
   ]
  },
  {
   "cell_type": "code",
   "execution_count": 9,
   "id": "3adf44e6",
   "metadata": {},
   "outputs": [],
   "source": [
    "def main():\n",
    "    start_time = time.time()\n",
    "    \n",
    "    result_bagel = make_bagel()\n",
    "    result_coffee = make_coffee()\n",
    "    \n",
    "    end_time = time.time()\n",
    "    \n",
    "    elapsed_time = end_time - start_time\n",
    "    \n",
    "    return elapsed_time"
   ]
  },
  {
   "cell_type": "code",
   "execution_count": 10,
   "id": "8702b9c2",
   "metadata": {},
   "outputs": [
    {
     "name": "stdout",
     "output_type": "stream",
     "text": [
      "-------\n",
      "Starting making bagel...\n",
      "Finished making bagel!\n",
      "-------\n",
      "The bagel is ready!\n",
      "---------------------\n",
      "-------\n",
      "Starting to make a coffee...\n",
      "Finished making coffee!\n",
      "-------\n",
      "The coffee is ready!\n",
      "---------------------\n"
     ]
    },
    {
     "data": {
      "text/plain": [
       "5.007521629333496"
      ]
     },
     "execution_count": 10,
     "metadata": {},
     "output_type": "execute_result"
    }
   ],
   "source": [
    "main()"
   ]
  },
  {
   "cell_type": "code",
   "execution_count": 11,
   "id": "294375ef",
   "metadata": {},
   "outputs": [
    {
     "data": {
      "text/plain": [
       "(4121.913800935, 1703264220.8174741)"
      ]
     },
     "execution_count": 11,
     "metadata": {},
     "output_type": "execute_result"
    }
   ],
   "source": [
    "#perf_counter() gives you time as a stopwatch how much time you've spent coding lol\n",
    "time.perf_counter(), time.time()"
   ]
  },
  {
   "cell_type": "code",
   "execution_count": 12,
   "id": "5caf6e76",
   "metadata": {},
   "outputs": [],
   "source": [
    "def main() -> float:\n",
    "    start_time = time.perf_counter()\n",
    "    \n",
    "    result_bagel = make_bagel()\n",
    "    result_coffee = make_coffee()\n",
    "    \n",
    "    end_time = time.perf_counter()\n",
    "    \n",
    "    elapsed_time = end_time - start_time\n",
    "    \n",
    "    return elapsed_time"
   ]
  },
  {
   "cell_type": "code",
   "execution_count": 13,
   "id": "8458496c",
   "metadata": {},
   "outputs": [
    {
     "name": "stdout",
     "output_type": "stream",
     "text": [
      "-------\n",
      "Starting making bagel...\n",
      "Finished making bagel!\n",
      "-------\n",
      "The bagel is ready!\n",
      "---------------------\n",
      "-------\n",
      "Starting to make a coffee...\n",
      "Finished making coffee!\n",
      "-------\n",
      "The coffee is ready!\n",
      "---------------------\n"
     ]
    },
    {
     "data": {
      "text/plain": [
       "5.0110759150002195"
      ]
     },
     "execution_count": 13,
     "metadata": {},
     "output_type": "execute_result"
    }
   ],
   "source": [
    "#Not much of a difference but... experts use it!\n",
    "main()"
   ]
  },
  {
   "cell_type": "markdown",
   "id": "ae76dbfd",
   "metadata": {},
   "source": [
    "Should I first make a bagel and then coffee, or vice versa? Or it might be a good idea to make them roughly at the same time!\n",
    "\n",
    "subroutines -> functions we usually programm which make sub(set) of a larger program (main thread!)\n",
    "\n",
    "coroutines -> asynchronous function that run in \"cooperation\"/\"together\" with the larger program (main thread!)"
   ]
  },
  {
   "cell_type": "code",
   "execution_count": 14,
   "id": "045c2532",
   "metadata": {},
   "outputs": [
    {
     "name": "stdout",
     "output_type": "stream",
     "text": [
      "-------\n",
      "Starting to make a coffee...\n",
      "-------\n",
      "Starting making bagel...\n",
      "Finished making bagel!\n",
      "-------\n",
      "The bagel is ready!\n",
      "---------------------\n",
      "Finished making coffee!\n",
      "-------\n",
      "The coffee is ready!\n",
      "---------------------\n"
     ]
    },
    {
     "data": {
      "text/plain": [
       "3.0036751679999725"
      ]
     },
     "execution_count": 14,
     "metadata": {},
     "output_type": "execute_result"
    }
   ],
   "source": [
    "async def make_bagel() -> None:\n",
    "        print(\"-------\")\n",
    "        print('Starting making bagel...')\n",
    "        await asyncio.sleep(2) #It takes 2s to make it!\n",
    "        print('Finished making bagel!')\n",
    "        print(\"-------\")\n",
    "        print(\"The bagel is ready!\")\n",
    "        print(\"---------------------\")\n",
    "\n",
    "async def make_coffee() -> None:\n",
    "        print(\"-------\")\n",
    "        print('Starting to make a coffee...')\n",
    "        await asyncio.sleep(3) #It takes 3s to make it!\n",
    "        print('Finished making coffee!')\n",
    "        print(\"-------\")\n",
    "        print(\"The coffee is ready!\")\n",
    "        print(\"---------------------\")\n",
    "\n",
    "async def main() -> float:\n",
    "        start_time = time.perf_counter()\n",
    "\n",
    "        result_of_making_them_together = await asyncio.gather(make_coffee(), make_bagel())\n",
    "\n",
    "        end_time = time.perf_counter()\n",
    "\n",
    "        elapsed_time = end_time - start_time\n",
    "\n",
    "        return elapsed_time\n",
    "\n",
    "await main()"
   ]
  },
  {
   "cell_type": "markdown",
   "id": "73ad71cb",
   "metadata": {},
   "source": [
    "I know it is not very inteligent to understand in this way the timeline, but think of a timeline that starts at `t==0`. If you do these two in parallel (on a single thread; which means concurently) it would take you 3s to finish both tasks. Yes, there are all the delays in between and you can mimic those using ex. `random` but this is toy example with ideal case scenario!"
   ]
  },
  {
   "cell_type": "markdown",
   "id": "75c868da",
   "metadata": {},
   "source": [
    "## Enums"
   ]
  },
  {
   "cell_type": "code",
   "execution_count": 15,
   "id": "5b1f5240",
   "metadata": {},
   "outputs": [],
   "source": [
    "from enum import Enum, auto\n",
    "\n",
    "class Season(Enum):\n",
    "    SPRING = 44\n",
    "    SUMMER = auto()\n",
    "    AUTUMN = auto()\n",
    "    WINTER = auto()"
   ]
  },
  {
   "cell_type": "code",
   "execution_count": 16,
   "id": "3927eb06",
   "metadata": {},
   "outputs": [
    {
     "data": {
      "text/plain": [
       "45"
      ]
     },
     "execution_count": 16,
     "metadata": {},
     "output_type": "execute_result"
    }
   ],
   "source": [
    "Season.SUMMER.value"
   ]
  },
  {
   "cell_type": "code",
   "execution_count": 17,
   "id": "7dabf8c7",
   "metadata": {},
   "outputs": [],
   "source": [
    "class CoffeeSize(Enum):\n",
    "    SMALL = auto()\n",
    "    MEDIUM = auto()\n",
    "    LARGE = auto()\n",
    "    \n",
    "def print_cup_size(size: CoffeeSize) -> None:\n",
    "    if size == CoffeeSize.SMALL:\n",
    "        print(\"Small\")"
   ]
  },
  {
   "cell_type": "code",
   "execution_count": 18,
   "id": "969e8d55",
   "metadata": {},
   "outputs": [
    {
     "name": "stdout",
     "output_type": "stream",
     "text": [
      "Small\n"
     ]
    }
   ],
   "source": [
    "print_cup_size(CoffeeSize.SMALL)"
   ]
  },
  {
   "cell_type": "code",
   "execution_count": 19,
   "id": "723877ee",
   "metadata": {},
   "outputs": [
    {
     "name": "stdout",
     "output_type": "stream",
     "text": [
      "The size of the cup is 'small'.\n"
     ]
    }
   ],
   "source": [
    "class CoffeeSize(Enum):\n",
    "    SMALL = auto()\n",
    "    MEDIUM = auto()\n",
    "    LARGE = auto()\n",
    "\n",
    "def print_cup_size(size: CoffeeSize) -> None:\n",
    "\n",
    "        if size == CoffeeSize.SMALL:\n",
    "            print(\"The size of the cup is 'small'.\")\n",
    "        elif size == CoffeeSize.MEDIUM:\n",
    "            print(\"The size of the cup is 'medium'.\")\n",
    "        elif size == CoffeeSize.LARGE:\n",
    "            print(\"The size of the cup is 'large'.\")\n",
    "\n",
    "print_cup_size(CoffeeSize.SMALL)"
   ]
  },
  {
   "cell_type": "code",
   "execution_count": 20,
   "id": "9e05cb93",
   "metadata": {},
   "outputs": [
    {
     "data": {
      "text/plain": [
       "(32, 33)"
      ]
     },
     "execution_count": 20,
     "metadata": {},
     "output_type": "execute_result"
    }
   ],
   "source": [
    "class CoffeeSize(Enum):\n",
    "    SMALL = 32\n",
    "    MEDIUM = auto()\n",
    "    LARGE = auto()\n",
    "\n",
    "def print_cup_size(size: CoffeeSize) -> None:\n",
    "\n",
    "        if size == CoffeeSize.SMALL:\n",
    "            return CoffeeSize.SMALL.value\n",
    "        elif size == CoffeeSize.MEDIUM:\n",
    "            return CoffeeSize.MEDIUM.value\n",
    "        elif size == CoffeeSize.LARGE:\n",
    "            return CoffeeSize.LARGE.value\n",
    "\n",
    "print_cup_size(CoffeeSize.SMALL), print_cup_size(CoffeeSize.MEDIUM)"
   ]
  },
  {
   "cell_type": "markdown",
   "id": "b7663fec",
   "metadata": {},
   "source": [
    "## Using to_thread() to make a separate thread for a blocking code that is not asynchronous\n",
    "\n",
    "In the context of Python's asyncio and `asyncio.to_thread()`, it's about concurrency at the Python interpreter level, not necessarily at the hardware thread level.\n",
    "\n",
    "In Python, the Global Interpreter Lock (GIL) prevents multiple native threads from executing Python bytecodes at once. Therefore, even if you have a machine with multiple CPU threads, the GIL limits the concurrent execution of Python code. However, the use of separate threads can still be beneficial in certain scenarios, such as when dealing with blocking I/O operations."
   ]
  },
  {
   "cell_type": "code",
   "execution_count": 35,
   "id": "eac14fcc",
   "metadata": {},
   "outputs": [],
   "source": [
    "import asyncio\n",
    "\n",
    "import requests\n",
    "\n",
    "# A few handy JSON types\n",
    "JSON = int | str | float | bool | None | dict[str, \"JSON\"] | list[\"JSON\"]\n",
    "JSONObject = dict[str, JSON]\n",
    "JSONList = list[JSON]\n",
    "\n",
    "\n",
    "def http_get_sync(url: str) -> JSONObject:\n",
    "    response = requests.get(url)\n",
    "    return response.json()\n",
    "\n",
    "\n",
    "async def http_get(url: str) -> JSONObject:\n",
    "    return await asyncio.to_thread(http_get_sync, url)\n",
    "'''\n",
    "It is worth mentioning that 'out of the box' the request library isn't \n",
    "'''"
   ]
  },
  {
   "cell_type": "markdown",
   "id": "2a5afb3a-714d-4a36-a03b-6885b7a7a417",
   "metadata": {},
   "source": [
    "This is just a type HINT:\n",
    "\n",
    "```python\n",
    "JSON = int | str | float | bool | None | dict[str, \"JSON\"] | list[\"JSON\"]\n",
    "```\n",
    "\n",
    "It is just a hint of what JSON should look like. Also, it is worth mentioning that `dict[str, \"JSON\"]` is sort of \"self-referencing\" where we expect a JSON to be of structure where it is a dictionary with random string being a `key`, and expect JSON inside `value`.\n",
    "That is why it is typed in with \" \". \n",
    "\n",
    "You can do this \n",
    "\n",
    "```python\n",
    "a = int | float\n",
    "a = \"something\"\n",
    "```\n",
    "and it works because the Python is dynamically typed. These are also type hints:\n",
    "\n",
    "```python\n",
    "\n",
    "def fn(a: int, b: int) -> int:\n",
    "    return a+b \n",
    "```\n",
    "\n",
    "because you can do fn(\"some\", \"body\") and it will return a string of value \"somebody\"."
   ]
  },
  {
   "cell_type": "code",
   "execution_count": 32,
   "id": "2cdaf4ea-a3e7-4268-90bd-ef806817a2a2",
   "metadata": {},
   "outputs": [
    {
     "data": {
      "text/plain": [
       "'somebody'"
      ]
     },
     "execution_count": 32,
     "metadata": {},
     "output_type": "execute_result"
    }
   ],
   "source": [
    "def fn(a: int) -> int:\n",
    "    return a\n",
    "\n",
    "fn(\"somebody\")"
   ]
  },
  {
   "cell_type": "code",
   "execution_count": 33,
   "id": "5bbd06c2-51df-4f19-8bcb-26a6c6113a1b",
   "metadata": {},
   "outputs": [
    {
     "data": {
      "text/plain": [
       "'somebody'"
      ]
     },
     "execution_count": 33,
     "metadata": {},
     "output_type": "execute_result"
    }
   ],
   "source": [
    "def fn(a: int, b: int) -> int:\n",
    "    return a+b \n",
    "\n",
    "\n",
    "fn(\"some\", \"body\")"
   ]
  },
  {
   "cell_type": "code",
   "execution_count": 48,
   "id": "76043703-bc63-4169-86ee-4872ae7b2bc5",
   "metadata": {},
   "outputs": [],
   "source": [
    "from random import randint\n",
    "\n",
    "def http_get_sync(url: str) -> JSONObject:\n",
    "    response = requests.get(url)\n",
    "    return response.json()\n",
    "\n",
    "\n",
    "async def http_get(url: str) -> JSONObject:\n",
    "    return await asyncio.to_thread(http_get_sync, url)\n",
    "\n",
    "\n",
    "# The highest Pokemon id\n",
    "MAX_POKEMON = 898\n",
    "\n",
    "\n",
    "async def get_pokemon(pokemon_id: int) -> JSONObject:\n",
    "    pokemon_url = f\"https://pokeapi.co/api/v2/pokemon/{pokemon_id}\"\n",
    "    return await http_get(pokemon_url)\n",
    "\n",
    "#This still doesn't make an API call concurrent even if we made http_get() with to_thread. We need asyncio.gather()\n",
    "async def main() -> None:\n",
    "    pokemon_id = randint(1, MAX_POKEMON)\n",
    "    pokemon = await get_pokemon(pokemon_id + 1)\n",
    "    print(pokemon[\"name\"])"
   ]
  },
  {
   "cell_type": "code",
   "execution_count": 72,
   "id": "7c937773-4e31-4a20-9909-900f5fc543b3",
   "metadata": {},
   "outputs": [],
   "source": [
    "#main function with asyncio.gather() and using http_get\n",
    "\n",
    "def get_random_pokemon_name_sync() -> str:\n",
    "    pokemon_id = randint(1, MAX_POKEMON)\n",
    "    pokemon_url = f\"https://pokeapi.co/api/v2/pokemon/{pokemon_id}\"\n",
    "    pokemon = http_get_sync(pokemon_url)\n",
    "    return str(pokemon[\"name\"])\n",
    "\n",
    "\n",
    "async def get_random_pokemon_name() -> str:\n",
    "    pokemon_id = randint(1, MAX_POKEMON)\n",
    "    pokemon_url = f\"https://pokeapi.co/api/v2/pokemon/{pokemon_id}\"\n",
    "    pokemon = await http_get(pokemon_url)\n",
    "    return str(pokemon[\"name\"])\n",
    "\n",
    "async def main() -> None:\n",
    "    hold = await asyncio.gather(*[get_random_pokemon_name() for _ in range(20)])\n",
    "    print(hold)"
   ]
  },
  {
   "cell_type": "code",
   "execution_count": 73,
   "id": "20424f76-478f-46f8-bc5e-2af77c7717be",
   "metadata": {},
   "outputs": [
    {
     "name": "stdout",
     "output_type": "stream",
     "text": [
      "['ambipom', 'quilava', 'swirlix', 'politoed', 'ledyba', 'turtwig', 'fearow', 'nuzleaf', 'illumise', 'passimian', 'graveler', 'nosepass', 'arcanine', 'suicune', 'slaking', 'kommo-o', 'duraludon', 'aurorus', 'jolteon', 'poipole']\n"
     ]
    }
   ],
   "source": [
    "await main()"
   ]
  },
  {
   "cell_type": "markdown",
   "id": "33f4b446-ca82-4577-ba80-752dfb7179d8",
   "metadata": {},
   "source": [
    "## Connection Pooling\n",
    "\n",
    "Connection pooling involves reusing existing connections instead of opening a new connection for each request. This can significantly reduce the overhead of establishing a new connection for each request. Without connection pooling, a new connection has to be established for every single request, which can be a performance bottleneck, especially when making multiple requests to the same server.\n",
    "\n",
    "The Session object maintains a pool of connections to the target server. When you make a request using a Session, it will reuse an existing connection from the pool if one is available, or it will create a new connection and add it to the pool.\n",
    "\n",
    "That is why it used with the `with` statement. It is just a Context Manager where something has to be opened once for the chunk of code that needs to use it and then you have to close it! "
   ]
  },
  {
   "cell_type": "code",
   "execution_count": null,
   "id": "2d9aa8f6-2d73-433c-8766-284120830dad",
   "metadata": {},
   "outputs": [],
   "source": [
    "# Without using Session (no connection pooling)\n",
    "for _ in range(10):\n",
    "    response = requests.get('https://example.com')\n",
    "\n",
    "# With Session (connection pooling)\n",
    "with requests.Session() as session:\n",
    "    for _ in range(10):\n",
    "        response = session.get('https://example.com')\n"
   ]
  }
 ],
 "metadata": {
  "kernelspec": {
   "display_name": "jupyter-venv",
   "language": "python",
   "name": "jupyter-venv"
  },
  "language_info": {
   "codemirror_mode": {
    "name": "ipython",
    "version": 3
   },
   "file_extension": ".py",
   "mimetype": "text/x-python",
   "name": "python",
   "nbconvert_exporter": "python",
   "pygments_lexer": "ipython3",
   "version": "3.12.0"
  }
 },
 "nbformat": 4,
 "nbformat_minor": 5
}
