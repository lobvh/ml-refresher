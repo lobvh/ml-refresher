{
 "cells": [
  {
   "cell_type": "code",
   "execution_count": 1,
   "id": "18441038-7772-42d9-aedb-15a575e4fbe8",
   "metadata": {},
   "outputs": [],
   "source": [
    "import joblib\n",
    "from pathlib import Path\n",
    "import pandas as pd\n",
    "import httpx\n",
    "from typing import Tuple\n",
    "\n",
    "JSON = dict[str: float|str]\n",
    "ColumnTransformer = \"sklearn.ColumnTransformer\"\n",
    "NumpyArray = \"np.ndarray\""
   ]
  },
  {
   "cell_type": "code",
   "execution_count": 2,
   "id": "0803fc5e-f794-4cc0-a9a5-d6b7437477a8",
   "metadata": {},
   "outputs": [],
   "source": [
    "customer = {\n",
    "\"seniority\": 2,\n",
    "\"income\": 200,\n",
    "\"assets\": 200,\n",
    "\"time\": 1,\n",
    "\"amount\": 1000,\n",
    "\"monthly_payment\": 1000,\n",
    "\"job\": \"fixed\",\n",
    "\"home\": \"rent\",\n",
    "\"records\": \"no\",\n",
    "\"status\": 1,\n",
    "\"id\": 1\n",
    "}\n",
    "\n",
    "def stripping_id(customer: JSON) -> Tuple[str, pd.DataFrame]:\n",
    "    \"\"\"\n",
    "      Strip the 'id' part of an incoming JSON file since the preloaded ColumnTransformer doesn't expects it. \n",
    "      It would take whole new ColumnTransformer to train just for sake of 'id', and at this point of development I'm too lazy to fix\n",
    "      everything. Will make it into consideration next time I develop an app.\n",
    "      At the same time we need to keep the `id` because after the ColumnTransformer makes it's magic the FastAPI expects an 'id' as a part\n",
    "      of \"base model\". Also, ColumnTransformer expects a DataFrame, and hence we convert and return customer dictionary as DataFrame.\n",
    "\n",
    "    Parameters:\n",
    "        customer (JSON): Dictionary containing customer data.\n",
    "\n",
    "    Returns:\n",
    "        customer_id, customer (Tuple): Tuple containing both the id of a customer and stripped version of customer dictionary as DataFrame.\n",
    "    \"\"\"\n",
    "    \n",
    "    customer_id = customer.pop('id')  # Removes 'id' key and returns its value\n",
    "    customer_df = pd.DataFrame([customer])\n",
    "\n",
    "    return customer_id, customer_df\n",
    "\n",
    "#Flow of data pt 1\n",
    "cust_id, cust_df = stripping_id(customer)"
   ]
  },
  {
   "cell_type": "code",
   "execution_count": 3,
   "id": "4bf392ec-925a-49cd-9132-e0dd641cf1ed",
   "metadata": {},
   "outputs": [
    {
     "data": {
      "text/html": [
       "<div>\n",
       "<style scoped>\n",
       "    .dataframe tbody tr th:only-of-type {\n",
       "        vertical-align: middle;\n",
       "    }\n",
       "\n",
       "    .dataframe tbody tr th {\n",
       "        vertical-align: top;\n",
       "    }\n",
       "\n",
       "    .dataframe thead th {\n",
       "        text-align: right;\n",
       "    }\n",
       "</style>\n",
       "<table border=\"1\" class=\"dataframe\">\n",
       "  <thead>\n",
       "    <tr style=\"text-align: right;\">\n",
       "      <th></th>\n",
       "      <th>seniority</th>\n",
       "      <th>income</th>\n",
       "      <th>assets</th>\n",
       "      <th>time</th>\n",
       "      <th>amount</th>\n",
       "      <th>monthly_payment</th>\n",
       "      <th>job</th>\n",
       "      <th>home</th>\n",
       "      <th>records</th>\n",
       "      <th>status</th>\n",
       "    </tr>\n",
       "  </thead>\n",
       "  <tbody>\n",
       "    <tr>\n",
       "      <th>0</th>\n",
       "      <td>2</td>\n",
       "      <td>200</td>\n",
       "      <td>200</td>\n",
       "      <td>1</td>\n",
       "      <td>1000</td>\n",
       "      <td>1000</td>\n",
       "      <td>fixed</td>\n",
       "      <td>rent</td>\n",
       "      <td>no</td>\n",
       "      <td>1</td>\n",
       "    </tr>\n",
       "  </tbody>\n",
       "</table>\n",
       "</div>"
      ],
      "text/plain": [
       "   seniority  income  assets  time  amount  monthly_payment    job  home  \\\n",
       "0          2     200     200     1    1000             1000  fixed  rent   \n",
       "\n",
       "  records  status  \n",
       "0      no       1  "
      ]
     },
     "execution_count": 3,
     "metadata": {},
     "output_type": "execute_result"
    }
   ],
   "source": [
    "cust_df"
   ]
  },
  {
   "cell_type": "code",
   "execution_count": 4,
   "id": "cc6b6742-2940-4a5c-8040-23bc3e53a4c3",
   "metadata": {},
   "outputs": [],
   "source": [
    "def load_column_transformer(model_path: Path) -> ColumnTransformer:\n",
    "    \"\"\"\n",
    "    Load the ColumnTransformer model from the specified path.\n",
    "\n",
    "    Parameters:\n",
    "        model_path (str or Path): Path to the saved ColumnTransformer model.\n",
    "\n",
    "    Returns:\n",
    "        object: Loaded ColumnTransformer model.\n",
    "    \"\"\"\n",
    "    # Convert the input path to a Path object\n",
    "    model_path = Path(model_path)\n",
    "\n",
    "    # Use the resolved path to handle relative paths\n",
    "    resolved_model_path = model_path.resolve()\n",
    "    \n",
    "    return joblib.load(resolved_model_path)"
   ]
  },
  {
   "cell_type": "code",
   "execution_count": 5,
   "id": "e69aa6bb-3d40-4ab1-bd4e-e7da41e0fa8a",
   "metadata": {},
   "outputs": [],
   "source": [
    "#Flow of data pt 2 \n",
    "\n",
    "PATH = '../model/column_transformer.pkl'\n",
    "\n",
    "ct = load_column_transformer(PATH)"
   ]
  },
  {
   "cell_type": "code",
   "execution_count": 6,
   "id": "476bafb3-3640-4d33-875c-ef37a7630115",
   "metadata": {},
   "outputs": [],
   "source": [
    "def scale_customer_data(column_transformer: ColumnTransformer, customer_df: pd.DataFrame) -> pd.DataFrame:\n",
    "    \"\"\"\n",
    "    Given the pre-loaded ColumnTransformer use it to properly scale the columns. \n",
    "    \n",
    "    Parameters:\n",
    "        column_transformer (ColumnTransformer): Preloaded ColumnTransformer.\n",
    "        customer_df (pd.DataFrame): Expects particular type of DataFrame with particular columns suitable just for this case.\n",
    "        customer_id (str): ID of a customer. \n",
    "\n",
    "    Returns:\n",
    "        cust_scaled (pd.DataFrame): DataFrame scaled using pre-loaded ColumnTransformer.\n",
    "    \"\"\"\n",
    "    \n",
    "    \n",
    "    ct = column_transformer\n",
    "    cust_df = customer_df\n",
    "\n",
    "    #Scaling the df using pre-loaded ColumnTransformer\n",
    "    cust_scaled: numpy.ndarray = ct.transform(cust_df)\n",
    "\n",
    "    #Loading feature names from ColumnTransformer\n",
    "    feature_names = ct.get_feature_names_out()\n",
    "\n",
    "    #Converting the cust_scaled to DataFrame\n",
    "    cust_df = pd.DataFrame(cust_scaled, columns = feature_names)\n",
    "\n",
    "    \n",
    "    return cust_df\n",
    "    "
   ]
  },
  {
   "cell_type": "code",
   "execution_count": 7,
   "id": "58c5f95d-1cfa-44f9-8187-b5d5990cf45a",
   "metadata": {},
   "outputs": [
    {
     "data": {
      "text/html": [
       "<div>\n",
       "<style scoped>\n",
       "    .dataframe tbody tr th:only-of-type {\n",
       "        vertical-align: middle;\n",
       "    }\n",
       "\n",
       "    .dataframe tbody tr th {\n",
       "        vertical-align: top;\n",
       "    }\n",
       "\n",
       "    .dataframe thead th {\n",
       "        text-align: right;\n",
       "    }\n",
       "</style>\n",
       "<table border=\"1\" class=\"dataframe\">\n",
       "  <thead>\n",
       "    <tr style=\"text-align: right;\">\n",
       "      <th></th>\n",
       "      <th>scaler__seniority</th>\n",
       "      <th>scaler__income</th>\n",
       "      <th>scaler__assets</th>\n",
       "      <th>scaler__time</th>\n",
       "      <th>scaler__amount</th>\n",
       "      <th>scaler__monthly_payment</th>\n",
       "      <th>passthrough__job</th>\n",
       "      <th>passthrough__home</th>\n",
       "      <th>passthrough__records</th>\n",
       "      <th>passthrough__status</th>\n",
       "    </tr>\n",
       "  </thead>\n",
       "  <tbody>\n",
       "    <tr>\n",
       "      <th>0</th>\n",
       "      <td>-0.732469</td>\n",
       "      <td>0.811583</td>\n",
       "      <td>-0.446586</td>\n",
       "      <td>-3.10081</td>\n",
       "      <td>-0.082021</td>\n",
       "      <td>56.841009</td>\n",
       "      <td>fixed</td>\n",
       "      <td>rent</td>\n",
       "      <td>no</td>\n",
       "      <td>1</td>\n",
       "    </tr>\n",
       "  </tbody>\n",
       "</table>\n",
       "</div>"
      ],
      "text/plain": [
       "  scaler__seniority scaler__income scaler__assets scaler__time scaler__amount  \\\n",
       "0         -0.732469       0.811583      -0.446586     -3.10081      -0.082021   \n",
       "\n",
       "  scaler__monthly_payment passthrough__job passthrough__home  \\\n",
       "0               56.841009            fixed              rent   \n",
       "\n",
       "  passthrough__records passthrough__status  \n",
       "0                   no                   1  "
      ]
     },
     "execution_count": 7,
     "metadata": {},
     "output_type": "execute_result"
    }
   ],
   "source": [
    "#Flow of Data pt 3\n",
    "df_scaled = scale_customer_data(column_transformer=ct, customer_df = cust_df)\n",
    "df_scaled.head()"
   ]
  },
  {
   "cell_type": "code",
   "execution_count": 8,
   "id": "6dbb0867-2ea0-4bf0-be68-7fbf705fc6cf",
   "metadata": {},
   "outputs": [],
   "source": [
    "def preprocess_scaled_customer_dataframe(scaled_df: pd.DataFrame, customer_id: int) -> JSON:\n",
    "    \"\"\"\n",
    "        Since scaled DataFrame returned from scale_customer_data function returns a DataFrame which has artifacts in column names \n",
    "        from ColumnTransformer such as scaler__ and passthrough__ we need to strip it. We also need to drop the unused columns which FastAPI\n",
    "        doesn't expects such as 'status', and finally we need to convert the DataFrame to a dictionary. \n",
    "\n",
    "    Parameters:\n",
    "        scaled_df (pd.DataFrame): Expects the DataFrame scaled using pre-loaded ColumnTransformer. \n",
    "    Returns:\n",
    "        json (JSON): Dictionary ready for the FastAPI entrypoint.\n",
    "\n",
    "        \n",
    "        \n",
    "    \"\"\"\n",
    "    \n",
    "    #Stripping the misc parts of column names\n",
    "    scaled_df.columns = scaled_df.columns.str.replace('scaler__', '').str.replace('passthrough__', '')\n",
    "\n",
    "    #Now we are safe to drop the unused 'status' column\n",
    "    scaled_df = scaled_df.drop('status', axis=1)\n",
    "\n",
    "    #Convert the DataFrame to dictionary\n",
    "    customer_dict = scaled_df.iloc[0].to_dict()\n",
    "\n",
    "    #Fix the 'id' column to be of type 'str' since FastAPI endpoint expects it that way\n",
    "    customer_dict['id'] = str(cust_id)\n",
    "\n",
    "    return customer_dict"
   ]
  },
  {
   "cell_type": "code",
   "execution_count": 9,
   "id": "dafc4002-d540-40fa-86ed-f386f5b4a752",
   "metadata": {},
   "outputs": [
    {
     "data": {
      "text/html": [
       "<div>\n",
       "<style scoped>\n",
       "    .dataframe tbody tr th:only-of-type {\n",
       "        vertical-align: middle;\n",
       "    }\n",
       "\n",
       "    .dataframe tbody tr th {\n",
       "        vertical-align: top;\n",
       "    }\n",
       "\n",
       "    .dataframe thead th {\n",
       "        text-align: right;\n",
       "    }\n",
       "</style>\n",
       "<table border=\"1\" class=\"dataframe\">\n",
       "  <thead>\n",
       "    <tr style=\"text-align: right;\">\n",
       "      <th></th>\n",
       "      <th>scaler__seniority</th>\n",
       "      <th>scaler__income</th>\n",
       "      <th>scaler__assets</th>\n",
       "      <th>scaler__time</th>\n",
       "      <th>scaler__amount</th>\n",
       "      <th>scaler__monthly_payment</th>\n",
       "      <th>passthrough__job</th>\n",
       "      <th>passthrough__home</th>\n",
       "      <th>passthrough__records</th>\n",
       "      <th>passthrough__status</th>\n",
       "    </tr>\n",
       "  </thead>\n",
       "  <tbody>\n",
       "    <tr>\n",
       "      <th>0</th>\n",
       "      <td>-0.732469</td>\n",
       "      <td>0.811583</td>\n",
       "      <td>-0.446586</td>\n",
       "      <td>-3.10081</td>\n",
       "      <td>-0.082021</td>\n",
       "      <td>56.841009</td>\n",
       "      <td>fixed</td>\n",
       "      <td>rent</td>\n",
       "      <td>no</td>\n",
       "      <td>1</td>\n",
       "    </tr>\n",
       "  </tbody>\n",
       "</table>\n",
       "</div>"
      ],
      "text/plain": [
       "  scaler__seniority scaler__income scaler__assets scaler__time scaler__amount  \\\n",
       "0         -0.732469       0.811583      -0.446586     -3.10081      -0.082021   \n",
       "\n",
       "  scaler__monthly_payment passthrough__job passthrough__home  \\\n",
       "0               56.841009            fixed              rent   \n",
       "\n",
       "  passthrough__records passthrough__status  \n",
       "0                   no                   1  "
      ]
     },
     "execution_count": 9,
     "metadata": {},
     "output_type": "execute_result"
    }
   ],
   "source": [
    "df_scaled"
   ]
  },
  {
   "cell_type": "code",
   "execution_count": 10,
   "id": "64519b0b-93dc-4b96-bf41-e89d3f7e26ab",
   "metadata": {},
   "outputs": [],
   "source": [
    "#Final part of flow \n",
    "\n",
    "dict_final = preprocess_scaled_customer_dataframe(scaled_df = df_scaled, customer_id = cust_id)"
   ]
  },
  {
   "cell_type": "code",
   "execution_count": 11,
   "id": "ec64808f-9cc9-4bad-b757-68297e779bcd",
   "metadata": {},
   "outputs": [
    {
     "data": {
      "text/plain": [
       "{'seniority': -0.7324690255666864,\n",
       " 'income': 0.811583129165432,\n",
       " 'assets': -0.44658591157252725,\n",
       " 'time': -3.1008103708931554,\n",
       " 'amount': -0.08202080613084786,\n",
       " 'monthly_payment': 56.841009123871764,\n",
       " 'job': 'fixed',\n",
       " 'home': 'rent',\n",
       " 'records': 'no',\n",
       " 'id': '1'}"
      ]
     },
     "execution_count": 11,
     "metadata": {},
     "output_type": "execute_result"
    }
   ],
   "source": [
    "dict_final"
   ]
  },
  {
   "cell_type": "code",
   "execution_count": 12,
   "id": "8795de2f-a641-472e-b513-20780e02c1ad",
   "metadata": {},
   "outputs": [],
   "source": [
    "def send_request(customer_dict: JSON, url: str = \"http://localhost:8000/\") -> JSON:\n",
    "    \"\"\"\n",
    "        I don't want to overcomplicate this part and use concurrent programming, since I'm not really sure if Streamlit handles it\n",
    "        out-of-the-box and how good. I'm going to use a simple httpx function to send a POST request, and receive the proper JSON response.\n",
    "\n",
    "        Parameters:\n",
    "            customer_dict (JSON): Expects dictionary that is properly defined as an input to a FastAPI endpoint\n",
    "            url (str): URL of an FastAPI endpoint. \n",
    "    \"\"\"\n",
    "    response = httpx.post(url = url, json = customer_dict).json()\n",
    "    return response"
   ]
  }
 ],
 "metadata": {
  "kernelspec": {
   "display_name": "ds-kernel",
   "language": "python",
   "name": "ds-kernel"
  },
  "language_info": {
   "codemirror_mode": {
    "name": "ipython",
    "version": 3
   },
   "file_extension": ".py",
   "mimetype": "text/x-python",
   "name": "python",
   "nbconvert_exporter": "python",
   "pygments_lexer": "ipython3",
   "version": "3.12.0"
  }
 },
 "nbformat": 4,
 "nbformat_minor": 5
}
