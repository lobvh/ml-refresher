{
 "cells": [
  {
   "cell_type": "markdown",
   "id": "32ff9e99-0a89-4185-b7c1-5eda94a721f5",
   "metadata": {},
   "source": [
    "When I started thinking of Streamlit app I had an idea in mind of person entering the values. One expects not to enter 'scaled' values, but normal ones understandable to human. By the nature of model I saw that those values should be scaled before entering it. So this is sort of a Data Engineering process. Not an optimized one, obviously but it will sure the purpose. ;)\n",
    "\n",
    "This is just a skeleton of how data from Streamlit app should be processed before entering the FastAPI. First we need to create a dictionary, then follow the pattern used here to prepare the data for entering the FastAPI. "
   ]
  },
  {
   "cell_type": "code",
   "execution_count": 1,
   "id": "32ab1122-a202-4a96-a875-cc66125c8704",
   "metadata": {},
   "outputs": [],
   "source": [
    "import joblib\n",
    "import pandas as pd"
   ]
  },
  {
   "cell_type": "code",
   "execution_count": 3,
   "id": "c57209b9-6c24-464f-91ad-b3b590e32ae3",
   "metadata": {},
   "outputs": [],
   "source": [
    "# Load the saved ColumnTransformer\n",
    "loaded_column_transformer = joblib.load('../model/column_transformer.pkl')"
   ]
  },
  {
   "cell_type": "code",
   "execution_count": 4,
   "id": "2f01bb4b-1b54-432a-bfad-d7546d4b9bb1",
   "metadata": {},
   "outputs": [],
   "source": [
    "expected_dict = {'seniority': 0.7357104035909454,\n",
    "                                  'income': -0.3407031698861751,\n",
    "                                  'assets': -0.4639393146108877,\n",
    "                                  'time': 0.1065451583089126,\n",
    "                                  'amount': -0.5035235815768409,\n",
    "                                  'monthly_payment': -0.443498375820261,\n",
    "                                  'job': 'fixed',\n",
    "                                  'home': 'parents',\n",
    "                                  'records': 'yes',\n",
    "                                  'status': 1} # This is a dummy variable. Keep this always 1 but you will never need it. \n",
    "                                               # It is because ColumnTransformer expects it and I don't want to come back to that code\n",
    "                                              # again for the sake of one column which could be solved like this. \n",
    "\n"
   ]
  },
  {
   "cell_type": "code",
   "execution_count": 5,
   "id": "2e8a9047-a26a-41de-95e7-80c86ee2d102",
   "metadata": {},
   "outputs": [
    {
     "data": {
      "text/html": [
       "<div>\n",
       "<style scoped>\n",
       "    .dataframe tbody tr th:only-of-type {\n",
       "        vertical-align: middle;\n",
       "    }\n",
       "\n",
       "    .dataframe tbody tr th {\n",
       "        vertical-align: top;\n",
       "    }\n",
       "\n",
       "    .dataframe thead th {\n",
       "        text-align: right;\n",
       "    }\n",
       "</style>\n",
       "<table border=\"1\" class=\"dataframe\">\n",
       "  <thead>\n",
       "    <tr style=\"text-align: right;\">\n",
       "      <th></th>\n",
       "      <th>seniority</th>\n",
       "      <th>income</th>\n",
       "      <th>assets</th>\n",
       "      <th>time</th>\n",
       "      <th>amount</th>\n",
       "      <th>monthly_payment</th>\n",
       "      <th>job</th>\n",
       "      <th>home</th>\n",
       "      <th>records</th>\n",
       "      <th>status</th>\n",
       "    </tr>\n",
       "  </thead>\n",
       "  <tbody>\n",
       "    <tr>\n",
       "      <th>0</th>\n",
       "      <td>0.73571</td>\n",
       "      <td>-0.340703</td>\n",
       "      <td>-0.463939</td>\n",
       "      <td>0.106545</td>\n",
       "      <td>-0.503524</td>\n",
       "      <td>-0.443498</td>\n",
       "      <td>fixed</td>\n",
       "      <td>parents</td>\n",
       "      <td>yes</td>\n",
       "      <td>1</td>\n",
       "    </tr>\n",
       "  </tbody>\n",
       "</table>\n",
       "</div>"
      ],
      "text/plain": [
       "   seniority    income    assets      time    amount  monthly_payment    job  \\\n",
       "0    0.73571 -0.340703 -0.463939  0.106545 -0.503524        -0.443498  fixed   \n",
       "\n",
       "      home records  status  \n",
       "0  parents     yes       1  "
      ]
     },
     "execution_count": 5,
     "metadata": {},
     "output_type": "execute_result"
    }
   ],
   "source": [
    "df = pd.DataFrame([expected_dict])\n",
    "df"
   ]
  },
  {
   "cell_type": "code",
   "execution_count": 6,
   "id": "8d6cec51-7d21-4120-8a4c-024cde8df714",
   "metadata": {},
   "outputs": [],
   "source": [
    "cust_scaled = loaded_column_transformer.transform(df)"
   ]
  },
  {
   "cell_type": "code",
   "execution_count": 7,
   "id": "2361ab50-d629-4ae1-8822-a10b239ce368",
   "metadata": {},
   "outputs": [
    {
     "data": {
      "text/plain": [
       "array([[-0.8871526903955013, -1.4969153448848151, -0.46397956924044664,\n",
       "        -3.161781165075927, -2.1905958662964986, -1.4404559852246759,\n",
       "        'fixed', 'parents', 'yes', 1]], dtype=object)"
      ]
     },
     "execution_count": 7,
     "metadata": {},
     "output_type": "execute_result"
    }
   ],
   "source": [
    "cust_scaled"
   ]
  },
  {
   "cell_type": "code",
   "execution_count": 8,
   "id": "60c0ccc9-f373-4a21-9b42-87e55d8393ab",
   "metadata": {},
   "outputs": [],
   "source": [
    "feature_names = loaded_column_transformer.get_feature_names_out()"
   ]
  },
  {
   "cell_type": "code",
   "execution_count": 9,
   "id": "01591d43-410f-44eb-bc5e-af5e3312f90b",
   "metadata": {},
   "outputs": [
    {
     "data": {
      "text/html": [
       "<div>\n",
       "<style scoped>\n",
       "    .dataframe tbody tr th:only-of-type {\n",
       "        vertical-align: middle;\n",
       "    }\n",
       "\n",
       "    .dataframe tbody tr th {\n",
       "        vertical-align: top;\n",
       "    }\n",
       "\n",
       "    .dataframe thead th {\n",
       "        text-align: right;\n",
       "    }\n",
       "</style>\n",
       "<table border=\"1\" class=\"dataframe\">\n",
       "  <thead>\n",
       "    <tr style=\"text-align: right;\">\n",
       "      <th></th>\n",
       "      <th>scaler__seniority</th>\n",
       "      <th>scaler__income</th>\n",
       "      <th>scaler__assets</th>\n",
       "      <th>scaler__time</th>\n",
       "      <th>scaler__amount</th>\n",
       "      <th>scaler__monthly_payment</th>\n",
       "      <th>passthrough__job</th>\n",
       "      <th>passthrough__home</th>\n",
       "      <th>passthrough__records</th>\n",
       "      <th>passthrough__status</th>\n",
       "    </tr>\n",
       "  </thead>\n",
       "  <tbody>\n",
       "    <tr>\n",
       "      <th>0</th>\n",
       "      <td>-0.887153</td>\n",
       "      <td>-1.496915</td>\n",
       "      <td>-0.46398</td>\n",
       "      <td>-3.161781</td>\n",
       "      <td>-2.190596</td>\n",
       "      <td>-1.440456</td>\n",
       "      <td>fixed</td>\n",
       "      <td>parents</td>\n",
       "      <td>yes</td>\n",
       "      <td>1</td>\n",
       "    </tr>\n",
       "  </tbody>\n",
       "</table>\n",
       "</div>"
      ],
      "text/plain": [
       "  scaler__seniority scaler__income scaler__assets scaler__time scaler__amount  \\\n",
       "0         -0.887153      -1.496915       -0.46398    -3.161781      -2.190596   \n",
       "\n",
       "  scaler__monthly_payment passthrough__job passthrough__home  \\\n",
       "0               -1.440456            fixed           parents   \n",
       "\n",
       "  passthrough__records passthrough__status  \n",
       "0                  yes                   1  "
      ]
     },
     "execution_count": 9,
     "metadata": {},
     "output_type": "execute_result"
    }
   ],
   "source": [
    "df_before_dict = pd.DataFrame(cust_scaled, columns = feature_names)\n",
    "\n",
    "df_before_dict"
   ]
  },
  {
   "cell_type": "code",
   "execution_count": 10,
   "id": "2cedec72-2460-46c7-af92-e6e6bbd7f178",
   "metadata": {},
   "outputs": [
    {
     "data": {
      "text/plain": [
       "Index(['scaler__seniority', 'scaler__income', 'scaler__assets', 'scaler__time',\n",
       "       'scaler__amount', 'scaler__monthly_payment', 'passthrough__job',\n",
       "       'passthrough__home', 'passthrough__records', 'passthrough__status'],\n",
       "      dtype='object')"
      ]
     },
     "execution_count": 10,
     "metadata": {},
     "output_type": "execute_result"
    }
   ],
   "source": [
    "df_before_dict.columns"
   ]
  },
  {
   "cell_type": "code",
   "execution_count": 11,
   "id": "a155c3c3-ddf1-4426-b348-1b0e635eed34",
   "metadata": {},
   "outputs": [],
   "source": [
    "df_before_dict.columns = df_before_dict.columns.str.replace('scaler__', '').str.replace('passthrough__', '')"
   ]
  },
  {
   "cell_type": "code",
   "execution_count": 12,
   "id": "49c0237b-4fda-443c-916d-dc06a54fc021",
   "metadata": {},
   "outputs": [
    {
     "data": {
      "text/html": [
       "<div>\n",
       "<style scoped>\n",
       "    .dataframe tbody tr th:only-of-type {\n",
       "        vertical-align: middle;\n",
       "    }\n",
       "\n",
       "    .dataframe tbody tr th {\n",
       "        vertical-align: top;\n",
       "    }\n",
       "\n",
       "    .dataframe thead th {\n",
       "        text-align: right;\n",
       "    }\n",
       "</style>\n",
       "<table border=\"1\" class=\"dataframe\">\n",
       "  <thead>\n",
       "    <tr style=\"text-align: right;\">\n",
       "      <th></th>\n",
       "      <th>seniority</th>\n",
       "      <th>income</th>\n",
       "      <th>assets</th>\n",
       "      <th>time</th>\n",
       "      <th>amount</th>\n",
       "      <th>monthly_payment</th>\n",
       "      <th>job</th>\n",
       "      <th>home</th>\n",
       "      <th>records</th>\n",
       "      <th>status</th>\n",
       "    </tr>\n",
       "  </thead>\n",
       "  <tbody>\n",
       "    <tr>\n",
       "      <th>0</th>\n",
       "      <td>-0.887153</td>\n",
       "      <td>-1.496915</td>\n",
       "      <td>-0.46398</td>\n",
       "      <td>-3.161781</td>\n",
       "      <td>-2.190596</td>\n",
       "      <td>-1.440456</td>\n",
       "      <td>fixed</td>\n",
       "      <td>parents</td>\n",
       "      <td>yes</td>\n",
       "      <td>1</td>\n",
       "    </tr>\n",
       "  </tbody>\n",
       "</table>\n",
       "</div>"
      ],
      "text/plain": [
       "  seniority    income   assets      time    amount monthly_payment    job  \\\n",
       "0 -0.887153 -1.496915 -0.46398 -3.161781 -2.190596       -1.440456  fixed   \n",
       "\n",
       "      home records status  \n",
       "0  parents     yes      1  "
      ]
     },
     "execution_count": 12,
     "metadata": {},
     "output_type": "execute_result"
    }
   ],
   "source": [
    "df_before_dict"
   ]
  },
  {
   "cell_type": "code",
   "execution_count": 13,
   "id": "9cee5f31-eca8-4af1-aae3-bcc205760b4c",
   "metadata": {},
   "outputs": [],
   "source": [
    "#Let's drop the unecessary column status (FastAPI pydantic model doesn't expects that)\n",
    "\n",
    "df_before_dict = df_before_dict.drop('status', axis=1)"
   ]
  },
  {
   "cell_type": "code",
   "execution_count": 14,
   "id": "60844a3e-10a9-4e4c-89db-155b54ce7e55",
   "metadata": {},
   "outputs": [
    {
     "data": {
      "text/html": [
       "<div>\n",
       "<style scoped>\n",
       "    .dataframe tbody tr th:only-of-type {\n",
       "        vertical-align: middle;\n",
       "    }\n",
       "\n",
       "    .dataframe tbody tr th {\n",
       "        vertical-align: top;\n",
       "    }\n",
       "\n",
       "    .dataframe thead th {\n",
       "        text-align: right;\n",
       "    }\n",
       "</style>\n",
       "<table border=\"1\" class=\"dataframe\">\n",
       "  <thead>\n",
       "    <tr style=\"text-align: right;\">\n",
       "      <th></th>\n",
       "      <th>seniority</th>\n",
       "      <th>income</th>\n",
       "      <th>assets</th>\n",
       "      <th>time</th>\n",
       "      <th>amount</th>\n",
       "      <th>monthly_payment</th>\n",
       "      <th>job</th>\n",
       "      <th>home</th>\n",
       "      <th>records</th>\n",
       "    </tr>\n",
       "  </thead>\n",
       "  <tbody>\n",
       "    <tr>\n",
       "      <th>0</th>\n",
       "      <td>-0.887153</td>\n",
       "      <td>-1.496915</td>\n",
       "      <td>-0.46398</td>\n",
       "      <td>-3.161781</td>\n",
       "      <td>-2.190596</td>\n",
       "      <td>-1.440456</td>\n",
       "      <td>fixed</td>\n",
       "      <td>parents</td>\n",
       "      <td>yes</td>\n",
       "    </tr>\n",
       "  </tbody>\n",
       "</table>\n",
       "</div>"
      ],
      "text/plain": [
       "  seniority    income   assets      time    amount monthly_payment    job  \\\n",
       "0 -0.887153 -1.496915 -0.46398 -3.161781 -2.190596       -1.440456  fixed   \n",
       "\n",
       "      home records  \n",
       "0  parents     yes  "
      ]
     },
     "execution_count": 14,
     "metadata": {},
     "output_type": "execute_result"
    }
   ],
   "source": [
    "df_before_dict"
   ]
  },
  {
   "cell_type": "code",
   "execution_count": 15,
   "id": "632b1760-2203-4f5e-b64a-5f8b769da196",
   "metadata": {},
   "outputs": [
    {
     "data": {
      "text/plain": [
       "{'seniority': -0.8871526903955013,\n",
       " 'income': -1.4969153448848151,\n",
       " 'assets': -0.46397956924044664,\n",
       " 'time': -3.161781165075927,\n",
       " 'amount': -2.1905958662964986,\n",
       " 'monthly_payment': -1.4404559852246759,\n",
       " 'job': 'fixed',\n",
       " 'home': 'parents',\n",
       " 'records': 'yes'}"
      ]
     },
     "execution_count": 15,
     "metadata": {},
     "output_type": "execute_result"
    }
   ],
   "source": [
    "#Finally, let's convert it to a dict and test if it works with FastAPI\n",
    "customer_dict = df_before_dict.iloc[0].to_dict()\n",
    "customer_dict"
   ]
  },
  {
   "cell_type": "code",
   "execution_count": 16,
   "id": "3b42ad10-ccbb-43cf-af4b-26b39d07232d",
   "metadata": {},
   "outputs": [],
   "source": [
    "import httpx"
   ]
  },
  {
   "cell_type": "code",
   "execution_count": 17,
   "id": "c7933741-965a-44fc-b450-a6c39e4abbe7",
   "metadata": {},
   "outputs": [
    {
     "data": {
      "text/plain": [
       "{'seniority': -0.8871526903955013,\n",
       " 'income': -1.4969153448848151,\n",
       " 'assets': -0.46397956924044664,\n",
       " 'time': -3.161781165075927,\n",
       " 'amount': -2.1905958662964986,\n",
       " 'monthly_payment': -1.4404559852246759,\n",
       " 'job': 'fixed',\n",
       " 'home': 'parents',\n",
       " 'records': 'yes'}"
      ]
     },
     "execution_count": 17,
     "metadata": {},
     "output_type": "execute_result"
    }
   ],
   "source": [
    "customer_dict"
   ]
  },
  {
   "cell_type": "code",
   "execution_count": 18,
   "id": "a7d6024c-79fe-4c10-8696-74f3c8147468",
   "metadata": {},
   "outputs": [
    {
     "data": {
      "text/plain": [
       "<Response [422 Unprocessable Entity]>"
      ]
     },
     "execution_count": 18,
     "metadata": {},
     "output_type": "execute_result"
    }
   ],
   "source": [
    "httpx.post(url = \"http://localhost:8000/\", json = customer_dict)"
   ]
  },
  {
   "cell_type": "code",
   "execution_count": 19,
   "id": "6a0701b5-00dc-4233-b358-eba9f4587cc1",
   "metadata": {},
   "outputs": [],
   "source": [
    "#I've forgot that it also expects an id of a customer\n",
    "\n",
    "customer_dict['id'] = '2033'"
   ]
  },
  {
   "cell_type": "code",
   "execution_count": 20,
   "id": "0e4163fe-af6d-4d91-bd6c-6147583c5ea5",
   "metadata": {},
   "outputs": [
    {
     "data": {
      "text/plain": [
       "{'seniority': -0.8871526903955013,\n",
       " 'income': -1.4969153448848151,\n",
       " 'assets': -0.46397956924044664,\n",
       " 'time': -3.161781165075927,\n",
       " 'amount': -2.1905958662964986,\n",
       " 'monthly_payment': -1.4404559852246759,\n",
       " 'job': 'fixed',\n",
       " 'home': 'parents',\n",
       " 'records': 'yes',\n",
       " 'id': '2033'}"
      ]
     },
     "execution_count": 20,
     "metadata": {},
     "output_type": "execute_result"
    }
   ],
   "source": [
    "customer_dict"
   ]
  },
  {
   "cell_type": "code",
   "execution_count": 21,
   "id": "fdd65eef-a99c-451b-bc4a-fcd376ac32c7",
   "metadata": {},
   "outputs": [
    {
     "data": {
      "text/plain": [
       "<Response [200 OK]>"
      ]
     },
     "execution_count": 21,
     "metadata": {},
     "output_type": "execute_result"
    }
   ],
   "source": [
    "httpx.post(url = \"http://localhost:8000/\", json = customer_dict)"
   ]
  },
  {
   "cell_type": "code",
   "execution_count": 22,
   "id": "00f5a839-c4d2-4414-8580-a069a06da38c",
   "metadata": {},
   "outputs": [
    {
     "data": {
      "text/plain": [
       "{'probability_of_defaulting': 0.7338042259216309, 'is_defaulting': True}"
      ]
     },
     "execution_count": 22,
     "metadata": {},
     "output_type": "execute_result"
    }
   ],
   "source": [
    "httpx.post(url = \"http://localhost:8000/\", json = customer_dict).json()"
   ]
  },
  {
   "cell_type": "markdown",
   "id": "d0578623-48d1-4197-b9c3-289ffdef37f2",
   "metadata": {},
   "source": [
    "I think I'm blessed in knowing that I've made a fake id column in the dataframe (check `predict-script.py` and used DictVectorizer on top of it, and also a prediction using it. I think I will try to drop it from the dictionary just for the sake of not compromising the prediction of a model. I've fixed my `main.py` script. "
   ]
  }
 ],
 "metadata": {
  "kernelspec": {
   "display_name": "ds-kernel",
   "language": "python",
   "name": "ds-kernel"
  },
  "language_info": {
   "codemirror_mode": {
    "name": "ipython",
    "version": 3
   },
   "file_extension": ".py",
   "mimetype": "text/x-python",
   "name": "python",
   "nbconvert_exporter": "python",
   "pygments_lexer": "ipython3",
   "version": "3.12.0"
  }
 },
 "nbformat": 4,
 "nbformat_minor": 5
}
