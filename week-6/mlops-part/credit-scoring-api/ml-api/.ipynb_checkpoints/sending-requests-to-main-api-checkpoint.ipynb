{
 "cells": [
  {
   "cell_type": "markdown",
   "id": "bf629d97-3e1a-44b8-8cee-3f0dbc1191e7",
   "metadata": {},
   "source": [
    "- Need to extract `X_test` and `y_test` to CSV [x]\n",
    "- For each random row we need to convert it to dict and then using `httpx.post()` we will send the request to our FastAPI endpoint\n",
    "  and from the recieved response we will extract necessary information. We will do something like this with the response:\n",
    "\n",
    "```python\n",
    "  response = requests.post(url, json=customer).json()\n",
    "print(response)\n",
    "\n",
    "if response['churn'] == True:\n",
    "    print('sending promo email to %s' % customer_id)\n",
    "else:\n",
    "    print('not sending promo email to %s' % customer_id)\n",
    "```"
   ]
  },
  {
   "cell_type": "code",
   "execution_count": 1,
   "id": "a68f25a6-05ce-4d87-91ab-cbae40910014",
   "metadata": {},
   "outputs": [],
   "source": [
    "import httpx"
   ]
  },
  {
   "cell_type": "code",
   "execution_count": 2,
   "id": "d081a742-7983-4f41-94e8-698e66d74ae2",
   "metadata": {},
   "outputs": [],
   "source": [
    "import pandas as pd"
   ]
  },
  {
   "cell_type": "code",
   "execution_count": 3,
   "id": "0aeab481-2fde-4385-b657-e68d6a84ba59",
   "metadata": {},
   "outputs": [
    {
     "data": {
      "text/html": [
       "<div>\n",
       "<style scoped>\n",
       "    .dataframe tbody tr th:only-of-type {\n",
       "        vertical-align: middle;\n",
       "    }\n",
       "\n",
       "    .dataframe tbody tr th {\n",
       "        vertical-align: top;\n",
       "    }\n",
       "\n",
       "    .dataframe thead th {\n",
       "        text-align: right;\n",
       "    }\n",
       "</style>\n",
       "<table border=\"1\" class=\"dataframe\">\n",
       "  <thead>\n",
       "    <tr style=\"text-align: right;\">\n",
       "      <th></th>\n",
       "      <th>seniority</th>\n",
       "      <th>income</th>\n",
       "      <th>assets</th>\n",
       "      <th>time</th>\n",
       "      <th>amount</th>\n",
       "      <th>monthly_payment</th>\n",
       "      <th>job</th>\n",
       "      <th>home</th>\n",
       "      <th>records</th>\n",
       "      <th>status</th>\n",
       "    </tr>\n",
       "  </thead>\n",
       "  <tbody>\n",
       "    <tr>\n",
       "      <th>0</th>\n",
       "      <td>-0.854817</td>\n",
       "      <td>-0.409840</td>\n",
       "      <td>0.230197</td>\n",
       "      <td>0.106545</td>\n",
       "      <td>-0.292772</td>\n",
       "      <td>-0.322327</td>\n",
       "      <td>fixed</td>\n",
       "      <td>private</td>\n",
       "      <td>no</td>\n",
       "      <td>1</td>\n",
       "    </tr>\n",
       "    <tr>\n",
       "      <th>1</th>\n",
       "      <td>0.980407</td>\n",
       "      <td>-0.248520</td>\n",
       "      <td>-0.116871</td>\n",
       "      <td>0.106545</td>\n",
       "      <td>-1.135778</td>\n",
       "      <td>-0.807596</td>\n",
       "      <td>fixed</td>\n",
       "      <td>owner</td>\n",
       "      <td>no</td>\n",
       "      <td>0</td>\n",
       "    </tr>\n",
       "    <tr>\n",
       "      <th>2</th>\n",
       "      <td>0.001621</td>\n",
       "      <td>0.316100</td>\n",
       "      <td>-0.160255</td>\n",
       "      <td>0.925444</td>\n",
       "      <td>0.550233</td>\n",
       "      <td>-0.152220</td>\n",
       "      <td>fixed</td>\n",
       "      <td>owner</td>\n",
       "      <td>no</td>\n",
       "      <td>0</td>\n",
       "    </tr>\n",
       "    <tr>\n",
       "      <th>3</th>\n",
       "      <td>1.714497</td>\n",
       "      <td>-0.110246</td>\n",
       "      <td>0.143430</td>\n",
       "      <td>-0.712354</td>\n",
       "      <td>-0.819651</td>\n",
       "      <td>-0.362523</td>\n",
       "      <td>fixed</td>\n",
       "      <td>owner</td>\n",
       "      <td>no</td>\n",
       "      <td>0</td>\n",
       "    </tr>\n",
       "    <tr>\n",
       "      <th>4</th>\n",
       "      <td>0.246317</td>\n",
       "      <td>1.099655</td>\n",
       "      <td>1.705236</td>\n",
       "      <td>-0.712354</td>\n",
       "      <td>2.025493</td>\n",
       "      <td>1.822063</td>\n",
       "      <td>freelance</td>\n",
       "      <td>owner</td>\n",
       "      <td>no</td>\n",
       "      <td>0</td>\n",
       "    </tr>\n",
       "  </tbody>\n",
       "</table>\n",
       "</div>"
      ],
      "text/plain": [
       "   seniority    income    assets      time    amount  monthly_payment  \\\n",
       "0  -0.854817 -0.409840  0.230197  0.106545 -0.292772        -0.322327   \n",
       "1   0.980407 -0.248520 -0.116871  0.106545 -1.135778        -0.807596   \n",
       "2   0.001621  0.316100 -0.160255  0.925444  0.550233        -0.152220   \n",
       "3   1.714497 -0.110246  0.143430 -0.712354 -0.819651        -0.362523   \n",
       "4   0.246317  1.099655  1.705236 -0.712354  2.025493         1.822063   \n",
       "\n",
       "         job     home records  status  \n",
       "0      fixed  private      no       1  \n",
       "1      fixed    owner      no       0  \n",
       "2      fixed    owner      no       0  \n",
       "3      fixed    owner      no       0  \n",
       "4  freelance    owner      no       0  "
      ]
     },
     "execution_count": 3,
     "metadata": {},
     "output_type": "execute_result"
    }
   ],
   "source": [
    "df_test = pd.read_csv(\"./data/test-data.csv\")\n",
    "df_test.head()"
   ]
  },
  {
   "cell_type": "markdown",
   "id": "f05ed8ca-11d2-446b-9530-3cccb9a2504c",
   "metadata": {},
   "source": [
    "Since test data serves as proxy for real scenario where we don't know the ground truth we need to drop the `status` column and pretend it doesn't exist."
   ]
  },
  {
   "cell_type": "code",
   "execution_count": 4,
   "id": "b07c378b-6295-425c-b229-986d3dc76052",
   "metadata": {},
   "outputs": [],
   "source": [
    "del df_test['status']"
   ]
  },
  {
   "cell_type": "code",
   "execution_count": 5,
   "id": "df238d0f-e9bc-42bc-8bd2-daa9fb1d9e7f",
   "metadata": {},
   "outputs": [],
   "source": [
    "import random"
   ]
  },
  {
   "cell_type": "code",
   "execution_count": 6,
   "id": "de8cedb0-adca-41e2-8373-273f37c668d8",
   "metadata": {},
   "outputs": [],
   "source": [
    "random_index = random.randint(0,len(df_test)-1)\n",
    "random_row = df_test.iloc[random_index].to_dict()"
   ]
  },
  {
   "cell_type": "markdown",
   "id": "c566274c-2301-4ddd-8fe1-5063ba0c0b14",
   "metadata": {},
   "source": [
    "Let's test if this could be POST to https://httpbin.org/post ."
   ]
  },
  {
   "cell_type": "code",
   "execution_count": null,
   "id": "8c702e77-51e1-4167-802b-ea87995a37dd",
   "metadata": {},
   "outputs": [],
   "source": [
    "url = 'https://httpbin.org/post'\n",
    "r = httpx.post(url, data=random_row)"
   ]
  },
  {
   "cell_type": "code",
   "execution_count": null,
   "id": "66548013-5175-45f8-9aea-6dcdf7a404f8",
   "metadata": {},
   "outputs": [],
   "source": [
    "r"
   ]
  },
  {
   "cell_type": "code",
   "execution_count": null,
   "id": "c5ae6688-bb0b-4423-b200-b28e5f0f1407",
   "metadata": {},
   "outputs": [],
   "source": [
    "random_row"
   ]
  },
  {
   "cell_type": "markdown",
   "id": "9fdc2da6-a2ac-48e4-92b6-b137e9c93cbc",
   "metadata": {},
   "source": [
    "Might be also a good idea to create some 'fake' unique identifiers of customers."
   ]
  },
  {
   "cell_type": "code",
   "execution_count": 7,
   "id": "5f2bbd43-eb4b-4325-9ace-684b1b40547a",
   "metadata": {},
   "outputs": [
    {
     "data": {
      "text/plain": [
       "'4839'"
      ]
     },
     "execution_count": 7,
     "metadata": {},
     "output_type": "execute_result"
    }
   ],
   "source": [
    "import numpy as np\n",
    "\n",
    "def generate_random_id(_: None) -> str:\n",
    "    return ''.join([str(i) for i in np.random.choice(range(10), size=4)])\n",
    "\n",
    "generate_random_id(_)"
   ]
  },
  {
   "cell_type": "code",
   "execution_count": 8,
   "id": "e88cd1de-dfa4-487a-845e-fb2eaec42448",
   "metadata": {},
   "outputs": [],
   "source": [
    "df_test['id'] = df_test.apply(generate_random_id, axis=1)"
   ]
  },
  {
   "cell_type": "code",
   "execution_count": 9,
   "id": "3905b4f6-10d5-47ee-815d-13ef55a9afe6",
   "metadata": {},
   "outputs": [
    {
     "data": {
      "text/html": [
       "<div>\n",
       "<style scoped>\n",
       "    .dataframe tbody tr th:only-of-type {\n",
       "        vertical-align: middle;\n",
       "    }\n",
       "\n",
       "    .dataframe tbody tr th {\n",
       "        vertical-align: top;\n",
       "    }\n",
       "\n",
       "    .dataframe thead th {\n",
       "        text-align: right;\n",
       "    }\n",
       "</style>\n",
       "<table border=\"1\" class=\"dataframe\">\n",
       "  <thead>\n",
       "    <tr style=\"text-align: right;\">\n",
       "      <th></th>\n",
       "      <th>seniority</th>\n",
       "      <th>income</th>\n",
       "      <th>assets</th>\n",
       "      <th>time</th>\n",
       "      <th>amount</th>\n",
       "      <th>monthly_payment</th>\n",
       "      <th>job</th>\n",
       "      <th>home</th>\n",
       "      <th>records</th>\n",
       "      <th>id</th>\n",
       "    </tr>\n",
       "  </thead>\n",
       "  <tbody>\n",
       "    <tr>\n",
       "      <th>0</th>\n",
       "      <td>-0.854817</td>\n",
       "      <td>-0.409840</td>\n",
       "      <td>0.230197</td>\n",
       "      <td>0.106545</td>\n",
       "      <td>-0.292772</td>\n",
       "      <td>-0.322327</td>\n",
       "      <td>fixed</td>\n",
       "      <td>private</td>\n",
       "      <td>no</td>\n",
       "      <td>3928</td>\n",
       "    </tr>\n",
       "    <tr>\n",
       "      <th>1</th>\n",
       "      <td>0.980407</td>\n",
       "      <td>-0.248520</td>\n",
       "      <td>-0.116871</td>\n",
       "      <td>0.106545</td>\n",
       "      <td>-1.135778</td>\n",
       "      <td>-0.807596</td>\n",
       "      <td>fixed</td>\n",
       "      <td>owner</td>\n",
       "      <td>no</td>\n",
       "      <td>3528</td>\n",
       "    </tr>\n",
       "    <tr>\n",
       "      <th>2</th>\n",
       "      <td>0.001621</td>\n",
       "      <td>0.316100</td>\n",
       "      <td>-0.160255</td>\n",
       "      <td>0.925444</td>\n",
       "      <td>0.550233</td>\n",
       "      <td>-0.152220</td>\n",
       "      <td>fixed</td>\n",
       "      <td>owner</td>\n",
       "      <td>no</td>\n",
       "      <td>3044</td>\n",
       "    </tr>\n",
       "    <tr>\n",
       "      <th>3</th>\n",
       "      <td>1.714497</td>\n",
       "      <td>-0.110246</td>\n",
       "      <td>0.143430</td>\n",
       "      <td>-0.712354</td>\n",
       "      <td>-0.819651</td>\n",
       "      <td>-0.362523</td>\n",
       "      <td>fixed</td>\n",
       "      <td>owner</td>\n",
       "      <td>no</td>\n",
       "      <td>1600</td>\n",
       "    </tr>\n",
       "    <tr>\n",
       "      <th>4</th>\n",
       "      <td>0.246317</td>\n",
       "      <td>1.099655</td>\n",
       "      <td>1.705236</td>\n",
       "      <td>-0.712354</td>\n",
       "      <td>2.025493</td>\n",
       "      <td>1.822063</td>\n",
       "      <td>freelance</td>\n",
       "      <td>owner</td>\n",
       "      <td>no</td>\n",
       "      <td>0752</td>\n",
       "    </tr>\n",
       "  </tbody>\n",
       "</table>\n",
       "</div>"
      ],
      "text/plain": [
       "   seniority    income    assets      time    amount  monthly_payment  \\\n",
       "0  -0.854817 -0.409840  0.230197  0.106545 -0.292772        -0.322327   \n",
       "1   0.980407 -0.248520 -0.116871  0.106545 -1.135778        -0.807596   \n",
       "2   0.001621  0.316100 -0.160255  0.925444  0.550233        -0.152220   \n",
       "3   1.714497 -0.110246  0.143430 -0.712354 -0.819651        -0.362523   \n",
       "4   0.246317  1.099655  1.705236 -0.712354  2.025493         1.822063   \n",
       "\n",
       "         job     home records    id  \n",
       "0      fixed  private      no  3928  \n",
       "1      fixed    owner      no  3528  \n",
       "2      fixed    owner      no  3044  \n",
       "3      fixed    owner      no  1600  \n",
       "4  freelance    owner      no  0752  "
      ]
     },
     "execution_count": 9,
     "metadata": {},
     "output_type": "execute_result"
    }
   ],
   "source": [
    "df_test.head()"
   ]
  },
  {
   "cell_type": "code",
   "execution_count": 10,
   "id": "c10193db-98ce-406d-ae6c-ecb6a8c52d10",
   "metadata": {},
   "outputs": [
    {
     "data": {
      "text/plain": [
       "{'seniority': 2.8156312615642576,\n",
       " 'income': 0.5926487323456265,\n",
       " 'assets': -0.1602547614395793,\n",
       " 'time': 0.1065451583089126,\n",
       " 'amount': -0.2927721938538443,\n",
       " 'monthly_payment': -0.3223266678490211,\n",
       " 'job': 'fixed',\n",
       " 'home': 'owner',\n",
       " 'records': 'no'}"
      ]
     },
     "execution_count": 10,
     "metadata": {},
     "output_type": "execute_result"
    }
   ],
   "source": [
    "random_row"
   ]
  },
  {
   "cell_type": "code",
   "execution_count": 11,
   "id": "014766ed-0133-44b4-8646-92087ff6d8d1",
   "metadata": {},
   "outputs": [
    {
     "data": {
      "text/plain": [
       "<Response [200 OK]>"
      ]
     },
     "execution_count": 11,
     "metadata": {},
     "output_type": "execute_result"
    }
   ],
   "source": [
    "random_index = random.randint(0,len(df_test)-1)\n",
    "random_row = df_test.iloc[random_index].to_dict()\n",
    "\n",
    "url = 'https://httpbin.org/post'\n",
    "r = httpx.post(url, data=random_row)\n",
    "r"
   ]
  },
  {
   "cell_type": "code",
   "execution_count": 12,
   "id": "87fe1171-9ed3-47f4-99d4-2356fea89bc4",
   "metadata": {},
   "outputs": [
    {
     "data": {
      "text/plain": [
       "{'seniority': -0.8548173113298224,\n",
       " 'income': -0.801617689506818,\n",
       " 'assets': -0.4639393146108877,\n",
       " 'time': 0.9254444423605044,\n",
       " 'amount': 0.9717361324841344,\n",
       " 'monthly_payment': 0.0417710123530221,\n",
       " 'job': 'partime',\n",
       " 'home': 'rent',\n",
       " 'records': 'yes',\n",
       " 'id': '2135'}"
      ]
     },
     "execution_count": 12,
     "metadata": {},
     "output_type": "execute_result"
    }
   ],
   "source": [
    "random_row"
   ]
  },
  {
   "cell_type": "code",
   "execution_count": 13,
   "id": "e1788b6e-08c3-4d57-92ba-56b95c7e164c",
   "metadata": {},
   "outputs": [
    {
     "data": {
      "text/plain": [
       "dict"
      ]
     },
     "execution_count": 13,
     "metadata": {},
     "output_type": "execute_result"
    }
   ],
   "source": [
    "type(random_row)"
   ]
  },
  {
   "cell_type": "code",
   "execution_count": 14,
   "id": "6da00d8f-0cd3-4c51-8954-379906216093",
   "metadata": {},
   "outputs": [
    {
     "ename": "JSONDecodeError",
     "evalue": "Expecting value: line 1 column 1 (char 0)",
     "output_type": "error",
     "traceback": [
      "\u001b[0;31m---------------------------------------------------------------------------\u001b[0m",
      "\u001b[0;31mJSONDecodeError\u001b[0m                           Traceback (most recent call last)",
      "Cell \u001b[0;32mIn[14], line 6\u001b[0m\n\u001b[1;32m      3\u001b[0m url \u001b[38;5;241m=\u001b[39m \u001b[38;5;124m'\u001b[39m\u001b[38;5;124mhttp://localhost:8000/\u001b[39m\u001b[38;5;124m'\u001b[39m\n\u001b[1;32m      4\u001b[0m r \u001b[38;5;241m=\u001b[39m httpx\u001b[38;5;241m.\u001b[39mpost(url, json \u001b[38;5;241m=\u001b[39m random_row)\n\u001b[0;32m----> 6\u001b[0m \u001b[43mr\u001b[49m\u001b[38;5;241;43m.\u001b[39;49m\u001b[43mjson\u001b[49m\u001b[43m(\u001b[49m\u001b[43m)\u001b[49m\n",
      "File \u001b[0;32m~/.local/share/virtualenvs/ds-venv-wrAi6g4b/lib/python3.12/site-packages/httpx/_models.py:762\u001b[0m, in \u001b[0;36mResponse.json\u001b[0;34m(self, **kwargs)\u001b[0m\n\u001b[1;32m    761\u001b[0m \u001b[38;5;28;01mdef\u001b[39;00m \u001b[38;5;21mjson\u001b[39m(\u001b[38;5;28mself\u001b[39m, \u001b[38;5;241m*\u001b[39m\u001b[38;5;241m*\u001b[39mkwargs: typing\u001b[38;5;241m.\u001b[39mAny) \u001b[38;5;241m-\u001b[39m\u001b[38;5;241m>\u001b[39m typing\u001b[38;5;241m.\u001b[39mAny:\n\u001b[0;32m--> 762\u001b[0m     \u001b[38;5;28;01mreturn\u001b[39;00m \u001b[43mjsonlib\u001b[49m\u001b[38;5;241;43m.\u001b[39;49m\u001b[43mloads\u001b[49m\u001b[43m(\u001b[49m\u001b[38;5;28;43mself\u001b[39;49m\u001b[38;5;241;43m.\u001b[39;49m\u001b[43mcontent\u001b[49m\u001b[43m,\u001b[49m\u001b[43m \u001b[49m\u001b[38;5;241;43m*\u001b[39;49m\u001b[38;5;241;43m*\u001b[39;49m\u001b[43mkwargs\u001b[49m\u001b[43m)\u001b[49m\n",
      "File \u001b[0;32m~/opt/miniconda3/envs/py-3.12/lib/python3.12/json/__init__.py:346\u001b[0m, in \u001b[0;36mloads\u001b[0;34m(s, cls, object_hook, parse_float, parse_int, parse_constant, object_pairs_hook, **kw)\u001b[0m\n\u001b[1;32m    341\u001b[0m     s \u001b[38;5;241m=\u001b[39m s\u001b[38;5;241m.\u001b[39mdecode(detect_encoding(s), \u001b[38;5;124m'\u001b[39m\u001b[38;5;124msurrogatepass\u001b[39m\u001b[38;5;124m'\u001b[39m)\n\u001b[1;32m    343\u001b[0m \u001b[38;5;28;01mif\u001b[39;00m (\u001b[38;5;28mcls\u001b[39m \u001b[38;5;129;01mis\u001b[39;00m \u001b[38;5;28;01mNone\u001b[39;00m \u001b[38;5;129;01mand\u001b[39;00m object_hook \u001b[38;5;129;01mis\u001b[39;00m \u001b[38;5;28;01mNone\u001b[39;00m \u001b[38;5;129;01mand\u001b[39;00m\n\u001b[1;32m    344\u001b[0m         parse_int \u001b[38;5;129;01mis\u001b[39;00m \u001b[38;5;28;01mNone\u001b[39;00m \u001b[38;5;129;01mand\u001b[39;00m parse_float \u001b[38;5;129;01mis\u001b[39;00m \u001b[38;5;28;01mNone\u001b[39;00m \u001b[38;5;129;01mand\u001b[39;00m\n\u001b[1;32m    345\u001b[0m         parse_constant \u001b[38;5;129;01mis\u001b[39;00m \u001b[38;5;28;01mNone\u001b[39;00m \u001b[38;5;129;01mand\u001b[39;00m object_pairs_hook \u001b[38;5;129;01mis\u001b[39;00m \u001b[38;5;28;01mNone\u001b[39;00m \u001b[38;5;129;01mand\u001b[39;00m \u001b[38;5;129;01mnot\u001b[39;00m kw):\n\u001b[0;32m--> 346\u001b[0m     \u001b[38;5;28;01mreturn\u001b[39;00m \u001b[43m_default_decoder\u001b[49m\u001b[38;5;241;43m.\u001b[39;49m\u001b[43mdecode\u001b[49m\u001b[43m(\u001b[49m\u001b[43ms\u001b[49m\u001b[43m)\u001b[49m\n\u001b[1;32m    347\u001b[0m \u001b[38;5;28;01mif\u001b[39;00m \u001b[38;5;28mcls\u001b[39m \u001b[38;5;129;01mis\u001b[39;00m \u001b[38;5;28;01mNone\u001b[39;00m:\n\u001b[1;32m    348\u001b[0m     \u001b[38;5;28mcls\u001b[39m \u001b[38;5;241m=\u001b[39m JSONDecoder\n",
      "File \u001b[0;32m~/opt/miniconda3/envs/py-3.12/lib/python3.12/json/decoder.py:337\u001b[0m, in \u001b[0;36mJSONDecoder.decode\u001b[0;34m(self, s, _w)\u001b[0m\n\u001b[1;32m    332\u001b[0m \u001b[38;5;28;01mdef\u001b[39;00m \u001b[38;5;21mdecode\u001b[39m(\u001b[38;5;28mself\u001b[39m, s, _w\u001b[38;5;241m=\u001b[39mWHITESPACE\u001b[38;5;241m.\u001b[39mmatch):\n\u001b[1;32m    333\u001b[0m \u001b[38;5;250m    \u001b[39m\u001b[38;5;124;03m\"\"\"Return the Python representation of ``s`` (a ``str`` instance\u001b[39;00m\n\u001b[1;32m    334\u001b[0m \u001b[38;5;124;03m    containing a JSON document).\u001b[39;00m\n\u001b[1;32m    335\u001b[0m \n\u001b[1;32m    336\u001b[0m \u001b[38;5;124;03m    \"\"\"\u001b[39;00m\n\u001b[0;32m--> 337\u001b[0m     obj, end \u001b[38;5;241m=\u001b[39m \u001b[38;5;28;43mself\u001b[39;49m\u001b[38;5;241;43m.\u001b[39;49m\u001b[43mraw_decode\u001b[49m\u001b[43m(\u001b[49m\u001b[43ms\u001b[49m\u001b[43m,\u001b[49m\u001b[43m \u001b[49m\u001b[43midx\u001b[49m\u001b[38;5;241;43m=\u001b[39;49m\u001b[43m_w\u001b[49m\u001b[43m(\u001b[49m\u001b[43ms\u001b[49m\u001b[43m,\u001b[49m\u001b[43m \u001b[49m\u001b[38;5;241;43m0\u001b[39;49m\u001b[43m)\u001b[49m\u001b[38;5;241;43m.\u001b[39;49m\u001b[43mend\u001b[49m\u001b[43m(\u001b[49m\u001b[43m)\u001b[49m\u001b[43m)\u001b[49m\n\u001b[1;32m    338\u001b[0m     end \u001b[38;5;241m=\u001b[39m _w(s, end)\u001b[38;5;241m.\u001b[39mend()\n\u001b[1;32m    339\u001b[0m     \u001b[38;5;28;01mif\u001b[39;00m end \u001b[38;5;241m!=\u001b[39m \u001b[38;5;28mlen\u001b[39m(s):\n",
      "File \u001b[0;32m~/opt/miniconda3/envs/py-3.12/lib/python3.12/json/decoder.py:355\u001b[0m, in \u001b[0;36mJSONDecoder.raw_decode\u001b[0;34m(self, s, idx)\u001b[0m\n\u001b[1;32m    353\u001b[0m     obj, end \u001b[38;5;241m=\u001b[39m \u001b[38;5;28mself\u001b[39m\u001b[38;5;241m.\u001b[39mscan_once(s, idx)\n\u001b[1;32m    354\u001b[0m \u001b[38;5;28;01mexcept\u001b[39;00m \u001b[38;5;167;01mStopIteration\u001b[39;00m \u001b[38;5;28;01mas\u001b[39;00m err:\n\u001b[0;32m--> 355\u001b[0m     \u001b[38;5;28;01mraise\u001b[39;00m JSONDecodeError(\u001b[38;5;124m\"\u001b[39m\u001b[38;5;124mExpecting value\u001b[39m\u001b[38;5;124m\"\u001b[39m, s, err\u001b[38;5;241m.\u001b[39mvalue) \u001b[38;5;28;01mfrom\u001b[39;00m \u001b[38;5;28;01mNone\u001b[39;00m\n\u001b[1;32m    356\u001b[0m \u001b[38;5;28;01mreturn\u001b[39;00m obj, end\n",
      "\u001b[0;31mJSONDecodeError\u001b[0m: Expecting value: line 1 column 1 (char 0)"
     ]
    }
   ],
   "source": [
    "#Testing if our FastAPI endpoint POST method returns appropriate JSON\n",
    "\n",
    "url = 'http://localhost:8000/'\n",
    "r = httpx.post(url, json = random_row)\n",
    "\n",
    "r.json()"
   ]
  },
  {
   "cell_type": "code",
   "execution_count": null,
   "id": "2aefeff7-c29f-4574-a595-049bbdf650d5",
   "metadata": {},
   "outputs": [],
   "source": [
    "#Make sending the requests with connection pooling and also introduce await and async, but don't forget to do that too in the API.py"
   ]
  },
  {
   "cell_type": "code",
   "execution_count": 31,
   "id": "86460fc7-98da-4196-bb92-38311ea95802",
   "metadata": {},
   "outputs": [],
   "source": [
    "import asyncio\n",
    "\n",
    "JSON_IN = dict[str : float | int]\n",
    "JSON_OUT = dict[str : float | bool]"
   ]
  },
  {
   "cell_type": "code",
   "execution_count": 16,
   "id": "6d42885a-6b33-4ee9-8645-6734f68dd7f9",
   "metadata": {},
   "outputs": [],
   "source": [
    "async def is_defaulting(customer: JSON_IN, client: httpx.AsyncClient, url: str = 'http://localhost:8000/') -> JSON_OUT:\n",
    "        response = await client.post(url, json = customer)\n",
    "        return response.json()"
   ]
  },
  {
   "cell_type": "code",
   "execution_count": 19,
   "id": "4af2fbd7-b6b2-43be-9c7d-d4d15293aee5",
   "metadata": {},
   "outputs": [
    {
     "data": {
      "text/plain": [
       "{'seniority': -0.8548173113298224,\n",
       " 'income': -0.801617689506818,\n",
       " 'assets': -0.4639393146108877,\n",
       " 'time': 0.9254444423605044,\n",
       " 'amount': 0.9717361324841344,\n",
       " 'monthly_payment': 0.0417710123530221,\n",
       " 'job': 'partime',\n",
       " 'home': 'rent',\n",
       " 'records': 'yes',\n",
       " 'id': '2135'}"
      ]
     },
     "execution_count": 19,
     "metadata": {},
     "output_type": "execute_result"
    }
   ],
   "source": [
    "random_row"
   ]
  },
  {
   "cell_type": "code",
   "execution_count": 30,
   "id": "9624ae6c-6001-4afb-ab6b-de1e26d40ac5",
   "metadata": {},
   "outputs": [
    {
     "name": "stdout",
     "output_type": "stream",
     "text": [
      "{'probability_of_defaulting': 0.8666973114013672, 'is_defaulting': True}\n",
      "Initiating customer support measures for 'id-2135'...\n"
     ]
    }
   ],
   "source": [
    "async def main() -> None:\n",
    "    async with httpx.AsyncClient() as client:\n",
    "                response = await is_defaulting(customer = random_row, client = client)\n",
    "                print(response)\n",
    "                if response['is_defaulting']:\n",
    "                    print(f\"Initiating customer support measures for 'id-{random_row['id']}'...\")\n",
    "                else:\n",
    "                    print(f\"No preventive measures needed for 'id-{random_row['id']}'!\")\n",
    "if __name__ == \"__main__\":\n",
    "   await main()"
   ]
  }
 ],
 "metadata": {
  "kernelspec": {
   "display_name": "ds-kernel",
   "language": "python",
   "name": "ds-kernel"
  },
  "language_info": {
   "codemirror_mode": {
    "name": "ipython",
    "version": 3
   },
   "file_extension": ".py",
   "mimetype": "text/x-python",
   "name": "python",
   "nbconvert_exporter": "python",
   "pygments_lexer": "ipython3",
   "version": "3.12.0"
  }
 },
 "nbformat": 4,
 "nbformat_minor": 5
}
