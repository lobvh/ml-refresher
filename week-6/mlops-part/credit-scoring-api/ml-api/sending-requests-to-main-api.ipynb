{
 "cells": [
  {
   "cell_type": "markdown",
   "id": "bf629d97-3e1a-44b8-8cee-3f0dbc1191e7",
   "metadata": {},
   "source": [
    "- Need to extract `X_test` and `y_test` to CSV [x]\n",
    "- For each random row we need to convert it to dict and then using `httpx.post()` we will send the request to our FastAPI endpoint\n",
    "  and from the recieved response we will extract necessary information. We will do something like this with the response:\n",
    "\n",
    "```python\n",
    "  response = requests.post(url, json=customer).json()\n",
    "print(response)\n",
    "\n",
    "if response['churn'] == True:\n",
    "    print('sending promo email to %s' % customer_id)\n",
    "else:\n",
    "    print('not sending promo email to %s' % customer_id)\n",
    "```"
   ]
  },
  {
   "cell_type": "code",
   "execution_count": 1,
   "id": "d5434063-721a-4ced-9bb1-845f511a66ad",
   "metadata": {},
   "outputs": [],
   "source": [
    "import httpx"
   ]
  },
  {
   "cell_type": "code",
   "execution_count": 2,
   "id": "d081a742-7983-4f41-94e8-698e66d74ae2",
   "metadata": {},
   "outputs": [],
   "source": [
    "import pandas as pd"
   ]
  },
  {
   "cell_type": "code",
   "execution_count": 10,
   "id": "0aeab481-2fde-4385-b657-e68d6a84ba59",
   "metadata": {},
   "outputs": [
    {
     "data": {
      "text/html": [
       "<div>\n",
       "<style scoped>\n",
       "    .dataframe tbody tr th:only-of-type {\n",
       "        vertical-align: middle;\n",
       "    }\n",
       "\n",
       "    .dataframe tbody tr th {\n",
       "        vertical-align: top;\n",
       "    }\n",
       "\n",
       "    .dataframe thead th {\n",
       "        text-align: right;\n",
       "    }\n",
       "</style>\n",
       "<table border=\"1\" class=\"dataframe\">\n",
       "  <thead>\n",
       "    <tr style=\"text-align: right;\">\n",
       "      <th></th>\n",
       "      <th>seniority</th>\n",
       "      <th>income</th>\n",
       "      <th>assets</th>\n",
       "      <th>time</th>\n",
       "      <th>amount</th>\n",
       "      <th>monthly_payment</th>\n",
       "      <th>job</th>\n",
       "      <th>home</th>\n",
       "      <th>records</th>\n",
       "      <th>status</th>\n",
       "    </tr>\n",
       "  </thead>\n",
       "  <tbody>\n",
       "    <tr>\n",
       "      <th>0</th>\n",
       "      <td>-0.854817</td>\n",
       "      <td>-0.409840</td>\n",
       "      <td>0.230197</td>\n",
       "      <td>0.106545</td>\n",
       "      <td>-0.292772</td>\n",
       "      <td>-0.322327</td>\n",
       "      <td>fixed</td>\n",
       "      <td>private</td>\n",
       "      <td>no</td>\n",
       "      <td>1</td>\n",
       "    </tr>\n",
       "    <tr>\n",
       "      <th>1</th>\n",
       "      <td>0.980407</td>\n",
       "      <td>-0.248520</td>\n",
       "      <td>-0.116871</td>\n",
       "      <td>0.106545</td>\n",
       "      <td>-1.135778</td>\n",
       "      <td>-0.807596</td>\n",
       "      <td>fixed</td>\n",
       "      <td>owner</td>\n",
       "      <td>no</td>\n",
       "      <td>0</td>\n",
       "    </tr>\n",
       "    <tr>\n",
       "      <th>2</th>\n",
       "      <td>0.001621</td>\n",
       "      <td>0.316100</td>\n",
       "      <td>-0.160255</td>\n",
       "      <td>0.925444</td>\n",
       "      <td>0.550233</td>\n",
       "      <td>-0.152220</td>\n",
       "      <td>fixed</td>\n",
       "      <td>owner</td>\n",
       "      <td>no</td>\n",
       "      <td>0</td>\n",
       "    </tr>\n",
       "    <tr>\n",
       "      <th>3</th>\n",
       "      <td>1.714497</td>\n",
       "      <td>-0.110246</td>\n",
       "      <td>0.143430</td>\n",
       "      <td>-0.712354</td>\n",
       "      <td>-0.819651</td>\n",
       "      <td>-0.362523</td>\n",
       "      <td>fixed</td>\n",
       "      <td>owner</td>\n",
       "      <td>no</td>\n",
       "      <td>0</td>\n",
       "    </tr>\n",
       "    <tr>\n",
       "      <th>4</th>\n",
       "      <td>0.246317</td>\n",
       "      <td>1.099655</td>\n",
       "      <td>1.705236</td>\n",
       "      <td>-0.712354</td>\n",
       "      <td>2.025493</td>\n",
       "      <td>1.822063</td>\n",
       "      <td>freelance</td>\n",
       "      <td>owner</td>\n",
       "      <td>no</td>\n",
       "      <td>0</td>\n",
       "    </tr>\n",
       "  </tbody>\n",
       "</table>\n",
       "</div>"
      ],
      "text/plain": [
       "   seniority    income    assets      time    amount  monthly_payment   \n",
       "0  -0.854817 -0.409840  0.230197  0.106545 -0.292772        -0.322327  \\\n",
       "1   0.980407 -0.248520 -0.116871  0.106545 -1.135778        -0.807596   \n",
       "2   0.001621  0.316100 -0.160255  0.925444  0.550233        -0.152220   \n",
       "3   1.714497 -0.110246  0.143430 -0.712354 -0.819651        -0.362523   \n",
       "4   0.246317  1.099655  1.705236 -0.712354  2.025493         1.822063   \n",
       "\n",
       "         job     home records  status  \n",
       "0      fixed  private      no       1  \n",
       "1      fixed    owner      no       0  \n",
       "2      fixed    owner      no       0  \n",
       "3      fixed    owner      no       0  \n",
       "4  freelance    owner      no       0  "
      ]
     },
     "execution_count": 10,
     "metadata": {},
     "output_type": "execute_result"
    }
   ],
   "source": [
    "df_test = pd.read_csv(\"./test-data.csv\")\n",
    "df_test.head()"
   ]
  },
  {
   "cell_type": "markdown",
   "id": "f05ed8ca-11d2-446b-9530-3cccb9a2504c",
   "metadata": {},
   "source": [
    "Since test data serves as proxy for real scenario where we don't know the ground truth we need to drop the `status` column and pretend it doesn't exist."
   ]
  },
  {
   "cell_type": "code",
   "execution_count": 14,
   "id": "b07c378b-6295-425c-b229-986d3dc76052",
   "metadata": {},
   "outputs": [],
   "source": [
    "del df_test['status']"
   ]
  },
  {
   "cell_type": "code",
   "execution_count": 12,
   "id": "df238d0f-e9bc-42bc-8bd2-daa9fb1d9e7f",
   "metadata": {},
   "outputs": [],
   "source": [
    "import random"
   ]
  },
  {
   "cell_type": "code",
   "execution_count": 24,
   "id": "de8cedb0-adca-41e2-8373-273f37c668d8",
   "metadata": {},
   "outputs": [],
   "source": [
    "random_index = random.randint(0,len(df_test)-1)\n",
    "random_row = df_test.iloc[random_index].to_dict()"
   ]
  },
  {
   "cell_type": "markdown",
   "id": "c566274c-2301-4ddd-8fe1-5063ba0c0b14",
   "metadata": {},
   "source": [
    "Let's test if this could be POST to https://httpbin.org/post ."
   ]
  },
  {
   "cell_type": "code",
   "execution_count": 25,
   "id": "8c702e77-51e1-4167-802b-ea87995a37dd",
   "metadata": {},
   "outputs": [],
   "source": [
    "url = 'https://httpbin.org/post'\n",
    "r = httpx.post(url, data=random_row)"
   ]
  },
  {
   "cell_type": "code",
   "execution_count": 26,
   "id": "66548013-5175-45f8-9aea-6dcdf7a404f8",
   "metadata": {},
   "outputs": [
    {
     "data": {
      "text/plain": [
       "<Response [200 OK]>"
      ]
     },
     "execution_count": 26,
     "metadata": {},
     "output_type": "execute_result"
    }
   ],
   "source": [
    "r"
   ]
  },
  {
   "cell_type": "code",
   "execution_count": 27,
   "id": "c5ae6688-bb0b-4423-b200-b28e5f0f1407",
   "metadata": {},
   "outputs": [
    {
     "data": {
      "text/plain": [
       "{'seniority': 0.7357104035909454,\n",
       " 'income': -0.3407031698861751,\n",
       " 'assets': -0.4639393146108877,\n",
       " 'time': 0.1065451583089126,\n",
       " 'amount': -0.5035235815768409,\n",
       " 'monthly_payment': -0.443498375820261,\n",
       " 'job': 'fixed',\n",
       " 'home': 'parents',\n",
       " 'records': 'yes'}"
      ]
     },
     "execution_count": 27,
     "metadata": {},
     "output_type": "execute_result"
    }
   ],
   "source": [
    "random_row"
   ]
  },
  {
   "cell_type": "markdown",
   "id": "9fdc2da6-a2ac-48e4-92b6-b137e9c93cbc",
   "metadata": {},
   "source": [
    "Might be also a good idea to create some 'fake' unique identifiers of customers."
   ]
  },
  {
   "cell_type": "code",
   "execution_count": 41,
   "id": "5f2bbd43-eb4b-4325-9ace-684b1b40547a",
   "metadata": {},
   "outputs": [
    {
     "data": {
      "text/plain": [
       "'5006'"
      ]
     },
     "execution_count": 41,
     "metadata": {},
     "output_type": "execute_result"
    }
   ],
   "source": [
    "import numpy as np\n",
    "\n",
    "def generate_random_id(_: None) -> str:\n",
    "    return ''.join([str(i) for i in np.random.choice(range(10), size=4)])\n",
    "\n",
    "generate_random_id(_)"
   ]
  },
  {
   "cell_type": "code",
   "execution_count": 42,
   "id": "e88cd1de-dfa4-487a-845e-fb2eaec42448",
   "metadata": {},
   "outputs": [],
   "source": [
    "df_test['id'] = df_test.apply(generate_random_id, axis=1)"
   ]
  },
  {
   "cell_type": "code",
   "execution_count": 43,
   "id": "3905b4f6-10d5-47ee-815d-13ef55a9afe6",
   "metadata": {},
   "outputs": [
    {
     "data": {
      "text/html": [
       "<div>\n",
       "<style scoped>\n",
       "    .dataframe tbody tr th:only-of-type {\n",
       "        vertical-align: middle;\n",
       "    }\n",
       "\n",
       "    .dataframe tbody tr th {\n",
       "        vertical-align: top;\n",
       "    }\n",
       "\n",
       "    .dataframe thead th {\n",
       "        text-align: right;\n",
       "    }\n",
       "</style>\n",
       "<table border=\"1\" class=\"dataframe\">\n",
       "  <thead>\n",
       "    <tr style=\"text-align: right;\">\n",
       "      <th></th>\n",
       "      <th>seniority</th>\n",
       "      <th>income</th>\n",
       "      <th>assets</th>\n",
       "      <th>time</th>\n",
       "      <th>amount</th>\n",
       "      <th>monthly_payment</th>\n",
       "      <th>job</th>\n",
       "      <th>home</th>\n",
       "      <th>records</th>\n",
       "      <th>id</th>\n",
       "    </tr>\n",
       "  </thead>\n",
       "  <tbody>\n",
       "    <tr>\n",
       "      <th>0</th>\n",
       "      <td>-0.854817</td>\n",
       "      <td>-0.409840</td>\n",
       "      <td>0.230197</td>\n",
       "      <td>0.106545</td>\n",
       "      <td>-0.292772</td>\n",
       "      <td>-0.322327</td>\n",
       "      <td>fixed</td>\n",
       "      <td>private</td>\n",
       "      <td>no</td>\n",
       "      <td>8592</td>\n",
       "    </tr>\n",
       "    <tr>\n",
       "      <th>1</th>\n",
       "      <td>0.980407</td>\n",
       "      <td>-0.248520</td>\n",
       "      <td>-0.116871</td>\n",
       "      <td>0.106545</td>\n",
       "      <td>-1.135778</td>\n",
       "      <td>-0.807596</td>\n",
       "      <td>fixed</td>\n",
       "      <td>owner</td>\n",
       "      <td>no</td>\n",
       "      <td>7946</td>\n",
       "    </tr>\n",
       "    <tr>\n",
       "      <th>2</th>\n",
       "      <td>0.001621</td>\n",
       "      <td>0.316100</td>\n",
       "      <td>-0.160255</td>\n",
       "      <td>0.925444</td>\n",
       "      <td>0.550233</td>\n",
       "      <td>-0.152220</td>\n",
       "      <td>fixed</td>\n",
       "      <td>owner</td>\n",
       "      <td>no</td>\n",
       "      <td>4843</td>\n",
       "    </tr>\n",
       "    <tr>\n",
       "      <th>3</th>\n",
       "      <td>1.714497</td>\n",
       "      <td>-0.110246</td>\n",
       "      <td>0.143430</td>\n",
       "      <td>-0.712354</td>\n",
       "      <td>-0.819651</td>\n",
       "      <td>-0.362523</td>\n",
       "      <td>fixed</td>\n",
       "      <td>owner</td>\n",
       "      <td>no</td>\n",
       "      <td>3346</td>\n",
       "    </tr>\n",
       "    <tr>\n",
       "      <th>4</th>\n",
       "      <td>0.246317</td>\n",
       "      <td>1.099655</td>\n",
       "      <td>1.705236</td>\n",
       "      <td>-0.712354</td>\n",
       "      <td>2.025493</td>\n",
       "      <td>1.822063</td>\n",
       "      <td>freelance</td>\n",
       "      <td>owner</td>\n",
       "      <td>no</td>\n",
       "      <td>1751</td>\n",
       "    </tr>\n",
       "  </tbody>\n",
       "</table>\n",
       "</div>"
      ],
      "text/plain": [
       "   seniority    income    assets      time    amount  monthly_payment   \n",
       "0  -0.854817 -0.409840  0.230197  0.106545 -0.292772        -0.322327  \\\n",
       "1   0.980407 -0.248520 -0.116871  0.106545 -1.135778        -0.807596   \n",
       "2   0.001621  0.316100 -0.160255  0.925444  0.550233        -0.152220   \n",
       "3   1.714497 -0.110246  0.143430 -0.712354 -0.819651        -0.362523   \n",
       "4   0.246317  1.099655  1.705236 -0.712354  2.025493         1.822063   \n",
       "\n",
       "         job     home records    id  \n",
       "0      fixed  private      no  8592  \n",
       "1      fixed    owner      no  7946  \n",
       "2      fixed    owner      no  4843  \n",
       "3      fixed    owner      no  3346  \n",
       "4  freelance    owner      no  1751  "
      ]
     },
     "execution_count": 43,
     "metadata": {},
     "output_type": "execute_result"
    }
   ],
   "source": [
    "df_test.head()"
   ]
  },
  {
   "cell_type": "code",
   "execution_count": 46,
   "id": "c10193db-98ce-406d-ae6c-ecb6a8c52d10",
   "metadata": {},
   "outputs": [
    {
     "data": {
      "text/plain": [
       "{'seniority': 0.4910138320646734,\n",
       " 'income': 0.4313286504784016,\n",
       " 'assets': -0.2036382690354805,\n",
       " 'time': 0.9254444423605044,\n",
       " 'amount': -1.6626562140533214,\n",
       " 'monthly_payment': -1.1716937362243476,\n",
       " 'job': 'fixed',\n",
       " 'home': 'owner',\n",
       " 'records': 'no',\n",
       " 'id': '8957'}"
      ]
     },
     "execution_count": 46,
     "metadata": {},
     "output_type": "execute_result"
    }
   ],
   "source": [
    "random_row"
   ]
  },
  {
   "cell_type": "code",
   "execution_count": 45,
   "id": "014766ed-0133-44b4-8646-92087ff6d8d1",
   "metadata": {},
   "outputs": [
    {
     "data": {
      "text/plain": [
       "<Response [200 OK]>"
      ]
     },
     "execution_count": 45,
     "metadata": {},
     "output_type": "execute_result"
    }
   ],
   "source": [
    "random_index = random.randint(0,len(df_test)-1)\n",
    "random_row = df_test.iloc[random_index].to_dict()\n",
    "\n",
    "url = 'https://httpbin.org/post'\n",
    "r = httpx.post(url, data=random_row)\n",
    "r"
   ]
  },
  {
   "cell_type": "code",
   "execution_count": 52,
   "id": "87fe1171-9ed3-47f4-99d4-2356fea89bc4",
   "metadata": {},
   "outputs": [
    {
     "data": {
      "text/plain": [
       "{'seniority': 0.4910138320646734,\n",
       " 'income': 0.4313286504784016,\n",
       " 'assets': -0.2036382690354805,\n",
       " 'time': 0.9254444423605044,\n",
       " 'amount': -1.6626562140533214,\n",
       " 'monthly_payment': -1.1716937362243476,\n",
       " 'job': 'fixed',\n",
       " 'home': 'owner',\n",
       " 'records': 'no',\n",
       " 'id': '8957'}"
      ]
     },
     "execution_count": 52,
     "metadata": {},
     "output_type": "execute_result"
    }
   ],
   "source": [
    "random_row"
   ]
  },
  {
   "cell_type": "code",
   "execution_count": 55,
   "id": "e1788b6e-08c3-4d57-92ba-56b95c7e164c",
   "metadata": {},
   "outputs": [
    {
     "data": {
      "text/plain": [
       "dict"
      ]
     },
     "execution_count": 55,
     "metadata": {},
     "output_type": "execute_result"
    }
   ],
   "source": [
    "type(random_row)"
   ]
  },
  {
   "cell_type": "code",
   "execution_count": 67,
   "id": "6da00d8f-0cd3-4c51-8954-379906216093",
   "metadata": {},
   "outputs": [
    {
     "data": {
      "text/plain": [
       "{'Yo': 'It Works!', 'cust': '0.4910138320646734'}"
      ]
     },
     "execution_count": 67,
     "metadata": {},
     "output_type": "execute_result"
    }
   ],
   "source": [
    "#Testing if our FastAPI endpoint POST method returns appropriate JSON\n",
    "\n",
    "url = 'http://localhost:8000/post'\n",
    "r = httpx.post(url, json = random_row)\n",
    "\n",
    "r.json()"
   ]
  },
  {
   "cell_type": "code",
   "execution_count": null,
   "id": "42a84908-4c1a-4151-9194-6778461c945c",
   "metadata": {},
   "outputs": [],
   "source": [
    "#TODO"
   ]
  },
  {
   "cell_type": "code",
   "execution_count": null,
   "id": "887d0cb4-fa61-47d2-9cab-9b4a9834d55e",
   "metadata": {},
   "outputs": [],
   "source": [
    "'''\n",
    "print(\n",
    "    requests.post(\n",
    "        \"http://127.0.0.1:8000/\",\n",
    "        json={\"name\": \"Screwdriver\", \"price\": 3.99, \"count\": 'Hello', \"id\": 4},\n",
    "    ).json()\n",
    ")\n",
    "'''"
   ]
  },
  {
   "cell_type": "code",
   "execution_count": null,
   "id": "2aefeff7-c29f-4574-a595-049bbdf650d5",
   "metadata": {},
   "outputs": [],
   "source": [
    "#Make sending the requests with connection pooling and also introduce await and async, but don't forget to do that too in the API.py"
   ]
  }
 ],
 "metadata": {
  "kernelspec": {
   "display_name": "Python 3 (ipykernel)",
   "language": "python",
   "name": "python3"
  },
  "language_info": {
   "codemirror_mode": {
    "name": "ipython",
    "version": 3
   },
   "file_extension": ".py",
   "mimetype": "text/x-python",
   "name": "python",
   "nbconvert_exporter": "python",
   "pygments_lexer": "ipython3",
   "version": "3.9.18"
  }
 },
 "nbformat": 4,
 "nbformat_minor": 5
}
