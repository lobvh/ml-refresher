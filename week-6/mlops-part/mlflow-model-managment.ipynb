{
 "cells": [
  {
   "cell_type": "markdown",
   "id": "a0f90ccd",
   "metadata": {},
   "source": [
    "So I've already done the training and finding best params using hyperopt. All of the experiments and runs are saved in `mlflow.db`. Using the MLFlow UI I will create 'model registry' for top 5 models that have best AUC, move some of them to 'production' and leave the rest to 'staging'. Then I will try to use MLFlow Client to talk to the MLFlow, test those that are in the 'staging' area and using the test data 'promote' the best one to 'production'. \n",
    "\n",
    "---\n",
    "\n",
    "Before that, I will do another run on the best model just to test the idea of saving preprocessor (DictVectorizer) in separate folder, since it isn't saved using `autolog()`. \n",
    "\n",
    "Also, all the preprocessing part will be saved to `preprocessing.py` such that I can declutter this notebook and focus on parts dealing with MLFlow only. I know it is never done this way, but this notebook servers as POC not as a production level code. "
   ]
  },
  {
   "cell_type": "code",
   "execution_count": 2,
   "id": "917f2b03",
   "metadata": {},
   "outputs": [],
   "source": [
    "#To access the scope of preprocessing.py\n",
    "%run preprocessing.py"
   ]
  },
  {
   "cell_type": "code",
   "execution_count": 13,
   "id": "6f230271",
   "metadata": {},
   "outputs": [
    {
     "data": {
      "text/plain": [
       "<Experiment: artifact_location='/Users/goceovoono/Desktop/programming-stuff/mlz-latest/week-6/mlops-part/mlruns/1', creation_time=1702676022413, experiment_id='1', last_update_time=1702676022413, lifecycle_stage='active', name='credit-risk-scoring', tags={}>"
      ]
     },
     "execution_count": 13,
     "metadata": {},
     "output_type": "execute_result"
    }
   ],
   "source": [
    "import mlflow\n",
    "import pickle\n",
    "import xgboost as xgb\n",
    "\n",
    "mlflow.set_tracking_uri(\"sqlite:///mlflow.db\")\n",
    "mlflow.set_experiment(\"credit-risk-scoring\")"
   ]
  },
  {
   "cell_type": "code",
   "execution_count": 15,
   "id": "35f8b7b7",
   "metadata": {},
   "outputs": [],
   "source": [
    "best_params = {'learning_rate': 0.057786841452234214,\n",
    "               'max_depth': 5.0,\n",
    "               'min_child_weight': 11.353071298640767,\n",
    "               'reg_alpha': 0.008039345251325283,\n",
    "               'reg_lambda': 0.003694981097974786}"
   ]
  },
  {
   "cell_type": "code",
   "execution_count": 20,
   "id": "d7171888",
   "metadata": {},
   "outputs": [
    {
     "name": "stderr",
     "output_type": "stream",
     "text": [
      "2023/12/16 23:58:16 INFO mlflow.tracking.fluent: Autologging successfully enabled for sklearn.\n"
     ]
    },
    {
     "name": "stdout",
     "output_type": "stream",
     "text": [
      "[0]\tvalidation_0-auc:0.76757\n",
      "[1]\tvalidation_0-auc:0.77520\n",
      "[2]\tvalidation_0-auc:0.79604\n",
      "[3]\tvalidation_0-auc:0.79677\n",
      "[4]\tvalidation_0-auc:0.80054\n",
      "[5]\tvalidation_0-auc:0.80208\n",
      "[6]\tvalidation_0-auc:0.80581\n",
      "[7]\tvalidation_0-auc:0.80793\n",
      "[8]\tvalidation_0-auc:0.80848\n",
      "[9]\tvalidation_0-auc:0.80954\n",
      "[10]\tvalidation_0-auc:0.81088\n",
      "[11]\tvalidation_0-auc:0.81302\n",
      "[12]\tvalidation_0-auc:0.81364\n",
      "[13]\tvalidation_0-auc:0.81375\n",
      "[14]\tvalidation_0-auc:0.81405\n",
      "[15]\tvalidation_0-auc:0.81445\n",
      "[16]\tvalidation_0-auc:0.81390\n",
      "[17]\tvalidation_0-auc:0.81454\n",
      "[18]\tvalidation_0-auc:0.81422\n",
      "[19]\tvalidation_0-auc:0.81418\n",
      "[20]\tvalidation_0-auc:0.81548\n",
      "[21]\tvalidation_0-auc:0.81538\n",
      "[22]\tvalidation_0-auc:0.81625\n",
      "[23]\tvalidation_0-auc:0.81737\n",
      "[24]\tvalidation_0-auc:0.81788\n",
      "[25]\tvalidation_0-auc:0.81759\n",
      "[26]\tvalidation_0-auc:0.81806\n",
      "[27]\tvalidation_0-auc:0.81847\n",
      "[28]\tvalidation_0-auc:0.81884\n",
      "[29]\tvalidation_0-auc:0.81919\n",
      "[30]\tvalidation_0-auc:0.81903\n",
      "[31]\tvalidation_0-auc:0.81933\n",
      "[32]\tvalidation_0-auc:0.81904\n",
      "[33]\tvalidation_0-auc:0.81925\n",
      "[34]\tvalidation_0-auc:0.81950\n",
      "[35]\tvalidation_0-auc:0.81963\n",
      "[36]\tvalidation_0-auc:0.81984\n",
      "[37]\tvalidation_0-auc:0.82013\n",
      "[38]\tvalidation_0-auc:0.82025\n",
      "[39]\tvalidation_0-auc:0.81991\n",
      "[40]\tvalidation_0-auc:0.81949\n",
      "[41]\tvalidation_0-auc:0.81950\n",
      "[42]\tvalidation_0-auc:0.82008\n",
      "[43]\tvalidation_0-auc:0.82040\n",
      "[44]\tvalidation_0-auc:0.82059\n",
      "[45]\tvalidation_0-auc:0.82077\n",
      "[46]\tvalidation_0-auc:0.82090\n",
      "[47]\tvalidation_0-auc:0.82093\n",
      "[48]\tvalidation_0-auc:0.82117\n",
      "[49]\tvalidation_0-auc:0.82114\n",
      "[50]\tvalidation_0-auc:0.82167\n",
      "[51]\tvalidation_0-auc:0.82175\n",
      "[52]\tvalidation_0-auc:0.82194\n",
      "[53]\tvalidation_0-auc:0.82194\n",
      "[54]\tvalidation_0-auc:0.82230\n",
      "[55]\tvalidation_0-auc:0.82222\n",
      "[56]\tvalidation_0-auc:0.82200\n",
      "[57]\tvalidation_0-auc:0.82242\n",
      "[58]\tvalidation_0-auc:0.82238\n",
      "[59]\tvalidation_0-auc:0.82260\n",
      "[60]\tvalidation_0-auc:0.82259\n",
      "[61]\tvalidation_0-auc:0.82263\n",
      "[62]\tvalidation_0-auc:0.82287\n",
      "[63]\tvalidation_0-auc:0.82272\n",
      "[64]\tvalidation_0-auc:0.82253\n",
      "[65]\tvalidation_0-auc:0.82261\n",
      "[66]\tvalidation_0-auc:0.82277\n",
      "[67]\tvalidation_0-auc:0.82277\n",
      "[68]\tvalidation_0-auc:0.82263\n",
      "[69]\tvalidation_0-auc:0.82245\n",
      "[70]\tvalidation_0-auc:0.82263\n",
      "[71]\tvalidation_0-auc:0.82251\n",
      "[72]\tvalidation_0-auc:0.82272\n",
      "[73]\tvalidation_0-auc:0.82234\n",
      "[74]\tvalidation_0-auc:0.82243\n",
      "[75]\tvalidation_0-auc:0.82261\n",
      "[76]\tvalidation_0-auc:0.82267\n",
      "[77]\tvalidation_0-auc:0.82279\n",
      "[78]\tvalidation_0-auc:0.82289\n",
      "[79]\tvalidation_0-auc:0.82316\n",
      "[80]\tvalidation_0-auc:0.82282\n",
      "[81]\tvalidation_0-auc:0.82267\n",
      "[82]\tvalidation_0-auc:0.82281\n",
      "[83]\tvalidation_0-auc:0.82263\n",
      "[84]\tvalidation_0-auc:0.82216\n",
      "[85]\tvalidation_0-auc:0.82217\n",
      "[86]\tvalidation_0-auc:0.82210\n",
      "[87]\tvalidation_0-auc:0.82209\n",
      "[88]\tvalidation_0-auc:0.82193\n",
      "[89]\tvalidation_0-auc:0.82186\n",
      "[90]\tvalidation_0-auc:0.82172\n",
      "[91]\tvalidation_0-auc:0.82157\n",
      "[92]\tvalidation_0-auc:0.82154\n",
      "[93]\tvalidation_0-auc:0.82151\n",
      "[94]\tvalidation_0-auc:0.82167\n",
      "[95]\tvalidation_0-auc:0.82185\n",
      "[96]\tvalidation_0-auc:0.82185\n",
      "[97]\tvalidation_0-auc:0.82176\n",
      "[98]\tvalidation_0-auc:0.82173\n",
      "[99]\tvalidation_0-auc:0.82167\n",
      "[100]\tvalidation_0-auc:0.82154\n",
      "[101]\tvalidation_0-auc:0.82131\n",
      "[102]\tvalidation_0-auc:0.82150\n",
      "[103]\tvalidation_0-auc:0.82168\n",
      "[104]\tvalidation_0-auc:0.82160\n",
      "[105]\tvalidation_0-auc:0.82168\n",
      "[106]\tvalidation_0-auc:0.82130\n",
      "[107]\tvalidation_0-auc:0.82133\n",
      "[108]\tvalidation_0-auc:0.82126\n",
      "[109]\tvalidation_0-auc:0.82111\n",
      "[110]\tvalidation_0-auc:0.82126\n",
      "[111]\tvalidation_0-auc:0.82132\n",
      "[112]\tvalidation_0-auc:0.82106\n",
      "[113]\tvalidation_0-auc:0.82107\n",
      "[114]\tvalidation_0-auc:0.82087\n",
      "[115]\tvalidation_0-auc:0.82076\n",
      "[116]\tvalidation_0-auc:0.82059\n",
      "[117]\tvalidation_0-auc:0.82069\n",
      "[118]\tvalidation_0-auc:0.82075\n",
      "[119]\tvalidation_0-auc:0.82054\n",
      "[120]\tvalidation_0-auc:0.82044\n",
      "[121]\tvalidation_0-auc:0.82030\n",
      "[122]\tvalidation_0-auc:0.82018\n",
      "[123]\tvalidation_0-auc:0.82000\n",
      "[124]\tvalidation_0-auc:0.82012\n",
      "[125]\tvalidation_0-auc:0.81974\n",
      "[126]\tvalidation_0-auc:0.81954\n",
      "[127]\tvalidation_0-auc:0.81952\n",
      "[128]\tvalidation_0-auc:0.81949\n",
      "[129]\tvalidation_0-auc:0.81937\n"
     ]
    },
    {
     "name": "stderr",
     "output_type": "stream",
     "text": [
      "2023/12/16 23:58:17 WARNING mlflow.utils.autologging_utils: MLflow autologging encountered a warning: \"/Users/goceovoono/Desktop/programming-stuff/data-general/jupyter-venv/lib/python3.9/site-packages/xgboost/core.py:160: UserWarning: [23:58:17] WARNING: /Users/runner/work/xgboost/xgboost/src/c_api/c_api.cc:1240: Saving into deprecated binary model format, please consider using `json` or `ubj`. Model format will default to JSON in XGBoost 2.2 if not specified.\"\n"
     ]
    }
   ],
   "source": [
    "with mlflow.start_run():\n",
    "        \n",
    "    \n",
    "        booster = xgb.XGBClassifier(\n",
    "            max_depth=int(best_params['max_depth']),\n",
    "            learning_rate=best_params['learning_rate'],\n",
    "            reg_alpha=best_params['reg_alpha'],\n",
    "            reg_lambda=best_params['reg_lambda'],\n",
    "            min_child_weight=best_params['min_child_weight'],\n",
    "            objective='binary:logistic',\n",
    "            eval_metric='auc',\n",
    "            seed=RANDOM_STATE,\n",
    "            n_estimators=1000,\n",
    "            early_stopping_rounds=50\n",
    "        )\n",
    "        \n",
    "        #Pickling the DictVectorizer\n",
    "        with open(\"./models/preprocessor.bin\", \"wb\") as f_out:\n",
    "            pickle.dump(dv, f_out)\n",
    "        \n",
    "        mlflow.autolog()\n",
    "        \n",
    "        \n",
    "        booster.fit(X_train, y_train,\n",
    "                    eval_set=[(X_valid, y_val)]\n",
    "                    )\n",
    "        \n",
    "        y_pred = booster.predict_proba(X_valid)[:, 1]\n",
    "        roc_auc = roc_auc_score(y_val, y_pred)\n",
    "\n",
    "        #Log the DictVectorizer as an artifact\n",
    "        mlflow.log_artifact(\"./models/preprocessor.bin\", artifact_path = \"preprocessors\")"
   ]
  },
  {
   "cell_type": "code",
   "execution_count": 43,
   "id": "ec7dc4d1",
   "metadata": {
    "scrolled": true
   },
   "outputs": [],
   "source": [
    "#Accesing MLFlow via code to get all the models and their staging status\n",
    "\n",
    "from mlflow.tracking import MlflowClient\n",
    "\n",
    "MLFLOW_TRACKING_URI = \"sqlite:///mlflow.db\"\n",
    "\n",
    "client = MlflowClient(tracking_uri=MLFLOW_TRACKING_URI)\n",
    "\n",
    "model_name = 'credit-scoring'\n",
    "all_versions = client.search_model_versions(f\"name='{model_name}'\")"
   ]
  },
  {
   "cell_type": "code",
   "execution_count": 51,
   "id": "bf551e00",
   "metadata": {},
   "outputs": [],
   "source": [
    "staging_runs = []\n",
    "for ver in all_versions:\n",
    "    if ver.current_stage == 'Staging':\n",
    "        staging_runs.append(ver.run_id)"
   ]
  },
  {
   "cell_type": "code",
   "execution_count": 52,
   "id": "e95a754d",
   "metadata": {},
   "outputs": [
    {
     "data": {
      "text/plain": [
       "['a298ae01dc784deca4d17b22ccf5faf4',\n",
       " 'c0dad59a9148498c8c991be737b26dd0',\n",
       " 'aeb61853b70f49f58deede317277a2bb']"
      ]
     },
     "execution_count": 52,
     "metadata": {},
     "output_type": "execute_result"
    }
   ],
   "source": [
    "staging_runs"
   ]
  },
  {
   "cell_type": "code",
   "execution_count": 90,
   "id": "6a0bb100",
   "metadata": {
    "scrolled": true
   },
   "outputs": [
    {
     "name": "stdout",
     "output_type": "stream",
     "text": [
      "run_id: a298ae01dc784deca4d17b22ccf5faf4 --> roc_auc: 0.8287115588547189\n",
      "run_id: c0dad59a9148498c8c991be737b26dd0 --> roc_auc: 0.8287115588547189\n",
      "run_id: aeb61853b70f49f58deede317277a2bb --> roc_auc: 0.8287115588547189\n"
     ]
    }
   ],
   "source": [
    "for run_id in staging_runs:\n",
    "    # Load the model from MLflow\n",
    "    logged_model = f'runs:/{run_id}/model'\n",
    "    loaded_model = mlflow.xgboost.load_model(logged_model)\n",
    "\n",
    "    # Retrieve the parameters from the MLflow run\n",
    "    run_info = mlflow.get_run(run_id)\n",
    "    params = run_info.data.params\n",
    "    filtered_dict = {key: value for key, value in params.items() if value != 'None'}\n",
    "\n",
    "    loaded_model.set_params(**filtered_dict)\n",
    "\n",
    "    y_pred = loaded_model.predict_proba(X_test)[:, 1]\n",
    "    roc_auc = roc_auc_score(y_test, y_pred)\n",
    "    print(f\"run_id: {run_id} --> roc_auc: {roc_auc}\")"
   ]
  },
  {
   "cell_type": "markdown",
   "id": "a7878c34",
   "metadata": {},
   "source": [
    "Ye, I know they are all the same because last 5 runs are basically defined as 5 models trained on `best_params` from the above. This is just to make things understandable!"
   ]
  },
  {
   "cell_type": "code",
   "execution_count": 97,
   "id": "f6bcb2b4",
   "metadata": {},
   "outputs": [],
   "source": [
    "versions = []\n",
    "\n",
    "for ver in all_versions:\n",
    "    if ver.current_stage == 'Staging':\n",
    "        versions.append(ver.version)"
   ]
  },
  {
   "cell_type": "code",
   "execution_count": 104,
   "id": "0cf12c4f",
   "metadata": {},
   "outputs": [
    {
     "data": {
      "text/plain": [
       "{'a298ae01dc784deca4d17b22ccf5faf4': 4,\n",
       " 'c0dad59a9148498c8c991be737b26dd0': 1,\n",
       " 'aeb61853b70f49f58deede317277a2bb': 3}"
      ]
     },
     "execution_count": 104,
     "metadata": {},
     "output_type": "execute_result"
    }
   ],
   "source": [
    "runs_versions = dict(zip(staging_runs, versions))\n",
    "runs_versions"
   ]
  },
  {
   "cell_type": "code",
   "execution_count": 105,
   "id": "73f4f5ec",
   "metadata": {},
   "outputs": [
    {
     "name": "stderr",
     "output_type": "stream",
     "text": [
      "/var/folders/yn/q39vj1nd7mq3mts9t0xjyytm0000gn/T/ipykernel_3584/242508222.py:4: FutureWarning: ``mlflow.tracking.client.MlflowClient.transition_model_version_stage`` is deprecated since 2.9.0. Model registry stages will be removed in a future major release. To learn more about the deprecation of model registry stages, see our migration guide here: https://mlflow.org/docs/2.9.2/model-registry.html#migrating-from-stages\n",
      "  client.transition_model_version_stage(\n"
     ]
    }
   ],
   "source": [
    "# Saying that all versions should be set to 'Production' since they all 'passed' test as being good models\n",
    "for ver in versions:\n",
    "    new_stage = \"Production\"\n",
    "\n",
    "    client.transition_model_version_stage(\n",
    "        name='credit-scoring',  # Replace with your actual model name\n",
    "        version=ver,  # Replace with the desired version number\n",
    "        stage=new_stage\n",
    "        )"
   ]
  }
 ],
 "metadata": {
  "kernelspec": {
   "display_name": "jupyter-venv",
   "language": "python",
   "name": "jupyter-venv"
  },
  "language_info": {
   "codemirror_mode": {
    "name": "ipython",
    "version": 3
   },
   "file_extension": ".py",
   "mimetype": "text/x-python",
   "name": "python",
   "nbconvert_exporter": "python",
   "pygments_lexer": "ipython3",
   "version": "3.12.0"
  }
 },
 "nbformat": 4,
 "nbformat_minor": 5
}
