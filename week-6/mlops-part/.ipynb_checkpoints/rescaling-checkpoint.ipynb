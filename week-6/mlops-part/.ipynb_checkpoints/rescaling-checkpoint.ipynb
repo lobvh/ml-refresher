{
 "cells": [
  {
   "cell_type": "code",
   "execution_count": 1,
   "id": "32ab1122-a202-4a96-a875-cc66125c8704",
   "metadata": {},
   "outputs": [],
   "source": [
    "import joblib\n",
    "import pandas as pd"
   ]
  },
  {
   "cell_type": "code",
   "execution_count": 2,
   "id": "8a34e75e-aea5-4d1d-b487-b1c7ee4e8a08",
   "metadata": {},
   "outputs": [
    {
     "name": "stdout",
     "output_type": "stream",
     "text": [
      "test-data.csv\n"
     ]
    }
   ],
   "source": [
    "!ls credit-scoring-api/ml-api/data/"
   ]
  },
  {
   "cell_type": "code",
   "execution_count": 3,
   "id": "c57209b9-6c24-464f-91ad-b3b590e32ae3",
   "metadata": {},
   "outputs": [],
   "source": [
    "# Load the saved ColumnTransformer\n",
    "loaded_column_transformer = joblib.load('./models/column_transformer.pkl')"
   ]
  },
  {
   "cell_type": "code",
   "execution_count": 11,
   "id": "2f01bb4b-1b54-432a-bfad-d7546d4b9bb1",
   "metadata": {},
   "outputs": [],
   "source": [
    "expected_dict = {'seniority': 0.7357104035909454,\n",
    "                                  'income': -0.3407031698861751,\n",
    "                                  'assets': -0.4639393146108877,\n",
    "                                  'time': 0.1065451583089126,\n",
    "                                  'amount': -0.5035235815768409,\n",
    "                                  'monthly_payment': -0.443498375820261,\n",
    "                                  'job': 'fixed',\n",
    "                                  'home': 'parents',\n",
    "                                  'records': 'yes',\n",
    "                                  'status': 1} # Keep this always 1 but you will never need it. \n",
    "\n"
   ]
  },
  {
   "cell_type": "code",
   "execution_count": 12,
   "id": "2e8a9047-a26a-41de-95e7-80c86ee2d102",
   "metadata": {},
   "outputs": [
    {
     "data": {
      "text/html": [
       "<div>\n",
       "<style scoped>\n",
       "    .dataframe tbody tr th:only-of-type {\n",
       "        vertical-align: middle;\n",
       "    }\n",
       "\n",
       "    .dataframe tbody tr th {\n",
       "        vertical-align: top;\n",
       "    }\n",
       "\n",
       "    .dataframe thead th {\n",
       "        text-align: right;\n",
       "    }\n",
       "</style>\n",
       "<table border=\"1\" class=\"dataframe\">\n",
       "  <thead>\n",
       "    <tr style=\"text-align: right;\">\n",
       "      <th></th>\n",
       "      <th>seniority</th>\n",
       "      <th>income</th>\n",
       "      <th>assets</th>\n",
       "      <th>time</th>\n",
       "      <th>amount</th>\n",
       "      <th>monthly_payment</th>\n",
       "      <th>job</th>\n",
       "      <th>home</th>\n",
       "      <th>records</th>\n",
       "      <th>status</th>\n",
       "    </tr>\n",
       "  </thead>\n",
       "  <tbody>\n",
       "    <tr>\n",
       "      <th>0</th>\n",
       "      <td>0.73571</td>\n",
       "      <td>-0.340703</td>\n",
       "      <td>-0.463939</td>\n",
       "      <td>0.106545</td>\n",
       "      <td>-0.503524</td>\n",
       "      <td>-0.443498</td>\n",
       "      <td>fixed</td>\n",
       "      <td>parents</td>\n",
       "      <td>yes</td>\n",
       "      <td>1</td>\n",
       "    </tr>\n",
       "  </tbody>\n",
       "</table>\n",
       "</div>"
      ],
      "text/plain": [
       "   seniority    income    assets      time    amount  monthly_payment    job  \\\n",
       "0    0.73571 -0.340703 -0.463939  0.106545 -0.503524        -0.443498  fixed   \n",
       "\n",
       "      home records  status  \n",
       "0  parents     yes       1  "
      ]
     },
     "execution_count": 12,
     "metadata": {},
     "output_type": "execute_result"
    }
   ],
   "source": [
    "df = pd.DataFrame([expected_dict])\n",
    "df"
   ]
  },
  {
   "cell_type": "code",
   "execution_count": 13,
   "id": "8d6cec51-7d21-4120-8a4c-024cde8df714",
   "metadata": {},
   "outputs": [],
   "source": [
    "cust_scaled = loaded_column_transformer.transform(df)"
   ]
  },
  {
   "cell_type": "code",
   "execution_count": 33,
   "id": "2361ab50-d629-4ae1-8822-a10b239ce368",
   "metadata": {},
   "outputs": [
    {
     "data": {
      "text/plain": [
       "array([[-0.24307588, -0.0526316 , -0.11687125,  0.10654516,  0.23410628,\n",
       "        -0.06891468,  3.        ,  2.        ,  1.        ,  1.        ]])"
      ]
     },
     "execution_count": 33,
     "metadata": {},
     "output_type": "execute_result"
    }
   ],
   "source": [
    "cust_scaled"
   ]
  },
  {
   "cell_type": "code",
   "execution_count": null,
   "id": "69f31c57-6159-4d1d-a0c5-640283e041aa",
   "metadata": {},
   "outputs": [],
   "source": [
    "#drop the last element of cust_scaled because it is not needed"
   ]
  }
 ],
 "metadata": {
  "kernelspec": {
   "display_name": "ds-kernel",
   "language": "python",
   "name": "ds-kernel"
  },
  "language_info": {
   "codemirror_mode": {
    "name": "ipython",
    "version": 3
   },
   "file_extension": ".py",
   "mimetype": "text/x-python",
   "name": "python",
   "nbconvert_exporter": "python",
   "pygments_lexer": "ipython3",
   "version": "3.12.0"
  }
 },
 "nbformat": 4,
 "nbformat_minor": 5
}
