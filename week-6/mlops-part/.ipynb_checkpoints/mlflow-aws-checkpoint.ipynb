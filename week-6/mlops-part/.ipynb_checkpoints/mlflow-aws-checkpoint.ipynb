{
 "cells": [
  {
   "cell_type": "markdown",
   "id": "a0f90ccd",
   "metadata": {},
   "source": [
    "Here I am going to connect to run MLFlow or should I say 'tracking server' (what MLFlow in essence is) by using EC2 Linux instance as 'server', use production-grade database storage PostgreSQL instead of SQLite, and use S3 bucket to store artifacts.\n",
    "\n",
    "This kind of environment is useful when you are working in a team of Data Scientists on ML projects, where it would sound natural to connect to some centralized out-of-local-machine type of system where everybody can access and is up and running at glance. \n",
    "\n",
    "I wanted to play with it because there is so much to learn about some AWS services I've already encountered in the wild. It is worth mentionig that this is just a 'scenario' and maybe not a suitable option when there is high intensity traffic (imagine team of 20 Data Scientist who have multiple runs) aka it is not scalable. It sole purpose is to bring up a level of ML knowledge. \n",
    "\n",
    "---\n",
    "\n",
    "Quick refresher:\n",
    "\n",
    "The term \"server\" is more general and refers to a computer or system that provides services or resources to other computers, known as clients. A server can take various forms and serve different purposes depending on the context.\n",
    "\n",
    "In the case of MLflow's tracking server, it's not just a database. It's a component that provides a service for tracking and managing machine learning experiments. It does involve storage of data, such as experiment metadata, parameters, metrics, and artifacts, but it also includes functionality for organizing, querying, and serving this information.\n",
    "\n",
    "---\n",
    "\n",
    "## Why PostgreSQL instead of SQLite?\n",
    "\n",
    "Here's what you're storing in the SQLite database when you use MLflow with SQLite as the backend:\n",
    "\n",
    "**Experiment Metadata:** Information about each experiment, such as the experiment name, start time, and end time.\n",
    "\n",
    "**Run Metadata:** Details about each run within an experiment, including the run ID, start time, end time, source code version, and any tags associated with the run.\n",
    "\n",
    "**Parameters:** The values of parameters used in each run. These could be hyperparameters or any other parameters you log during your experiment.\n",
    "\n",
    "**Metrics:** The values of metrics that you log during the execution of your machine learning code.\n",
    "\n",
    "**Tags:** Any additional tags you attach to experiments or runs for better organization or categorization.\n",
    "\n",
    "**Artifacts:** **References or links to artifacts (files) produced during the run, such as model files, plots, or other output files.**\n",
    "\n",
    "\n",
    "The SQLite database serves as a lightweight, file-based database that stores this metadata. It provides a simple and self-contained solution for small to medium-scale projects. Keep in mind that for larger-scale or production-grade use cases, you might consider using other databases, such as MySQL or PostgreSQL, as the backend for MLflow's tracking server."
   ]
  },
  {
   "cell_type": "markdown",
   "id": "e13f7754",
   "metadata": {},
   "source": [
    "---\n",
    "\n",
    "Execute this:\n",
    "`sudo yum update`\n",
    "\n",
    "If there is no pip3 command on Amazon Linux EC2 instance do this first:\n",
    "\n",
    "`sudo yum -y install python-pip`\n",
    "\n",
    "`pip3 install mlflow boto3 psycopg2-binary`\n",
    "\n",
    "`aws configure`\n",
    "\n",
    "\n",
    "Be **very** careful at filling this:\n",
    "\n",
    "`mlflow server -h 0.0.0.0 -p 5000 --backend-store-uri postgresql://DB_USER:DB_PASSWORD@DB_ENDPOINT:5432/DB_NAME --default-artifact-root s3://S3_BUCKET_NAME`\n",
    "\n",
    "`DB_ENDPOINT` -> Found on the 'Connectivity and security' (`AWS RDS`)\n",
    "\n"
   ]
  },
  {
   "cell_type": "code",
   "execution_count": 1,
   "id": "917f2b03",
   "metadata": {},
   "outputs": [],
   "source": [
    "#To access the scope of preprocessing.py\n",
    "%run preprocessing.py"
   ]
  },
  {
   "cell_type": "code",
   "execution_count": 2,
   "id": "1c80ba45",
   "metadata": {},
   "outputs": [],
   "source": [
    "import mlflow\n",
    "import pickle\n",
    "import xgboost as xgb\n",
    "import os"
   ]
  },
  {
   "cell_type": "markdown",
   "id": "5723f059",
   "metadata": {},
   "source": [
    "Before doing the next step you have to run (localy, in the terminal):\n",
    "\n",
    "`aws configure --profile <name_of_your_profile>`\n",
    "\n",
    "**Note: It will ask you about AWS Access Key ID, AWS Secret Access Key and Default region name.\n",
    "When it asks you for Default output format just press Enter. If you forgot those credentials, create another one. :)**\n",
    "\n",
    "Then do quick check if the profile is created via:\n",
    "\n",
    "`cat ~/.aws/config`\n",
    "\n",
    "Next command will set the environment variable to "
   ]
  },
  {
   "cell_type": "code",
   "execution_count": 3,
   "id": "ba8d0ca7",
   "metadata": {},
   "outputs": [],
   "source": [
    "os.environ['AWS_PROFILE'] = 'practise'"
   ]
  },
  {
   "cell_type": "code",
   "execution_count": 4,
   "id": "9710aca8",
   "metadata": {},
   "outputs": [],
   "source": [
    "TRACKING_SERVER_HOST = 'ec2-16-171-154-38.eu-north-1.compute.amazonaws.com' #Not active anymore :)\n",
    "\n",
    "mlflow.set_tracking_uri(f\"http://{TRACKING_SERVER_HOST}:5000\")"
   ]
  },
  {
   "cell_type": "code",
   "execution_count": 5,
   "id": "6f230271",
   "metadata": {},
   "outputs": [
    {
     "name": "stdout",
     "output_type": "stream",
     "text": [
      "tracking URI: 'http://ec2-16-171-154-38.eu-north-1.compute.amazonaws.com:5000'\n"
     ]
    }
   ],
   "source": [
    "print(f\"tracking URI: '{mlflow.get_tracking_uri()}'\")"
   ]
  },
  {
   "cell_type": "code",
   "execution_count": 6,
   "id": "842ad7aa",
   "metadata": {},
   "outputs": [
    {
     "data": {
      "text/plain": [
       "[<Experiment: artifact_location='s3://mlops-bucket-v3/0', creation_time=1702927385651, experiment_id='0', last_update_time=1702927385651, lifecycle_stage='active', name='Default', tags={}>]"
      ]
     },
     "execution_count": 6,
     "metadata": {},
     "output_type": "execute_result"
    }
   ],
   "source": [
    "mlflow.search_experiments()"
   ]
  },
  {
   "cell_type": "code",
   "execution_count": 7,
   "id": "d3d77fdb",
   "metadata": {
    "scrolled": true
   },
   "outputs": [
    {
     "name": "stderr",
     "output_type": "stream",
     "text": [
      "2023/12/18 20:26:15 INFO mlflow.tracking.fluent: Experiment with name 'mlflow-aws' does not exist. Creating a new experiment.\n"
     ]
    },
    {
     "data": {
      "text/plain": [
       "<Experiment: artifact_location='s3://mlops-bucket-v3/1', creation_time=1702927575545, experiment_id='1', last_update_time=1702927575545, lifecycle_stage='active', name='mlflow-aws', tags={}>"
      ]
     },
     "execution_count": 7,
     "metadata": {},
     "output_type": "execute_result"
    }
   ],
   "source": [
    "mlflow.set_experiment(\"mlflow-aws\")"
   ]
  },
  {
   "cell_type": "code",
   "execution_count": 8,
   "id": "35f8b7b7",
   "metadata": {},
   "outputs": [],
   "source": [
    "best_params = {'learning_rate': 0.057786841452234214,\n",
    "               'max_depth': 5.0,\n",
    "               'min_child_weight': 11.353071298640767,\n",
    "               'reg_alpha': 0.008039345251325283,\n",
    "               'reg_lambda': 0.003694981097974786}"
   ]
  },
  {
   "cell_type": "code",
   "execution_count": 9,
   "id": "d7171888",
   "metadata": {},
   "outputs": [
    {
     "name": "stderr",
     "output_type": "stream",
     "text": [
      "2023/12/18 20:26:50 INFO mlflow.tracking.fluent: Autologging successfully enabled for sklearn.\n",
      "2023/12/18 20:26:50 INFO mlflow.tracking.fluent: Autologging successfully enabled for xgboost.\n"
     ]
    },
    {
     "name": "stdout",
     "output_type": "stream",
     "text": [
      "[0]\tvalidation_0-auc:0.76757\n",
      "[1]\tvalidation_0-auc:0.77520\n",
      "[2]\tvalidation_0-auc:0.79604\n",
      "[3]\tvalidation_0-auc:0.79677\n",
      "[4]\tvalidation_0-auc:0.80054\n",
      "[5]\tvalidation_0-auc:0.80208\n",
      "[6]\tvalidation_0-auc:0.80581\n",
      "[7]\tvalidation_0-auc:0.80793\n",
      "[8]\tvalidation_0-auc:0.80848\n",
      "[9]\tvalidation_0-auc:0.80954\n",
      "[10]\tvalidation_0-auc:0.81088\n",
      "[11]\tvalidation_0-auc:0.81302\n",
      "[12]\tvalidation_0-auc:0.81364\n",
      "[13]\tvalidation_0-auc:0.81375\n",
      "[14]\tvalidation_0-auc:0.81405\n",
      "[15]\tvalidation_0-auc:0.81445\n",
      "[16]\tvalidation_0-auc:0.81390\n",
      "[17]\tvalidation_0-auc:0.81454\n",
      "[18]\tvalidation_0-auc:0.81422\n",
      "[19]\tvalidation_0-auc:0.81418\n",
      "[20]\tvalidation_0-auc:0.81548\n",
      "[21]\tvalidation_0-auc:0.81538\n",
      "[22]\tvalidation_0-auc:0.81625\n",
      "[23]\tvalidation_0-auc:0.81737\n",
      "[24]\tvalidation_0-auc:0.81788\n",
      "[25]\tvalidation_0-auc:0.81759\n",
      "[26]\tvalidation_0-auc:0.81806\n",
      "[27]\tvalidation_0-auc:0.81847\n",
      "[28]\tvalidation_0-auc:0.81884\n",
      "[29]\tvalidation_0-auc:0.81919\n",
      "[30]\tvalidation_0-auc:0.81903\n",
      "[31]\tvalidation_0-auc:0.81933\n",
      "[32]\tvalidation_0-auc:0.81904\n",
      "[33]\tvalidation_0-auc:0.81925\n",
      "[34]\tvalidation_0-auc:0.81950\n",
      "[35]\tvalidation_0-auc:0.81963\n",
      "[36]\tvalidation_0-auc:0.81984\n",
      "[37]\tvalidation_0-auc:0.82013\n",
      "[38]\tvalidation_0-auc:0.82025\n",
      "[39]\tvalidation_0-auc:0.81991\n",
      "[40]\tvalidation_0-auc:0.81949\n",
      "[41]\tvalidation_0-auc:0.81950\n",
      "[42]\tvalidation_0-auc:0.82008\n",
      "[43]\tvalidation_0-auc:0.82040\n",
      "[44]\tvalidation_0-auc:0.82059\n",
      "[45]\tvalidation_0-auc:0.82077\n",
      "[46]\tvalidation_0-auc:0.82090\n",
      "[47]\tvalidation_0-auc:0.82093\n",
      "[48]\tvalidation_0-auc:0.82117\n",
      "[49]\tvalidation_0-auc:0.82114\n",
      "[50]\tvalidation_0-auc:0.82167\n",
      "[51]\tvalidation_0-auc:0.82175\n",
      "[52]\tvalidation_0-auc:0.82194\n",
      "[53]\tvalidation_0-auc:0.82194\n",
      "[54]\tvalidation_0-auc:0.82230\n",
      "[55]\tvalidation_0-auc:0.82222\n",
      "[56]\tvalidation_0-auc:0.82200\n",
      "[57]\tvalidation_0-auc:0.82242\n",
      "[58]\tvalidation_0-auc:0.82238\n",
      "[59]\tvalidation_0-auc:0.82260\n",
      "[60]\tvalidation_0-auc:0.82259\n",
      "[61]\tvalidation_0-auc:0.82263\n",
      "[62]\tvalidation_0-auc:0.82287\n",
      "[63]\tvalidation_0-auc:0.82272\n",
      "[64]\tvalidation_0-auc:0.82253\n",
      "[65]\tvalidation_0-auc:0.82261\n",
      "[66]\tvalidation_0-auc:0.82277\n",
      "[67]\tvalidation_0-auc:0.82277\n",
      "[68]\tvalidation_0-auc:0.82263\n",
      "[69]\tvalidation_0-auc:0.82245\n",
      "[70]\tvalidation_0-auc:0.82263\n",
      "[71]\tvalidation_0-auc:0.82251\n",
      "[72]\tvalidation_0-auc:0.82272\n",
      "[73]\tvalidation_0-auc:0.82234\n",
      "[74]\tvalidation_0-auc:0.82243\n",
      "[75]\tvalidation_0-auc:0.82261\n",
      "[76]\tvalidation_0-auc:0.82267\n",
      "[77]\tvalidation_0-auc:0.82279\n",
      "[78]\tvalidation_0-auc:0.82289\n",
      "[79]\tvalidation_0-auc:0.82316\n",
      "[80]\tvalidation_0-auc:0.82282\n",
      "[81]\tvalidation_0-auc:0.82267\n",
      "[82]\tvalidation_0-auc:0.82281\n",
      "[83]\tvalidation_0-auc:0.82263\n",
      "[84]\tvalidation_0-auc:0.82216\n",
      "[85]\tvalidation_0-auc:0.82217\n",
      "[86]\tvalidation_0-auc:0.82210\n",
      "[87]\tvalidation_0-auc:0.82209\n",
      "[88]\tvalidation_0-auc:0.82193\n",
      "[89]\tvalidation_0-auc:0.82186\n",
      "[90]\tvalidation_0-auc:0.82172\n",
      "[91]\tvalidation_0-auc:0.82157\n",
      "[92]\tvalidation_0-auc:0.82154\n",
      "[93]\tvalidation_0-auc:0.82151\n",
      "[94]\tvalidation_0-auc:0.82167\n",
      "[95]\tvalidation_0-auc:0.82185\n",
      "[96]\tvalidation_0-auc:0.82185\n",
      "[97]\tvalidation_0-auc:0.82176\n",
      "[98]\tvalidation_0-auc:0.82173\n",
      "[99]\tvalidation_0-auc:0.82167\n",
      "[100]\tvalidation_0-auc:0.82154\n",
      "[101]\tvalidation_0-auc:0.82131\n",
      "[102]\tvalidation_0-auc:0.82150\n",
      "[103]\tvalidation_0-auc:0.82168\n",
      "[104]\tvalidation_0-auc:0.82160\n",
      "[105]\tvalidation_0-auc:0.82168\n",
      "[106]\tvalidation_0-auc:0.82130\n",
      "[107]\tvalidation_0-auc:0.82133\n",
      "[108]\tvalidation_0-auc:0.82126\n",
      "[109]\tvalidation_0-auc:0.82111\n",
      "[110]\tvalidation_0-auc:0.82126\n",
      "[111]\tvalidation_0-auc:0.82132\n",
      "[112]\tvalidation_0-auc:0.82106\n",
      "[113]\tvalidation_0-auc:0.82107\n",
      "[114]\tvalidation_0-auc:0.82087\n",
      "[115]\tvalidation_0-auc:0.82076\n",
      "[116]\tvalidation_0-auc:0.82059\n",
      "[117]\tvalidation_0-auc:0.82069\n",
      "[118]\tvalidation_0-auc:0.82075\n",
      "[119]\tvalidation_0-auc:0.82054\n",
      "[120]\tvalidation_0-auc:0.82044\n",
      "[121]\tvalidation_0-auc:0.82030\n",
      "[122]\tvalidation_0-auc:0.82018\n",
      "[123]\tvalidation_0-auc:0.82000\n",
      "[124]\tvalidation_0-auc:0.82012\n",
      "[125]\tvalidation_0-auc:0.81974\n",
      "[126]\tvalidation_0-auc:0.81954\n",
      "[127]\tvalidation_0-auc:0.81952\n",
      "[128]\tvalidation_0-auc:0.81949\n",
      "[129]\tvalidation_0-auc:0.81937\n"
     ]
    },
    {
     "name": "stderr",
     "output_type": "stream",
     "text": [
      "2023/12/18 20:26:54 WARNING mlflow.utils.autologging_utils: MLflow autologging encountered a warning: \"/Users/goceovoono/Desktop/programming-stuff/data-general/jupyter-venv/lib/python3.9/site-packages/xgboost/core.py:160: UserWarning: [20:26:54] WARNING: /Users/runner/work/xgboost/xgboost/src/c_api/c_api.cc:1240: Saving into deprecated binary model format, please consider using `json` or `ubj`. Model format will default to JSON in XGBoost 2.2 if not specified.\"\n"
     ]
    }
   ],
   "source": [
    "with mlflow.start_run():\n",
    "        \n",
    "    \n",
    "        booster = xgb.XGBClassifier(\n",
    "            max_depth=int(best_params['max_depth']),\n",
    "            learning_rate=best_params['learning_rate'],\n",
    "            reg_alpha=best_params['reg_alpha'],\n",
    "            reg_lambda=best_params['reg_lambda'],\n",
    "            min_child_weight=best_params['min_child_weight'],\n",
    "            objective='binary:logistic',\n",
    "            eval_metric='auc',\n",
    "            seed=RANDOM_STATE,\n",
    "            n_estimators=1000,\n",
    "            early_stopping_rounds=50\n",
    "        )\n",
    "        \n",
    "        #Pickling the DictVectorizer\n",
    "        with open(\"./models/preprocessor.bin\", \"wb\") as f_out:\n",
    "            pickle.dump(dv, f_out)\n",
    "        \n",
    "        mlflow.autolog()\n",
    "        \n",
    "        \n",
    "        booster.fit(X_train, y_train,\n",
    "                    eval_set=[(X_valid, y_val)]\n",
    "                    )\n",
    "        \n",
    "        y_pred = booster.predict_proba(X_valid)[:, 1]\n",
    "        roc_auc = roc_auc_score(y_val, y_pred)\n",
    "\n",
    "        #Log the DictVectorizer as an artifact\n",
    "        mlflow.log_artifact(\"./models/preprocessor.bin\", artifact_path = \"preprocessors\")"
   ]
  }
 ],
 "metadata": {
  "kernelspec": {
   "display_name": "jupyter-venv",
   "language": "python",
   "name": "jupyter-venv"
  },
  "language_info": {
   "codemirror_mode": {
    "name": "ipython",
    "version": 3
   },
   "file_extension": ".py",
   "mimetype": "text/x-python",
   "name": "python",
   "nbconvert_exporter": "python",
   "pygments_lexer": "ipython3",
   "version": "3.9.7"
  }
 },
 "nbformat": 4,
 "nbformat_minor": 5
}
